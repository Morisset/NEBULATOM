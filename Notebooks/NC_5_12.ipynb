{
 "cells": [
  {
   "cell_type": "markdown",
   "metadata": {},
   "source": [
    "# FIRST STEPS WITH CLOUDY"
   ]
  },
  {
   "cell_type": "markdown",
   "metadata": {},
   "source": [
    "## The line list in Cloudy"
   ]
  },
  {
   "cell_type": "markdown",
   "metadata": {},
   "source": [
    "### Produce the entire list of lines computed by Cloudy and save it to a file"
   ]
  },
  {
   "cell_type": "markdown",
   "metadata": {},
   "source": [
    "##### We write a Cloudy input file that contains only a call to the smoke test and an instruction to print the line list into a given file."
   ]
  },
  {
   "cell_type": "code",
   "execution_count": 1,
   "metadata": {
    "collapsed": false
   },
   "outputs": [
    {
     "name": "stdout",
     "output_type": "stream",
     "text": [
      "Overwriting all_lines.in\n"
     ]
    }
   ],
   "source": [
    "%%writefile all_lines.in\n",
    "test\n",
    "save line labels \"_C17.01.txt\"\n"
   ]
  },
  {
   "cell_type": "markdown",
   "metadata": {},
   "source": [
    "##### The exclamation mark is used to send command to the OSX/Linux shell. You have to add the location of the directory where cloudy.exe is to your PATH variable (in your $HOME/.bashrc for example."
   ]
  },
  {
   "cell_type": "code",
   "execution_count": 2,
   "metadata": {
    "collapsed": false
   },
   "outputs": [
    {
     "name": "stdout",
     "output_type": "stream",
     "text": [
      "test\r\n",
      "save line labels \"_C17.01.txt\""
     ]
    }
   ],
   "source": [
    "! cat all_lines.in"
   ]
  },
  {
   "cell_type": "code",
   "execution_count": 3,
   "metadata": {
    "collapsed": false
   },
   "outputs": [],
   "source": [
    "! cloudy.exe -p all_lines"
   ]
  },
  {
   "cell_type": "markdown",
   "metadata": {},
   "source": [
    "##### We can check that there are new all_lines* files."
   ]
  },
  {
   "cell_type": "code",
   "execution_count": 4,
   "metadata": {
    "collapsed": false
   },
   "outputs": [
    {
     "name": "stdout",
     "output_type": "stream",
     "text": [
      "all_lines.in         all_lines.out        all_lines_C17.01.txt\r\n"
     ]
    }
   ],
   "source": [
    "! ls all_lines*"
   ]
  },
  {
   "cell_type": "markdown",
   "metadata": {},
   "source": [
    "### ??? If you are interested in the [O II] $\\lambda$ 3727 line, which line(s) from the line list should you consider? Which lines of [O III] are available in the line list? What is the label of [O III ] $\\lambda$ 4363? Which HeI 5876 line is to be used in usual runs?"
   ]
  },
  {
   "cell_type": "markdown",
   "metadata": {},
   "source": [
    "## Find the atomic data used by Cloudy"
   ]
  },
  {
   "cell_type": "markdown",
   "metadata": {},
   "source": [
    "### Create a file containing all the references for the atomic data used in the current version of Cloudy."
   ]
  },
  {
   "cell_type": "code",
   "execution_count": 5,
   "metadata": {
    "collapsed": false
   },
   "outputs": [
    {
     "name": "stdout",
     "output_type": "stream",
     "text": [
      "Overwriting data_used.in\n"
     ]
    }
   ],
   "source": [
    "%%writefile data_used.in\n",
    "test\n",
    "database print\n"
   ]
  },
  {
   "cell_type": "code",
   "execution_count": 6,
   "metadata": {
    "collapsed": true
   },
   "outputs": [],
   "source": [
    "! cloudy.exe -p data_used"
   ]
  },
  {
   "cell_type": "code",
   "execution_count": 7,
   "metadata": {
    "collapsed": false
   },
   "outputs": [
    {
     "name": "stdout",
     "output_type": "stream",
     "text": [
      "-rw-------  1 christophemorisset  staff      19 May 14 12:48 data_used.in\r\n",
      "-rw-------  1 christophemorisset  staff  286581 May 14 12:49 data_used.out\r\n"
     ]
    }
   ],
   "source": [
    "!ls -l data_used.*"
   ]
  },
  {
   "cell_type": "markdown",
   "metadata": {},
   "source": [
    "### ??? Check whether the references for the transition probabilities and collision strengths for [O II], [O III], [N II], [Ne III],[S II], [S II], and [Ar IV] are the same as for the default version of Pyneb."
   ]
  },
  {
   "cell_type": "markdown",
   "metadata": {},
   "source": [
    "## Some simple runs with Cloudy"
   ]
  },
  {
   "cell_type": "markdown",
   "metadata": {},
   "source": [
    "##### Remember that you must always check that the mod- els ran OK. This is especially important when run- ning grids of models. The output file should end with ‘Cloudy exited OK’. "
   ]
  },
  {
   "cell_type": "markdown",
   "metadata": {},
   "source": [
    "### __Model 1__. Read the instructions in Sects. 2.1 and 2.2 in docs/QuickStart.pdf Run the simple planetary nebula model of Sect. 2.1 of Quickstart.  The ionizing source is a blackbody of temperature 10$^5$ K and luminosity 10$^{38}$ erg s$^{−1}$.  The inner radius of the nebula is 10$^{18}$ cm and its hydrogen density is 10$^5$. The chemical composition is the standard planetary nebula of Cloudy."
   ]
  },
  {
   "cell_type": "markdown",
   "metadata": {},
   "source": [
    "##### We write a Cloudy input file on the disk. It contains all the parameters to run a simple model. Notice the two empty lines at the end of the cell."
   ]
  },
  {
   "cell_type": "code",
   "execution_count": 8,
   "metadata": {
    "collapsed": false
   },
   "outputs": [
    {
     "name": "stdout",
     "output_type": "stream",
     "text": [
      "Overwriting M5_1.in\n"
     ]
    }
   ],
   "source": [
    "%%writefile M5_1.in\n",
    "blackbody T=1e5\n",
    "luminosity total 38\n",
    "radius 18\n",
    "hden 5\n",
    "abundances planetary nebulae\n",
    "save overview \".ovr\"\n",
    "\n"
   ]
  },
  {
   "cell_type": "markdown",
   "metadata": {},
   "source": [
    "##### We run the model. "
   ]
  },
  {
   "cell_type": "code",
   "execution_count": 9,
   "metadata": {
    "collapsed": false
   },
   "outputs": [],
   "source": [
    "! cloudy.exe -p M5_1"
   ]
  },
  {
   "cell_type": "markdown",
   "metadata": {},
   "source": [
    "##### We check that new output files are produced. Notice that ls is an ipython command too."
   ]
  },
  {
   "cell_type": "code",
   "execution_count": null,
   "metadata": {
    "collapsed": false
   },
   "outputs": [],
   "source": [
    "ls -l M5_1.*"
   ]
  },
  {
   "cell_type": "markdown",
   "metadata": {},
   "source": [
    "### ??? Is the chemical composition used by Cloudy as you expected? Look at the intensity predicted for [O III] $\\lambda$ 5007.  Is it typical of planetary nebulae? Does the He II $\\lambda$ 4686/H$\\beta$ ratio correspond to the expected one following Eq. 5 of Stasinska et al. (2015)?  Why? "
   ]
  },
  {
   "cell_type": "code",
   "execution_count": null,
   "metadata": {
    "collapsed": false
   },
   "outputs": [],
   "source": [
    "logU = np.log10((10**47.9224 + 10**47.971 + 10**47.0452 + 10**36.9991)/\n",
    "                (4. * np.pi * 1e18**2 * 1e5 * pn.CST.CLIGHT  ))\n",
    "print logU # This U is very small for a PN"
   ]
  },
  {
   "cell_type": "markdown",
   "metadata": {},
   "source": [
    "### ??? Estimate the age of the PN assuming an expansion velocity of 20 km/sec."
   ]
  },
  {
   "cell_type": "code",
   "execution_count": null,
   "metadata": {
    "collapsed": false
   },
   "outputs": [],
   "source": [
    "age = 1e18 /1e5 / 20 /3600 / 24 / 365\n",
    "print(age)"
   ]
  },
  {
   "cell_type": "markdown",
   "metadata": {},
   "source": [
    "##### a PN with such an age would have a density much smaller tham 10^5 cm^-3"
   ]
  },
  {
   "cell_type": "code",
   "execution_count": null,
   "metadata": {
    "collapsed": false
   },
   "outputs": [],
   "source": [
    "!fgrep 5007 M5_1.out"
   ]
  },
  {
   "cell_type": "code",
   "execution_count": null,
   "metadata": {
    "collapsed": false
   },
   "outputs": [],
   "source": [
    "!fgrep 4686 M5_1.out"
   ]
  },
  {
   "cell_type": "markdown",
   "metadata": {},
   "source": [
    "### __Model 2__. Run the same model, now specifying the ionization parameter to be 10$^{−2.5}$ instead of giving the inner radius and the total luminosity."
   ]
  },
  {
   "cell_type": "markdown",
   "metadata": {},
   "source": [
    "##### We write a new input file on the disk."
   ]
  },
  {
   "cell_type": "code",
   "execution_count": null,
   "metadata": {
    "collapsed": false
   },
   "outputs": [],
   "source": [
    "%%writefile M5_2.in\n",
    "blackbody T=1e5\n",
    "ionization parameter -2.5\n",
    "hden 5\n",
    "abundances planetary nebulae\n",
    "save overview \".ovr\"\n",
    "\n"
   ]
  },
  {
   "cell_type": "markdown",
   "metadata": {},
   "source": [
    "##### The cloudy.exe program has been linked to $HOME/bin for easier and more direct acces."
   ]
  },
  {
   "cell_type": "code",
   "execution_count": null,
   "metadata": {
    "collapsed": false
   },
   "outputs": [],
   "source": [
    "! cloudy.exe -p M5_2"
   ]
  },
  {
   "cell_type": "markdown",
   "metadata": {},
   "source": [
    "### ??? Is the geometry assumed by Cloudy the one you wanted? How have the values of the mean ionisation (over radius * electron density) changed ? Why? Does the He II $\\lambda$ 4686/Hβ ratio now correspond to the expected one following Eq. 5 of Stasinska et al. (2015)? Why?"
   ]
  },
  {
   "cell_type": "code",
   "execution_count": null,
   "metadata": {
    "collapsed": false
   },
   "outputs": [],
   "source": [
    "!fgrep 5007 M5_2.out"
   ]
  },
  {
   "cell_type": "code",
   "execution_count": null,
   "metadata": {
    "collapsed": false
   },
   "outputs": [],
   "source": [
    "!fgrep 4686 M5_2.out"
   ]
  },
  {
   "cell_type": "markdown",
   "metadata": {},
   "source": [
    "### __Model 3__. Run the same model as Model 2, now using the Solar abundances from Asplund et al. (2009) for He, C, N, O, Ne, Mg, Si, S, Ar, Fe which, in units of 12+log X/H are, respectively 10.93, 8.43, 7.83, O 8.69, 7.93, 7.60, 7.12,6.40, 7.50."
   ]
  },
  {
   "cell_type": "code",
   "execution_count": null,
   "metadata": {
    "collapsed": false
   },
   "outputs": [],
   "source": [
    "%%writefile M5_3.in\n",
    "blackbody T=1e5\n",
    "ionization parameter -2.5\n",
    "hden 5\n",
    "element abundance Helium -1.\n",
    "element abundance Nitrogen -4.17\n",
    "element abundance Carbon -3.57\n",
    "element abundance Oxygen -3.31\n",
    "element abundance Neon -4.07\n",
    "element abundance Sulphur -4.88\n",
    "element abundance Argon -5.600\n",
    "element abundance Iron -4.500\n",
    "save overview \".ovr\"\n",
    "\n"
   ]
  },
  {
   "cell_type": "code",
   "execution_count": null,
   "metadata": {
    "collapsed": false
   },
   "outputs": [],
   "source": [
    "! cloudy.exe -p M5_3"
   ]
  },
  {
   "cell_type": "markdown",
   "metadata": {},
   "source": [
    "### ??? How were chosen the abundances that you did not specify? What about grains?"
   ]
  },
  {
   "cell_type": "code",
   "execution_count": null,
   "metadata": {
    "collapsed": false
   },
   "outputs": [],
   "source": [
    "%%writefile M5_3b.in\n",
    "blackbody T=1e5\n",
    "ionization parameter -2.5\n",
    "hden 5\n",
    "abundances all -20\n",
    "element abundance Helium -1.\n",
    "element abundance Nitrogen -4.17\n",
    "element abundance Carbon -3.57\n",
    "element abundance Oxygen -3.31\n",
    "element abundance Neon -4.07\n",
    "element abundance Sulphur -4.88\n",
    "element abundance Argon -5.600\n",
    "element abundance Iron -4.500\n",
    "element abundance Aluminium -5.500\n",
    "save overview \".ovr\"\n",
    "\n"
   ]
  },
  {
   "cell_type": "code",
   "execution_count": null,
   "metadata": {
    "collapsed": false
   },
   "outputs": [],
   "source": [
    "! cloudy.exe -p M5_3b"
   ]
  },
  {
   "cell_type": "markdown",
   "metadata": {},
   "source": [
    "### __Model 4__. Run the same model as Model 3, now adopting a blackbody temperature of 50,000K."
   ]
  },
  {
   "cell_type": "code",
   "execution_count": null,
   "metadata": {
    "collapsed": false
   },
   "outputs": [],
   "source": [
    "%%writefile M5_4.in\n",
    "blackbody T=5e4\n",
    "ionization parameter -2.5\n",
    "hden 5\n",
    "abundances all -20\n",
    "element abundance Helium -1.\n",
    "element abundance Nitrogen -4.17\n",
    "element abundance Carbon -3.57\n",
    "element abundance Oxygen -3.31\n",
    "element abundance Neon -4.07\n",
    "element abundance Sulphur -4.88\n",
    "element abundance Argon -5.600\n",
    "element abundance Iron -4.500\n",
    "element abundance Aluminium -5.500\n",
    "save overview \".ovr\"\n",
    "\n"
   ]
  },
  {
   "cell_type": "code",
   "execution_count": null,
   "metadata": {
    "collapsed": false
   },
   "outputs": [],
   "source": [
    "! cloudy.exe -p M5_4"
   ]
  },
  {
   "cell_type": "markdown",
   "metadata": {},
   "source": [
    "### ??? Comment on the ionisation structure and the average electron temperature. Search for the intensities of the following lines: Halpha, [NII] 6584, [OII] 3727, [OIII] 5007, [OIII] 4363, and [OIV] 26m."
   ]
  },
  {
   "cell_type": "raw",
   "metadata": {},
   "source": [
    "MODEL       M5 3b   M5 4\n",
    "T*           1e5     5e4\n",
    "Te         11500    9280 \n",
    "O+/O        0.14    0.37\n",
    "O++/O       0.78    0.61\n",
    "Hbeta       1.00    1.00\n",
    "Halpha      2.80    2.86\n",
    "[NII] 6584  0.41    0.38\n",
    "[OII] 3727  0.25    0.26\n",
    "[OIII] 5007 15.1    5.42\n",
    "[OIII] 4363 .219    0.038\n",
    "[OIV] 26m   .043    NaN\n",
    "4363/5007  0.014    0.007"
   ]
  },
  {
   "cell_type": "markdown",
   "metadata": {},
   "source": [
    "### __Model 5__. Run the same model as Model 4, now adopting an hydrogen density of 10 cm$^{-3}$."
   ]
  },
  {
   "cell_type": "code",
   "execution_count": null,
   "metadata": {
    "collapsed": false
   },
   "outputs": [],
   "source": [
    "%%writefile M5_5.in\n",
    "blackbody T=5e4\n",
    "ionization parameter -2.5\n",
    "hden 1\n",
    "abundances all -20\n",
    "element abundance Helium -1.\n",
    "element abundance Nitrogen -4.17\n",
    "element abundance Carbon -3.57\n",
    "element abundance Oxygen -3.31\n",
    "element abundance Neon -4.07\n",
    "element abundance Sulphur -4.88\n",
    "element abundance Argon -5.600\n",
    "element abundance Iron -4.500\n",
    "element abundance Aluminium -5.500\n",
    "save overview \".ovr\"\n",
    "\n"
   ]
  },
  {
   "cell_type": "code",
   "execution_count": null,
   "metadata": {
    "collapsed": false
   },
   "outputs": [],
   "source": [
    "! cloudy.exe -p M5_5"
   ]
  },
  {
   "cell_type": "markdown",
   "metadata": {},
   "source": [
    "### ??? How did the intensities of the most important line change with respect to Model 4. Why?"
   ]
  },
  {
   "cell_type": "raw",
   "metadata": {},
   "source": [
    "MODEL       M5 3    M5 4   M5 5\n",
    "nH           1e5     1e5    1e3   \n",
    "T*           1e5     5e4    5e4 \n",
    "Te         11500    9280   6990\n",
    "O+/O        0.14    0.37   0.40\n",
    "O++/O       0.78    0.61   0.58\n",
    "Hbeta       1.00    1.00   1.00\n",
    "Halpha      2.80    2.86   2.98\n",
    "[NII] 6584  0.41    0.38   0.46\n",
    "[OII] 3727  0.25    0.26   1.27\n",
    "[OIII] 5007 15.1    5.42   1.82\n",
    "[OIII] 4363 .219    0.038  0.003\n",
    "[OIV] 26m   .043    NaN    0.007\n",
    "4363/5007  0.014    0.007  0.0016"
   ]
  },
  {
   "cell_type": "markdown",
   "metadata": {},
   "source": [
    "### __Model 6__. Run the same model as Model 5, now trying to save on execution time."
   ]
  },
  {
   "cell_type": "code",
   "execution_count": null,
   "metadata": {
    "collapsed": false
   },
   "outputs": [],
   "source": [
    "%%writefile M5_6.in\n",
    "blackbody T=5e4\n",
    "ionization parameter -2.5\n",
    "hden 1\n",
    "abundances all -20\n",
    "element abundance Helium -1.\n",
    "element abundance Nitrogen -4.17\n",
    "element abundance Carbon -3.57\n",
    "element abundance Oxygen -3.31\n",
    "element abundance Neon -4.07\n",
    "element abundance Sulphur -4.88\n",
    "element abundance Argon -5.600\n",
    "element abundance Iron -4.500\n",
    "element abundance Aluminium -5.500\n",
    "element limit off -7\n",
    "no molecules\n",
    "no level2 lines\n",
    "no fine opacities\n",
    "atom h-like levels small\n",
    "atom he-like levels small\n",
    "save overview \".ovr\"\n",
    "\n"
   ]
  },
  {
   "cell_type": "code",
   "execution_count": null,
   "metadata": {
    "collapsed": false
   },
   "outputs": [],
   "source": [
    "! cloudy.exe -p M5_6"
   ]
  },
  {
   "cell_type": "markdown",
   "metadata": {},
   "source": [
    "### ??? By how much was your execution time reduced? Are the results virtually identical to the ones of Model 5? In particular, comment on the intensity of the He I $\\lambda$ 5876 line."
   ]
  },
  {
   "cell_type": "raw",
   "metadata": {},
   "source": [
    "MODEL       M5 3    M5 4   M5 5  M5 6 \n",
    "                                 Fast\n",
    "nH         1e5      1e5     1e3   \n",
    "T*           1e5     5e4    5e4 \n",
    "Te         11300    9280   6990  \n",
    "O+/O        0.14    0.37   0.40\n",
    "O++/O       0.78    0.61   0.58\n",
    "Hbeta       1.00    1.00   1.00\n",
    "Halpha      2.80    2.86   2.98  2.98\n",
    "HeI 5876                   0.155 0.165\n",
    "[NII] 6584  0.41    0.38   0.46\n",
    "[OII] 3727  0.25    0.26   1.27\n",
    "[OIII] 5007 15.1    5.42   1.82\n",
    "[OIII] 4363 .219    0.038  0.003\n",
    "[OIV] 26m   .043    NaN    0.007\n",
    "4363/5007  0.014    0.007  0.0016"
   ]
  },
  {
   "cell_type": "markdown",
   "metadata": {},
   "source": [
    "### __Model 7__. Run the same model as Model 6, now adding 0.35 dex to the abundances of the heavy elements."
   ]
  },
  {
   "cell_type": "code",
   "execution_count": null,
   "metadata": {
    "collapsed": false
   },
   "outputs": [],
   "source": [
    "%%writefile M5_7.in\n",
    "blackbody T=5e4\n",
    "ionization parameter -2.5\n",
    "hden 1\n",
    "abundances all -20\n",
    "element abundance Helium -1.\n",
    "element abundance Nitrogen -3.87 #-4.17\n",
    "element abundance Carbon -3.27 #-3.57\n",
    "element abundance Oxygen -3.01 #-3.31\n",
    "element abundance Neon -3.77 # -4.07\n",
    "element abundance Sulphur -4.58 #-4.88\n",
    "element abundance Argon -5.30 #-5.600\n",
    "element abundance Iron -4.20 #-4.500\n",
    "element abundance Aluminium -5.200 #-5.500\n",
    "element limit off -7\n",
    "no molecules\n",
    "no level2 lines\n",
    "no fine opacities\n",
    "atom h-like levels small\n",
    "atom he-like levels small\n",
    "save overview \".ovr\"\n",
    "\n"
   ]
  },
  {
   "cell_type": "code",
   "execution_count": null,
   "metadata": {
    "collapsed": false
   },
   "outputs": [],
   "source": [
    "! cloudy.exe -p M5_7"
   ]
  },
  {
   "cell_type": "markdown",
   "metadata": {},
   "source": [
    "### ???Comment on the results."
   ]
  },
  {
   "cell_type": "raw",
   "metadata": {},
   "source": [
    "MODEL       M5 3    M5 4   M5 5  M5 7\n",
    "                                 Z*2\n",
    "nH           1e5    1e5    1e3   \n",
    "T*           1e5    5e4    5e4 \n",
    "Te         11300    9280   6990  3840\n",
    "O+/O        0.14    0.37   0.37  0.25 \n",
    "O++/O       0.78    0.61   0.61  0.74\n",
    "Hbeta       1.00    1.00   1.00  1.00\n",
    "Halpha      2.80    2.86   2.98  3.53 \n",
    "[NII] 6584  0.41    0.38   0.46  0.023\n",
    "[OII] 3727  0.25    0.26   1.27  0.048\n",
    "[OIII] 5007 15.1    5.42   1.82  0.15\n",
    "[OIII] 4363 .219    0.038  0.003  NaN\n",
    "[OIV] 26m   .043    NaN    0.007 0.227\n",
    "4363/5007  0.014    0.007  0.0016 NaN    "
   ]
  },
  {
   "cell_type": "markdown",
   "metadata": {},
   "source": [
    "### __Model 8__. Run the same model as Model 7 correcting the problem of Model 7 (if you find there was one),"
   ]
  },
  {
   "cell_type": "code",
   "execution_count": null,
   "metadata": {
    "collapsed": false
   },
   "outputs": [],
   "source": [
    "%%writefile M5_8.in\n",
    "blackbody T=5e4\n",
    "ionization parameter -2.5\n",
    "hden 1\n",
    "abundances all -20\n",
    "element abundance Helium -1.\n",
    "element abundance Nitrogen -3.87 #-4.17\n",
    "element abundance Carbon -3.27 #-3.57\n",
    "element abundance Oxygen -3.01 #-3.31\n",
    "element abundance Neon -3.77 # -4.07\n",
    "element abundance Sulphur -4.58 #-4.88\n",
    "element abundance Argon -5.30 #-5.600\n",
    "element abundance Iron -4.20 #-4.500\n",
    "element abundance Aluminium -5.200 #-5.500\n",
    "no molecules\n",
    "no level2 lines\n",
    "no fine opacities\n",
    "atom h-like levels small\n",
    "atom he-like levels small\n",
    "element limit off -7\n",
    "stop temperature 100\n",
    "save overview \".ovr\"\n",
    "\n"
   ]
  },
  {
   "cell_type": "code",
   "execution_count": null,
   "metadata": {
    "collapsed": false
   },
   "outputs": [],
   "source": [
    "! cloudy.exe -p M5_8"
   ]
  },
  {
   "cell_type": "markdown",
   "metadata": {},
   "source": [
    "### ??? How did the intensities change with respect to Model 7? What is now the execution time?"
   ]
  },
  {
   "cell_type": "raw",
   "metadata": {},
   "source": [
    "MODEL       M5 3    M5 4   M5 5  M5 7   M5 8\n",
    "                                        Tcut=100\n",
    "                                 Z*2   \n",
    "nH         1e5      1e5     1e3   \n",
    "T*           1e5     5e4    5e4 \n",
    "Te         11300    9280   6990   3840   4330\n",
    "O+/O        0.14    0.37   0.37   0.25   0.49\n",
    "O++/O       0.78    0.61   0.61   0.74   0.48\n",
    "Hbeta       1.00    1.00   1.00   1.00   1.00\n",
    "Halpha      2.80    2.86   2.98   3.53   3.13\n",
    "[NII] 6584  0.41    0.38   0.46   0.023  0.20\n",
    "[OI]  6300                        NaN    0.003  \n",
    "[OII] 3727  0.25    0.26   1.27   0.048  0.22\n",
    "[OIII] 5007 15.1    5.42   1.82   0.15   0.20\n",
    "[OIII] 4363 .219    0.038  0.003  NaN    NaN\n",
    "[OIV] 26m   .043    NaN    0.007  0.227  0.0099\n",
    "4363/5007  0.014    0.007  0.0016 NaN    NaN"
   ]
  },
  {
   "cell_type": "markdown",
   "metadata": {},
   "source": [
    "### ??? General comments on this exercise: What are important things you need to check when running Cloudy?"
   ]
  },
  {
   "cell_type": "code",
   "execution_count": null,
   "metadata": {
    "collapsed": false
   },
   "outputs": [],
   "source": [
    "# the following is to have the nice style in the Notebook.\n",
    "# Don't remove this.\n",
    "from IPython.core.display import HTML\n",
    "def css_styling():\n",
    "    styles = open(\"./styles/custom.css\", \"r\").read()\n",
    "    return HTML(styles)\n",
    "css_styling()"
   ]
  },
  {
   "cell_type": "code",
   "execution_count": null,
   "metadata": {
    "collapsed": true
   },
   "outputs": [],
   "source": []
  }
 ],
 "metadata": {
  "kernelspec": {
   "display_name": "Python 3",
   "language": "python",
   "name": "python3"
  },
  "language_info": {
   "codemirror_mode": {
    "name": "ipython",
    "version": 3
   },
   "file_extension": ".py",
   "mimetype": "text/x-python",
   "name": "python",
   "nbconvert_exporter": "python",
   "pygments_lexer": "ipython3",
   "version": "3.6.1"
  }
 },
 "nbformat": 4,
 "nbformat_minor": 0
}

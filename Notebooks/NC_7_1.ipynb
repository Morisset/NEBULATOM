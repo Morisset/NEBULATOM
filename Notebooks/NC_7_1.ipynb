{
 "cells": [
  {
   "cell_type": "markdown",
   "metadata": {},
   "source": [
    "# MODEL GRIDS WITH PYCLOUDY"
   ]
  },
  {
   "cell_type": "markdown",
   "metadata": {},
   "source": [
    "## Global budget"
   ]
  },
  {
   "cell_type": "code",
   "execution_count": 1,
   "metadata": {
    "collapsed": false
   },
   "outputs": [],
   "source": [
    "%matplotlib inline\n",
    "import numpy as np\n",
    "import matplotlib.pyplot as plt\n",
    "import pyCloudy as pc\n",
    "pc.config.cloudy_exe = 'cloudy.exe'\n",
    "models_dir = '../../Models/'"
   ]
  },
  {
   "cell_type": "markdown",
   "metadata": {},
   "source": [
    "### Construct a series of plane-parallel models of density n = 100 cm$^{-3}$ ionized by a blackbody at 50,000 K, varying log U between -3.5 and -1.5 by steps of 0.5 dex and the metallicity as 12 + log O/H from 7 to 9 by steps of 0.5 dex (take He/H =0.1 for all the models and adopt the solar abundance ratios from Asplund et al. (2009) for all the heavy elements)."
   ]
  },
  {
   "cell_type": "markdown",
   "metadata": {},
   "source": [
    "##### We define some function to prepare and run the grid of Cloudy models."
   ]
  },
  {
   "cell_type": "code",
   "execution_count": 35,
   "metadata": {
    "collapsed": false
   },
   "outputs": [],
   "source": [
    "options = ('no molecules',\n",
    "           'no level2 lines',\n",
    "           'no fine opacities',\n",
    "           'atom h-like levels small',\n",
    "           'atom he-like levels small',\n",
    "           'element limit off -7',\n",
    "            )\n",
    "from pyCloudy.utils.physics import abund_Asplund_2009\n",
    "\n",
    "def get_R_in_Q0(logU, fr, NH=100, ff=1.0):\n",
    "    c = pc.CST.CLIGHT\n",
    "    U_mean = 10**logU\n",
    "    w = (1 + fr**3.)**(1./3) - fr\n",
    "    alpha_B = 2.6e-13\n",
    "    Q0 = 4. * np.pi * c**3 * U_mean**3 / (3. * NH * ff**2 * alpha_B**2 * w**3)\n",
    "    R_str = (3. * Q0 / (4 * np.pi * NH**2 * alpha_B * ff))**(1./3)\n",
    "    R_in = fr * R_str\n",
    "    return R_in, Q0\n",
    "\n",
    "def make_mod(name, logU, ab_O):\n",
    "    NH = 100\n",
    "    ff = 0.1\n",
    "    fr = 3.00\n",
    "    R_in, Q0 = get_R_in_Q0(logU, fr=fr, NH=NH, ff=ff)\n",
    "    c_input = pc.CloudyInput('{0}/{1}'.format(models_dir, name))\n",
    "    c_input.set_BB(Teff = 50000., lumi_unit = 'q(H)', lumi_value = np.log10(Q0))\n",
    "    c_input.set_cste_density(np.log10(NH), ff = ff)\n",
    "    c_input.set_radius(r_in = np.log10(R_in))\n",
    "    abund = abund_Asplund_2009.copy()\n",
    "    delta_O = ab_O - 12 - abund['O']\n",
    "    for elem in abund:\n",
    "        if elem != 'He':\n",
    "            abund[elem] += delta_O\n",
    "    c_input.set_abund(ab_dict = abund)\n",
    "    #c_input.set_grains('Orion {}'.format(10**delta_O))\n",
    "    c_input.set_distance(dist=1., unit='kpc', linear=True)\n",
    "    c_input.set_other(options)\n",
    "    c_input.set_stop(('temperature off', 'pfrac 0.02'))\n",
    "    c_input.print_input()"
   ]
  },
  {
   "cell_type": "code",
   "execution_count": 44,
   "metadata": {
    "collapsed": false
   },
   "outputs": [],
   "source": [
    "generic_name = 'M7nd_'"
   ]
  },
  {
   "cell_type": "markdown",
   "metadata": {},
   "source": [
    "##### We prepare the models"
   ]
  },
  {
   "cell_type": "code",
   "execution_count": 37,
   "metadata": {
    "collapsed": false
   },
   "outputs": [],
   "source": [
    "for logU in np.arange(-3.5, -1.49, 0.5):\n",
    "    for ab_O in np.arange(7, 9.1, 0.5):\n",
    "        name = '{}{:.1f}_{:.1f}'.format(generic_name, logU, ab_O)\n",
    "        make_mod(name, logU, ab_O)"
   ]
  },
  {
   "cell_type": "markdown",
   "metadata": {},
   "source": [
    "##### We run the models."
   ]
  },
  {
   "cell_type": "code",
   "execution_count": 39,
   "metadata": {
    "collapsed": false
   },
   "outputs": [],
   "source": [
    "pc.run_cloudy(dir_=models_dir, n_proc=8, model_name=generic_name)"
   ]
  },
  {
   "cell_type": "markdown",
   "metadata": {},
   "source": [
    "##### We read the models in a list."
   ]
  },
  {
   "cell_type": "code",
   "execution_count": 45,
   "metadata": {
    "collapsed": false
   },
   "outputs": [],
   "source": [
    "Msnd = pc.load_models('{}/{}'.format(models_dir, generic_name),\n",
    "                    read_emis = False)"
   ]
  },
  {
   "cell_type": "code",
   "execution_count": 49,
   "metadata": {
    "collapsed": false
   },
   "outputs": [
    {
     "name": "stdout",
     "output_type": "stream",
     "text": [
      "[<Cloudy model from ../../Models/M7nd_-1.5_7.0>, <Cloudy model from ../../Models/M7nd_-1.5_7.5>, <Cloudy model from ../../Models/M7nd_-1.5_8.0>, <Cloudy model from ../../Models/M7nd_-1.5_8.5>, <Cloudy model from ../../Models/M7nd_-1.5_9.0>, <Cloudy model from ../../Models/M7nd_-2.0_7.0>, <Cloudy model from ../../Models/M7nd_-2.0_7.5>, <Cloudy model from ../../Models/M7nd_-2.0_8.0>, <Cloudy model from ../../Models/M7nd_-2.0_8.5>, <Cloudy model from ../../Models/M7nd_-2.0_9.0>, <Cloudy model from ../../Models/M7nd_-2.5_7.0>, <Cloudy model from ../../Models/M7nd_-2.5_7.5>, <Cloudy model from ../../Models/M7nd_-2.5_8.0>, <Cloudy model from ../../Models/M7nd_-2.5_8.5>, <Cloudy model from ../../Models/M7nd_-2.5_9.0>, <Cloudy model from ../../Models/M7nd_-3.0_7.0>, <Cloudy model from ../../Models/M7nd_-3.0_7.5>, <Cloudy model from ../../Models/M7nd_-3.0_8.0>, <Cloudy model from ../../Models/M7nd_-3.0_8.5>, <Cloudy model from ../../Models/M7nd_-3.0_9.0>, <Cloudy model from ../../Models/M7nd_-3.5_7.0>, <Cloudy model from ../../Models/M7nd_-3.5_7.5>, <Cloudy model from ../../Models/M7nd_-3.5_8.0>, <Cloudy model from ../../Models/M7nd_-3.5_8.5>, <Cloudy model from ../../Models/M7nd_-3.5_9.0>]\n"
     ]
    }
   ],
   "source": [
    "print(Msnd)"
   ]
  },
  {
   "cell_type": "code",
   "execution_count": 29,
   "metadata": {
    "collapsed": false
   },
   "outputs": [
    {
     "name": "stdout",
     "output_type": "stream",
     "text": [
      " Name of the model: ../../Models/M7_-1.5_7.0\n",
      " R_in (cut) = 2.992e+22 (2.992e+22), R_out (cut) = 3.045e+22 (3.045e+22)\n",
      " H+ mass = 5.06e+10, H mass = 5.09e+10\n",
      " <H+/H> = 1.00, <He++/He> = 0.00, <He+/He> = 1.00\n",
      " <O+++/O> = 0.00, <O++/O> = 0.97, <O+/O> = 0.03\n",
      " <N+++/O> = 0.14, <N++/O> = 0.84, <N+/O> = 0.02\n",
      " T(O+++) = 21382, T(O++) = 19233, T(O+) = 16967\n",
      " <ne> = 108,  <nH> = 100, T0 = 19158, t2=0.0028\n",
      " <log U> = -1.50\n"
     ]
    }
   ],
   "source": [
    "M = Ms[0]\n",
    "M.print_stats()"
   ]
  },
  {
   "cell_type": "code",
   "execution_count": 30,
   "metadata": {
    "collapsed": false
   },
   "outputs": [
    {
     "data": {
      "text/plain": [
       "{'###First': ' ####  1  Te:2.218E+04 Hden:1.000E+02 Ne:1.118E+02 R:2.992E+22 R-R0:9.336E+14 dR:1.867E+15 NTR:  8 Htot:1.944E-20 T912: 1.11e-05###\\n',\n",
       " '###Last': ' ####192  Te:8.014E+03 Hden:1.000E+02 Ne:2.499E+00 R:3.045E+22 R-R0:5.287E+20 dR:2.423E+16 NTR:  7 Htot:8.989E-23 T912: 2.11e+02###\\n',\n",
       " 'Blackbody': '                       * Blackbody 50000.000000                                                          *\\n',\n",
       " 'Chem1': '        H :  0.0000  He: -1.0700  C : -5.2600  N : -5.8600  O : -5.0000  Ne: -5.7600  Mg: -6.0900  Si: -6.1800  S : -6.5700\\n',\n",
       " 'Chem2': '                                                            Fe: -6.1900\\n',\n",
       " 'Chem3': ' \\n',\n",
       " 'Chem4': '                                                    Grain Chemical Composition\\n',\n",
       " 'Cloudy ends': ' Cloudy ends: 192 zones, 1 iteration, 2 cautions. (single thread) ExecTime(s) 35.42\\n',\n",
       " 'D/G': ' Dust to gas ratio (by mass): 1.157e-04, A(V)/N(H)(pnt):1.132e-23, (ext):8.193e-24, R:3.676e+00 AV(ext):4.331e-02 (pnt):5.987e-02\\n',\n",
       " 'Hbeta': 'H  1      4861.36A   44.650    1.0000      He 1      4.04953m   42.741    0.0123      N  2      1084.58A   41.867    0.0016\\n',\n",
       " 'SED1': '           L(nu>1ryd):  46.5447   Average nu:1.490E+00   L( X-ray):  23.2529   L(BalC):  46.3974     Q(Balmer C):  57.2734\\n',\n",
       " 'SED2': '           Q(1.0-1.8):  56.9396   Q(1.8-4.0):  56.3179   Q(4.0-20):  53.9214   Q(20--):  32.5949     Ion pht flx:9.589E+10\\n',\n",
       " 'SED3': '           L(gam ray):   0.0000   Q(gam ray):   0.0000   L(Infred):  45.0543   Alf(ox):   0.0000     Total lumin:  46.7864\\n',\n",
       " 'SED4': '           log L/Lsun:  13.2034   Abs bol mg: -28.2660   Abs V mag: -24.0360   Bol cor:  -4.2300     nuFnu(Bbet):  45.1560\\n',\n",
       " 'SED5': '           U(1.0----):3.199E-02   U(4.0----):2.474E-05   T(En-Den):1.244E+01   T(Comp):4.790E+04     nuJnu(912A):3.695E+00\\n',\n",
       " 'SED6': '           Occ(FarIR):3.988E-07   Occ(H n=6):4.188E-14   Occ(1Ryd):1.705E-16   Occ(4R):1.230E-20     Occ (Nu-hi):0.000E+00\\n',\n",
       " 'SED7': '           Tbr(FarIR):1.917E-10   Tbr(H n=6):1.834E-10   Tbr(1Ryd):2.690E-11   Tbr(4R):7.779E-15     Tbr (Nu-hi):0.000E+00\\n',\n",
       " 'distance': '                       * distance = 1000.0 parsecs linear                                                *\\n',\n",
       " 'hden': '                       * hden = 2.000                                                                    *\\n',\n",
       " 'iterate': ' C-I must iterate when save continuum output is done.\\n',\n",
       " 'stop': '   Calculation stopped because low H_+/H fraction. Iteration 1 of 1\\n'}"
      ]
     },
     "execution_count": 30,
     "metadata": {},
     "output_type": "execute_result"
    }
   ],
   "source": [
    "M.out"
   ]
  },
  {
   "cell_type": "markdown",
   "metadata": {},
   "source": [
    "##### We verify that the Hbeta flux is available from the CloudyModel object."
   ]
  },
  {
   "cell_type": "code",
   "execution_count": 31,
   "metadata": {
    "collapsed": false
   },
   "outputs": [
    {
     "name": "stdout",
     "output_type": "stream",
     "text": [
      "44.65\n"
     ]
    }
   ],
   "source": [
    "print(np.float(pc.sextract(Ms[0].out['Hbeta'], 'H  1      4861.36A', '1.000').strip()))"
   ]
  },
  {
   "cell_type": "markdown",
   "metadata": {},
   "source": [
    "##### We define the variables to be plotted. They are mainly obtained by looping on the models, using list comprehension technic."
   ]
  },
  {
   "cell_type": "code",
   "execution_count": 47,
   "metadata": {
    "collapsed": false
   },
   "outputs": [],
   "source": [
    "x = np.array([M.log_U_mean for M in Ms])\n",
    "logHb = np.array([np.float(pc.sextract(M.out['Hbeta'], 'H  1      4861.36A', '1.000').strip()) for M in Ms])\n",
    "logQ = np.log10(np.array([M.Q.sum() for M in Ms]))\n",
    "y = logHb - logQ\n",
    "c = 12+np.array([M.abund['O'] for M in Ms])"
   ]
  },
  {
   "cell_type": "code",
   "execution_count": 57,
   "metadata": {
    "collapsed": true
   },
   "outputs": [],
   "source": [
    "x2 = np.array([M.log_U_mean for M in Msnd])\n",
    "logHb2 = np.array([np.float(pc.sextract(M.out['Hbeta'], 'H  1      4861.36A', '1.000').strip()) for M in Msnd])\n",
    "logQ2 = np.log10(np.array([M.Q.sum() for M in Msnd]))\n",
    "y2 = logHb2 - logQ2\n",
    "c2 = 12+np.array([M.abund['O'] for M in Msnd])"
   ]
  },
  {
   "cell_type": "code",
   "execution_count": 60,
   "metadata": {
    "collapsed": false
   },
   "outputs": [
    {
     "data": {
      "image/png": "[encoded data removed]",
      "text/plain": [
       "<matplotlib.figure.Figure at 0x1153be890>"
      ]
     },
     "metadata": {},
     "output_type": "display_data"
    }
   ],
   "source": [
    "f, ax = plt.subplots(figsize=(9, 9))\n",
    "sc = ax.scatter(x, y, c=c, edgecolor='none', s=50)\n",
    "sc2 = ax.scatter(x2+0.1, y2, c=c2, edgecolor='none', s=50, marker='d')\n",
    "ax.set_xlabel('<logU>')\n",
    "ax.set_ylabel(r'log L(H$\\beta$)/Q$_ H$')\n",
    "cb = f.colorbar(sc2)\n",
    "cb.set_label(r'12+log(O/H)')"
   ]
  },
  {
   "cell_type": "code",
   "execution_count": null,
   "metadata": {
    "collapsed": false
   },
   "outputs": [],
   "source": [
    "# the following is to have the nice style in the Notebook.\n",
    "# Don't remove this.\n",
    "from IPython.core.display import HTML\n",
    "def css_styling():\n",
    "    styles = open(\"./styles/custom.css\", \"r\").read()\n",
    "    return HTML(styles)\n",
    "css_styling()"
   ]
  }
 ],
 "metadata": {
  "kernelspec": {
   "display_name": "Python 2",
   "language": "python",
   "name": "python2"
  },
  "language_info": {
   "codemirror_mode": {
    "name": "ipython",
    "version": 2
   },
   "file_extension": ".py",
   "mimetype": "text/x-python",
   "name": "python",
   "nbconvert_exporter": "python",
   "pygments_lexer": "ipython2",
   "version": "2.7.11"
  }
 },
 "nbformat": 4,
 "nbformat_minor": 0
}

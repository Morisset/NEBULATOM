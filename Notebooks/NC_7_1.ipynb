{
 "cells": [
  {
   "cell_type": "markdown",
   "metadata": {},
   "source": [
    "# MODEL GRIDS WITH PYCLOUDY"
   ]
  },
  {
   "cell_type": "markdown",
   "metadata": {},
   "source": [
    "## Global budget"
   ]
  },
  {
   "cell_type": "code",
   "execution_count": 1,
   "metadata": {
    "collapsed": false
   },
   "outputs": [],
   "source": [
    "%matplotlib inline\n",
    "import numpy as np\n",
    "import matplotlib.pyplot as plt\n",
    "import pyCloudy as pc\n",
    "pc.config.cloudy_exe = 'cloudy.exe'\n",
    "models_dir = '/DATA/NEBULATOM17'"
   ]
  },
  {
   "cell_type": "markdown",
   "metadata": {},
   "source": [
    "### Construct a series of plane-parallel models of density n = 100 cm$^{-3}$ ionized by a blackbody at 50,000 K, varying log U between -3.5 and -1.5 by steps of 0.5 dex and the metallicity as 12 + log O/H from 7 to 9 by steps of 0.5 dex (take He/H =0.1 for all the models and adopt the solar abundance ratios from Asplund et al. (2009) for all the heavy elements)."
   ]
  },
  {
   "cell_type": "markdown",
   "metadata": {},
   "source": [
    "##### We define some function to prepare and run the grid of Cloudy models."
   ]
  },
  {
   "cell_type": "code",
   "execution_count": 2,
   "metadata": {
    "collapsed": false
   },
   "outputs": [],
   "source": [
    "options = ('no molecules',\n",
    "           'no level2 lines',\n",
    "           'no fine opacities',\n",
    "           'atom h-like levels small',\n",
    "           'atom he-like levels small',\n",
    "           'element limit off -7',\n",
    "            )\n",
    "from pyCloudy.utils.physics import abund_Asplund_2009\n",
    "\n",
    "def get_R_in_Q0(logU, fr, NH=100, ff=1.0):\n",
    "    c = pc.CST.CLIGHT\n",
    "    U_mean = 10**logU\n",
    "    w = (1 + fr**3.)**(1./3) - fr\n",
    "    alpha_B = 2.6e-13\n",
    "    Q0 = 4. * np.pi * c**3 * U_mean**3 / (3. * NH * ff**2 * alpha_B**2 * w**3)\n",
    "    R_str = (3. * Q0 / (4 * np.pi * NH**2 * alpha_B * ff))**(1./3)\n",
    "    R_in = fr * R_str\n",
    "    return R_in, Q0\n",
    "\n",
    "def make_mod(name, logU, ab_O):\n",
    "    NH = 100\n",
    "    ff = 0.1\n",
    "    fr = 10.00\n",
    "    R_in, Q0 = get_R_in_Q0(logU, fr=fr, NH=NH, ff=ff)\n",
    "    c_input = pc.CloudyInput('{0}/{1}'.format(models_dir, name))\n",
    "    c_input.set_BB(Teff = 50000., lumi_unit = 'q(H)', lumi_value = np.log10(Q0))\n",
    "    c_input.set_cste_density(np.log10(NH), ff = ff)\n",
    "    c_input.set_radius(r_in = np.log10(R_in))\n",
    "    abund = abund_Asplund_2009.copy()\n",
    "    delta_O = ab_O - 12 - abund['O']\n",
    "    for elem in abund:\n",
    "        if elem != 'He':\n",
    "            abund[elem] += delta_O\n",
    "    c_input.set_abund(ab_dict = abund)\n",
    "    c_input.set_grains('Orion {}'.format(10**delta_O))\n",
    "    c_input.set_distance(dist=1., unit='kpc', linear=True)\n",
    "    c_input.set_other(options)\n",
    "    c_input.set_stop(('temperature off', 'pfrac 0.02'))\n",
    "    c_input.print_input()"
   ]
  },
  {
   "cell_type": "code",
   "execution_count": 3,
   "metadata": {
    "collapsed": false
   },
   "outputs": [],
   "source": [
    "generic_name = 'M7_'"
   ]
  },
  {
   "cell_type": "markdown",
   "metadata": {},
   "source": [
    "##### We prepare the models"
   ]
  },
  {
   "cell_type": "code",
   "execution_count": 4,
   "metadata": {
    "collapsed": false
   },
   "outputs": [],
   "source": [
    "for logU in np.arange(-3.5, -1.49, 0.5):\n",
    "    for ab_O in np.arange(7, 9.1, 0.5):\n",
    "        name = '{}{:.1f}_{:.1f}'.format(generic_name, logU, ab_O)\n",
    "        make_mod(name, logU, ab_O)"
   ]
  },
  {
   "cell_type": "markdown",
   "metadata": {},
   "source": [
    "##### We run the models."
   ]
  },
  {
   "cell_type": "code",
   "execution_count": 6,
   "metadata": {
    "collapsed": false
   },
   "outputs": [],
   "source": [
    "pc.run_cloudy(dir_=models_dir, n_proc=8, model_name=generic_name)"
   ]
  },
  {
   "cell_type": "markdown",
   "metadata": {},
   "source": [
    "##### We read the models in a list."
   ]
  },
  {
   "cell_type": "code",
   "execution_count": 5,
   "metadata": {
    "collapsed": false
   },
   "outputs": [],
   "source": [
    "Ms = pc.load_models('{}/{}'.format(models_dir, generic_name),\n",
    "                    read_emis = False)"
   ]
  },
  {
   "cell_type": "markdown",
   "metadata": {},
   "source": [
    "##### We verify that the Hbeta flux is available from the CloudyModel object."
   ]
  },
  {
   "cell_type": "code",
   "execution_count": 7,
   "metadata": {
    "collapsed": false
   },
   "outputs": [
    {
     "name": "stdout",
     "output_type": "stream",
     "text": [
      "41.794\n"
     ]
    }
   ],
   "source": [
    "print(np.float(pc.sextract(Ms[0].out['Hbeta'], 'H  1      4861.36A', '1.000').strip()))"
   ]
  },
  {
   "cell_type": "markdown",
   "metadata": {},
   "source": [
    "##### We define the variables to be plotted. They are mainly obtained by looping on the models, using list comprehension technic."
   ]
  },
  {
   "cell_type": "code",
   "execution_count": 8,
   "metadata": {
    "collapsed": false
   },
   "outputs": [],
   "source": [
    "x = np.array([M.log_U_mean for M in Ms])\n",
    "logHb = np.array([np.float(pc.sextract(M.out['Hbeta'], 'H  1      4861.36A', '1.000').strip()) for M in Ms])\n",
    "logQ = np.log10(np.array([M.Q.sum() for M in Ms]))\n",
    "y = logHb - logQ\n",
    "c = 12+np.array([M.abund['O'] for M in Ms])"
   ]
  },
  {
   "cell_type": "code",
   "execution_count": 9,
   "metadata": {
    "collapsed": false
   },
   "outputs": [
    {
     "data": {
      "image/png": "[encoded data removed]",
      "text/plain": [
       "<matplotlib.figure.Figure at 0x7f0f91345f10>"
      ]
     },
     "metadata": {},
     "output_type": "display_data"
    }
   ],
   "source": [
    "f, ax = plt.subplots(figsize=(9, 9))\n",
    "sc = ax.scatter(x, y, c=c, edgecolor='none', s=50)\n",
    "ax.set_xlabel('<logU>')\n",
    "ax.set_ylabel(r'log L(H$\\beta$)/Q$_ H$')\n",
    "cb = f.colorbar(sc)\n",
    "cb.set_label(r'12+log(O/H)')"
   ]
  },
  {
   "cell_type": "code",
   "execution_count": 10,
   "metadata": {
    "collapsed": false
   },
   "outputs": [
    {
     "data": {
      "text/html": [
       "<style>\n",
       "    @font-face {\n",
       "        font-family: \"Computer Modern\";\n",
       "        src: url('http://9dbb143991406a7c655e-aa5fcb0a5a4ec34cff238a2d56ca4144.r56.cf5.rackcdn.com/cmunss.otf');\n",
       "    }\n",
       "    @font-face {\n",
       "        font-family: \"Computer Modern\";\n",
       "        font-weight: bold;\n",
       "        src: url('http://9dbb143991406a7c655e-aa5fcb0a5a4ec34cff238a2d56ca4144.r56.cf5.rackcdn.com/cmunsx.otf');\n",
       "    }\n",
       "    @font-face {\n",
       "        font-family: \"Computer Modern\";\n",
       "        font-style: oblique;\n",
       "        src: url('http://9dbb143991406a7c655e-aa5fcb0a5a4ec34cff238a2d56ca4144.r56.cf5.rackcdn.com/cmunsi.otf');\n",
       "    }\n",
       "    @font-face {\n",
       "        font-family: \"Computer Modern\";\n",
       "        font-weight: bold;\n",
       "        font-style: oblique;\n",
       "        src: url('http://9dbb143991406a7c655e-aa5fcb0a5a4ec34cff238a2d56ca4144.r56.cf5.rackcdn.com/cmunso.otf');\n",
       "    }\n",
       "    div.cell{\n",
       "        width:800px;\n",
       "        margin-left:16% !important;\n",
       "        margin-right:auto;\n",
       "    }\n",
       "    div.text_cell_render{\n",
       "        font-family: Computer Modern, \"Helvetica Neue\", Arial, Helvetica, Geneva, sans-serif;\n",
       "        line-height: 145%;\n",
       "        font-size: 130%;\n",
       "        width:800px;\n",
       "        margin-left:auto;\n",
       "        margin-right:auto;\n",
       "    }\n",
       "    h1 {\n",
       "        font-family: Helvetica, serif;\n",
       "    }\n",
       "    \n",
       "    h3{\n",
       "        margin-top:12px;\n",
       "        margin-bottom: 3px;\n",
       "        margin-left: -10px;\n",
       "        background-color: #fcf2f2;\n",
       "        border-color: #dFb5b4;\n",
       "        border-left: 5px solid #dfb5b4;\n",
       "        padding: 0.5em;\n",
       "        font-weight:normal;\n",
       "    }\n",
       "    div.text_cell_render h3 {\n",
       "     font-size: 14pt;\n",
       "     font-weight:normal;\n",
       "    }\n",
       "    div.text_cell_render h5 {\n",
       "        font-size: 12pt;\n",
       "        color: #4057A1;\n",
       "        font-style: italic;\n",
       "        font-weight:normal;\n",
       "        margin-bottom: .0em;\n",
       "        margin-top: 0.0em;\n",
       "        display: block;\n",
       "    }\n",
       "    .CodeMirror{\n",
       "            font-family: \"Source Code Pro\", source-code-pro,Consolas, monospace;\n",
       "    }\n",
       "#    .prompt{\n",
       "#        display: None;\n",
       "#    }\n",
       "    .warning{\n",
       "        color: rgb( 240, 20, 20 )\n",
       "        }  \n",
       "</style>\n",
       "<script>\n",
       "    MathJax.Hub.Config({\n",
       "                        TeX: {\n",
       "                           extensions: [\"AMSmath.js\"]\n",
       "                           },\n",
       "                tex2jax: {\n",
       "                    inlineMath: [ ['$','$'], [\"\\\\(\",\"\\\\)\"] ],\n",
       "                    displayMath: [ ['$$','$$'], [\"\\\\[\",\"\\\\]\"] ]\n",
       "                },\n",
       "                displayAlign: 'center', // Change this to 'center' to center equations.\n",
       "                \"HTML-CSS\": {\n",
       "                    styles: {'.MathJax_Display': {\"margin\": 4}}\n",
       "                }\n",
       "        });\n",
       "</script>\n"
      ],
      "text/plain": [
       "<IPython.core.display.HTML object>"
      ]
     },
     "execution_count": 10,
     "metadata": {},
     "output_type": "execute_result"
    }
   ],
   "source": [
    "# the following is to have the nice style in the Notebook.\n",
    "# Don't remove this.\n",
    "from IPython.core.display import HTML\n",
    "def css_styling():\n",
    "    styles = open(\"./styles/custom.css\", \"r\").read()\n",
    "    return HTML(styles)\n",
    "css_styling()"
   ]
  }
 ],
 "metadata": {
  "kernelspec": {
   "display_name": "Python 2",
   "language": "python",
   "name": "python2"
  },
  "language_info": {
   "codemirror_mode": {
    "name": "ipython",
    "version": 2
   },
   "file_extension": ".py",
   "mimetype": "text/x-python",
   "name": "python",
   "nbconvert_exporter": "python",
   "pygments_lexer": "ipython2",
   "version": "2.7.11"
  }
 },
 "nbformat": 4,
 "nbformat_minor": 0
}

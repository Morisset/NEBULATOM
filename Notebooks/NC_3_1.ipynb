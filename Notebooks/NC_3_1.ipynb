{
 "cells": [
  {
   "cell_type": "markdown",
   "metadata": {},
   "source": [
    "# PLASMA DIAGNOSTICS"
   ]
  },
  {
   "cell_type": "markdown",
   "metadata": {},
   "source": [
    "## A catalogue of isoratios for plasma diagnostics"
   ]
  },
  {
   "cell_type": "markdown",
   "metadata": {},
   "source": [
    "#### Consider the following ions: C$^{++}$, N$^{+}$, O$^{+}$, O$^{++}$, Ne$^{++}$, S$^{+}$, S$^{++}$, Cl$^{++}$, and Ar$^{3+}$."
   ]
  },
  {
   "cell_type": "markdown",
   "metadata": {},
   "source": [
    "### For each of them, find line pairs that are susceptible to be easily observed (either in the UV, the optical or the IR domain) and to give temperature and/or density diagnostics. Note: some line pairs are strictly equivalent from the point of view of the plasma diagnostics. e.g. [O III] $\\lambda$ 4363/[O III ] $\\lambda$ 5007 and [O III] $\\lambda$ 4363/[O III] $\\lambda$ 4959. In that case, consider only the one involving the strongest line, i.e., in this case [O III ] $\\lambda$ 4363/[O III] $\\lambda$ 5007."
   ]
  },
  {
   "cell_type": "markdown",
   "metadata": {},
   "source": [
    "##### We first import some useful libraries."
   ]
  },
  {
   "cell_type": "code",
   "execution_count": null,
   "metadata": {
    "collapsed": false
   },
   "outputs": [],
   "source": [
    "%matplotlib inline\n",
    "import numpy as np\n",
    "import pyneb as pn\n",
    "import matplotlib.pyplot as plt"
   ]
  },
  {
   "cell_type": "markdown",
   "metadata": {},
   "source": [
    "##### We ask PyNeb for all the ratio diagnostics that it manages."
   ]
  },
  {
   "cell_type": "code",
   "execution_count": null,
   "metadata": {
    "collapsed": false
   },
   "outputs": [],
   "source": [
    "for d in np.sort(list(pn.diags_dict.keys())):\n",
    "    print(d)"
   ]
  },
  {
   "cell_type": "code",
   "execution_count": null,
   "metadata": {
    "collapsed": false
   },
   "outputs": [],
   "source": [
    "print(pn.diags_dict['[OIII] 4363/5007+'])"
   ]
  },
  {
   "cell_type": "markdown",
   "metadata": {},
   "source": [
    "### For each of these pairs, construct an isoratio plot. Save the result."
   ]
  },
  {
   "cell_type": "code",
   "execution_count": null,
   "metadata": {
    "collapsed": false
   },
   "outputs": [],
   "source": [
    "# Select a maximum of 25 diagnostics\n",
    "diags = ['[ArIII] 5192/7136', \n",
    "         '[ArIII] 9.0m/21.8m',\n",
    "         '[ArIV] 4740/4711',\n",
    "         '[CIII] 1909/1907',\n",
    "         '[ClIII] 5538/5518',\n",
    "         '[NII] 121m/20.5m',\n",
    "         '[NII] 5755/6584',\n",
    "         '[NeIII] 15.6m/36.0m',\n",
    "         '[NeIII] 3343/3930+',\n",
    "         '[NeV] 14.3m/24.2m',\n",
    "         '[NeV] 2973/3370+',\n",
    "         '[OI] 5577/6300+',\n",
    "         '[OI] 63m/147m',\n",
    "         '[OII] 3726/3729',\n",
    "         '[OII] 3727+/7325+',\n",
    "         '[OIII] 1664+/5007',\n",
    "         '[OIII] 5007/88m', \n",
    "         '[OIII] 4363/5007',\n",
    "         '[OIV] 1400+/25.9m',\n",
    "         '[OIV] 1401/1405',\n",
    "         '[SII] 4072+/6720+',\n",
    "         '[SII] 4069/4076', \n",
    "         '[SII] 6731/6716',\n",
    "         '[SIII] 6312/9069',\n",
    "         '[SIII] 18.7m/33.5m'\n",
    "         ] \n",
    "# Build the 25 subplots\n",
    "f, axes = plt.subplots(5, 5, figsize=(20,20))\n",
    "# loop on the diagnostics\n",
    "for i, d in enumerate(diags):\n",
    "    # extract from the diagnostic dictionnary \n",
    "    # the expression to be evaluated\n",
    "    to_eval = pn.diags_dict[d][1]\n",
    "    atom = pn.diags_dict[d][0]\n",
    "    # split e.g. obtain 'O', 3 from 'O3'\n",
    "    elem, spec = pn.utils.misc.parseAtom(atom)\n",
    "    # instantiate the EmisGrid object for the given ion \n",
    "    EG = pn.EmisGrid(elem, spec)\n",
    "    # select the axis in which to plot\n",
    "    ax = axes.ravel()[i]\n",
    "    # make the plot\n",
    "    EG.plotContours(to_eval = to_eval, ax=ax)\n",
    "# Make the plot nicer\n",
    "f.tight_layout()\n",
    "# Save the result in a pdf file\n",
    "f.savefig('Diagnostics.pdf')"
   ]
  },
  {
   "cell_type": "markdown",
   "metadata": {},
   "source": [
    "### ??? Looking at these plots, for each of them find the temperature/density domain where they are useful for plasma diagnostics."
   ]
  },
  {
   "cell_type": "markdown",
   "metadata": {},
   "source": [
    "##### We plot the Grotrian diagram to see where the lines are coming from."
   ]
  },
  {
   "cell_type": "code",
   "execution_count": null,
   "metadata": {
    "collapsed": false
   },
   "outputs": [],
   "source": [
    "f, ax = plt.subplots(figsize=(12,8))\n",
    "O2 = pn.Atom('O',2)\n",
    "O2.plotGrotrian(ax=ax)"
   ]
  },
  {
   "cell_type": "markdown",
   "metadata": {},
   "source": [
    "##### From the critical densities, we can have an idea of the density range."
   ]
  },
  {
   "cell_type": "code",
   "execution_count": null,
   "metadata": {
    "collapsed": false
   },
   "outputs": [],
   "source": [
    "print(O2.getCritDensity(tem=1e4))"
   ]
  },
  {
   "cell_type": "markdown",
   "metadata": {},
   "source": [
    "##### We can use a method in Atom to obtain the minimum and maximum densities between which the diagnostic as a meaning."
   ]
  },
  {
   "cell_type": "code",
   "execution_count": null,
   "metadata": {
    "collapsed": false
   },
   "outputs": [],
   "source": [
    "help(O2.getDensityRange)"
   ]
  },
  {
   "cell_type": "code",
   "execution_count": null,
   "metadata": {
    "collapsed": false
   },
   "outputs": [],
   "source": [
    "print(O2.getDensityRange(to_eval='L(3726)/L(3729)'))"
   ]
  },
  {
   "cell_type": "code",
   "execution_count": 1,
   "metadata": {
    "collapsed": false
   },
   "outputs": [
    {
     "data": {
      "text/html": [
       "<style>\n",
       "    @font-face {\n",
       "        font-family: \"Computer Modern\";\n",
       "        src: url('http://9dbb143991406a7c655e-aa5fcb0a5a4ec34cff238a2d56ca4144.r56.cf5.rackcdn.com/cmunss.otf');\n",
       "    }\n",
       "    @font-face {\n",
       "        font-family: \"Computer Modern\";\n",
       "        font-weight: bold;\n",
       "        src: url('http://9dbb143991406a7c655e-aa5fcb0a5a4ec34cff238a2d56ca4144.r56.cf5.rackcdn.com/cmunsx.otf');\n",
       "    }\n",
       "    @font-face {\n",
       "        font-family: \"Computer Modern\";\n",
       "        font-style: oblique;\n",
       "        src: url('http://9dbb143991406a7c655e-aa5fcb0a5a4ec34cff238a2d56ca4144.r56.cf5.rackcdn.com/cmunsi.otf');\n",
       "    }\n",
       "    @font-face {\n",
       "        font-family: \"Computer Modern\";\n",
       "        font-weight: bold;\n",
       "        font-style: oblique;\n",
       "        src: url('http://9dbb143991406a7c655e-aa5fcb0a5a4ec34cff238a2d56ca4144.r56.cf5.rackcdn.com/cmunso.otf');\n",
       "    }\n",
       "    div.cell{\n",
       "        width:800px;\n",
       "        margin-left:16% !important;\n",
       "        margin-right:auto;\n",
       "    }\n",
       "    div.text_cell_render{\n",
       "        font-family: Computer Modern, \"Helvetica Neue\", Arial, Helvetica, Geneva, sans-serif;\n",
       "        line-height: 145%;\n",
       "        font-size: 130%;\n",
       "        width:800px;\n",
       "        margin-left:auto;\n",
       "        margin-right:auto;\n",
       "    }\n",
       "    h1 {\n",
       "        font-family: Helvetica, serif;\n",
       "    }\n",
       "    \n",
       "    h3{\n",
       "        margin-top:12px;\n",
       "        margin-bottom: 3px;\n",
       "        margin-left: -10px;\n",
       "        background-color: #fcf2f2;\n",
       "        border-color: #dFb5b4;\n",
       "        border-left: 5px solid #dfb5b4;\n",
       "        padding: 0.5em;\n",
       "        font-weight:normal;\n",
       "    }\n",
       "    div.text_cell_render h3 {\n",
       "     font-size: 14pt;\n",
       "     font-weight:normal;\n",
       "    }\n",
       "    div.text_cell_render h5 {\n",
       "        font-size: 12pt;\n",
       "        color: #4057A1;\n",
       "        font-style: italic;\n",
       "        font-weight:normal;\n",
       "        margin-bottom: .0em;\n",
       "        margin-top: 0.0em;\n",
       "        display: block;\n",
       "    }\n",
       "    .CodeMirror{\n",
       "            font-family: \"Source Code Pro\", source-code-pro,Consolas, monospace;\n",
       "    }\n",
       "#    .prompt{\n",
       "#        display: None;\n",
       "#    }\n",
       "    .warning{\n",
       "        color: rgb( 240, 20, 20 )\n",
       "        }  \n",
       "</style>\n",
       "<script>\n",
       "    MathJax.Hub.Config({\n",
       "                        TeX: {\n",
       "                           extensions: [\"AMSmath.js\"]\n",
       "                           },\n",
       "                tex2jax: {\n",
       "                    inlineMath: [ ['$','$'], [\"\\\\(\",\"\\\\)\"] ],\n",
       "                    displayMath: [ ['$$','$$'], [\"\\\\[\",\"\\\\]\"] ]\n",
       "                },\n",
       "                displayAlign: 'center', // Change this to 'center' to center equations.\n",
       "                \"HTML-CSS\": {\n",
       "                    styles: {'.MathJax_Display': {\"margin\": 4}}\n",
       "                }\n",
       "        });\n",
       "</script>\n"
      ],
      "text/plain": [
       "<IPython.core.display.HTML object>"
      ]
     },
     "execution_count": 1,
     "metadata": {},
     "output_type": "execute_result"
    }
   ],
   "source": [
    "# the following is to have the nice style.\n",
    "from IPython.core.display import HTML\n",
    "def css_styling():\n",
    "    styles = open(\"./styles/custom.css\", \"r\").read()\n",
    "    return HTML(styles)\n",
    "css_styling()"
   ]
  },
  {
   "cell_type": "code",
   "execution_count": null,
   "metadata": {
    "collapsed": true
   },
   "outputs": [],
   "source": []
  }
 ],
 "metadata": {
  "kernelspec": {
   "display_name": "Python 2",
   "language": "python",
   "name": "python2"
  },
  "language_info": {
   "codemirror_mode": {
    "name": "ipython",
    "version": 2
   },
   "file_extension": ".py",
   "mimetype": "text/x-python",
   "name": "python",
   "nbconvert_exporter": "python",
   "pygments_lexer": "ipython2",
   "version": "2.7.11"
  }
 },
 "nbformat": 4,
 "nbformat_minor": 0
}

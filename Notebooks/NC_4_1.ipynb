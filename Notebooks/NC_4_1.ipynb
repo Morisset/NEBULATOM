{
 "cells": [
  {
   "cell_type": "markdown",
   "metadata": {},
   "source": [
    "# ABUNDANCES DERIVATIONS WITH THE DIRECT METHOD"
   ]
  },
  {
   "cell_type": "markdown",
   "metadata": {},
   "source": [
    "## The chemical composition of IC 2165"
   ]
  },
  {
   "cell_type": "code",
   "execution_count": null,
   "metadata": {
    "collapsed": false
   },
   "outputs": [],
   "source": [
    "%matplotlib inline\n",
    "import matplotlib.pyplot as plt\n",
    "import numpy as np\n",
    "import pyneb as pn\n",
    "from pyneb.utils.physics import IP\n",
    "from pyneb.utils.misc import parseAtom\n",
    "pn.log_.level=1\n"
   ]
  },
  {
   "cell_type": "markdown",
   "metadata": {},
   "source": [
    "### ??? Using the plasma diagnostics diagram for IC 2165 estimate the following parameters: ne([O II]), ne([Ar IV]), Te([N II]), Te([O III]) from the optical data only."
   ]
  },
  {
   "cell_type": "markdown",
   "metadata": {},
   "source": [
    "##### We use the following values."
   ]
  },
  {
   "cell_type": "code",
   "execution_count": null,
   "metadata": {
    "collapsed": false
   },
   "outputs": [],
   "source": [
    "# Fill the following with values determined in the previous section\n",
    "Ne_O2 = 10**3.6\n",
    "Ne_Ar4 = 10**3.4\n",
    "T_N2 = 13500.\n",
    "T_O3 = 14000. "
   ]
  },
  {
   "cell_type": "markdown",
   "metadata": {},
   "source": [
    "### ??? Determine the ionic abundances for N, O, Ne ions. "
   ]
  },
  {
   "cell_type": "markdown",
   "metadata": {},
   "source": [
    "### ??? Justify your choice of temperature and density to compute line emissivities."
   ]
  },
  {
   "cell_type": "markdown",
   "metadata": {},
   "source": [
    "##### We define a function to read the observations."
   ]
  },
  {
   "cell_type": "code",
   "execution_count": null,
   "metadata": {
    "collapsed": false
   },
   "outputs": [],
   "source": [
    "def get_data(name, opt_only=True):\n",
    "    \"\"\"\n",
    "    Return a PyNeb Observation object containing the observed line intensities\n",
    "    keywords:\n",
    "        - name: name of the observation file (.dat will be added)\n",
    "        - opt_only [True]: if True, only optical data is read, otherwise\n",
    "            IR and UV data are read, with cross-calibration made\n",
    "            using HI 5-4 / Hbeta line ratio\n",
    "    \"\"\"\n",
    "    obs = pn.Observation()\n",
    "    obs.readData(name+'.dat', fileFormat='lines_in_rows', \n",
    "                 corrected=True)\n",
    "    if opt_only:\n",
    "        return obs\n",
    "    obs.readData(name+'_UV.dat', fileFormat='lines_in_rows', \n",
    "                 corrected=True)\n",
    "    obs_ir = pn.Observation(name+'_IR.dat', fileFormat='lines_in_rows', \n",
    "                            corrected=True)\n",
    "    H1r = pn.RecAtom('H', 1)\n",
    "    H1_54_b_th = H1r.getEmissivity(T_N2, Ne_O2, 5, 4) / \\\n",
    "                 H1r.getEmissivity(T_N2, Ne_O2, 4, 2)\n",
    "    coeff_norm = H1_54_b_th / obs_ir.getIntens()['H1r_4.1m'] * 100\n",
    "    for line in obs_ir.lines:\n",
    "        line.corrIntens *= coeff_norm\n",
    "        obs.addLine(line)\n",
    "    return obs"
   ]
  },
  {
   "cell_type": "markdown",
   "metadata": {},
   "source": [
    "##### We define a function to compute the ionic abundances."
   ]
  },
  {
   "cell_type": "code",
   "execution_count": null,
   "metadata": {
    "collapsed": false
   },
   "outputs": [],
   "source": [
    "def getIonAb(obs_name, Ne_O2, Ne_Ar4, T_N2, T_O3, printIonAb = True,\n",
    "             opt_only=True):\n",
    "    \"\"\"\n",
    "    Return a dictionary of ionic abundances.\n",
    "    Keywords:\n",
    "        - obs_name: file name of the observed line intensities\n",
    "        - Ne_O2, Ne_Ar4, T_N2, T_O3: electron densities and temperatures\n",
    "            to be used.\n",
    "        - printIonAb [True]: if set, the abundances obtained for each line\n",
    "            and for each ion are printed out\n",
    "    \"\"\"\n",
    "    # define an Observation object and assign it to name 'obs'\n",
    "    obs = get_data(obs_name, opt_only=opt_only)\n",
    "    # instantiation of all the needed Atom objects. We use only 10 levels for the Mg4 atom\n",
    "    all_atoms = pn.getAtomDict(atom_list=obs.getUniqueAtoms(), NLevels=10)\n",
    "    \n",
    "    # define a dictionary for the ionic abundances\n",
    "    ab_dic = {}\n",
    "    # we  use the following lines to determine the ionic abundances\n",
    "    ab_labels = ['N2_6584A', 'N3_57.4m', 'N4_1487A', \n",
    "                 'O2_3726A', 'O2_3729A', 'O3_5007A', 'O4_25.9m',\n",
    "                 'Ne2_12.8m', 'Ne3_3869A', 'Ne5_3426A', 'Ne6_7.6m']\n",
    "    # loop on the observed lines to determine the corresponding ionic abundances\n",
    "    for line in obs.getSortedLines():\n",
    "        # this is one way to define temp and dens in each zone\n",
    "        # must be adapted to each case\n",
    "        if (line.atom in all_atoms) and (line.label in ab_labels):\n",
    "            IP_cut = 30. # The IPs have been imported before\n",
    "            if IP[line.atom] > IP_cut:\n",
    "                temp = T_O3\n",
    "                dens = Ne_Ar4\n",
    "                IP_used = 'H'\n",
    "            else:\n",
    "                temp = T_N2\n",
    "                dens = Ne_O2\n",
    "                IP_used = 'L'                 \n",
    "            ab = all_atoms[line.atom].getIonAbundance(line.corrIntens, temp, dens, \n",
    "                                                      to_eval=line.to_eval, \n",
    "                                                      Hbeta=100)\n",
    "            if printIonAb:\n",
    "                print('{0:13s} {1} '.format(line.label, IP_used) + \n",
    "                      ' '.join(['{0:>8.4f}'.format(t) for t in ab * 1e6]))\n",
    "            if line.atom not in ab_dic:\n",
    "                ab_dic[line.atom] = []\n",
    "            ab_dic[line.atom].append(ab)\n",
    "    \n",
    "    He1r = pn.RecAtom('He', 1)\n",
    "    He2r = pn.RecAtom('He', 2)\n",
    "    ab_dic['He1r']= He1r.getIonAbundance(obs.getLine(label='He1r_5876A').corrIntens, \n",
    "                                 T_N2, Ne_O2, wave=5876.0)\n",
    "    ab_dic['He2r'] = He2r.getIonAbundance(obs.getLine(label='He2r_4686A').corrIntens, \n",
    "                                 T_O3, Ne_Ar4, lev_i= 4, lev_j= 3)\n",
    "    # Compute the mean of abundances when multiple lines \n",
    "    # from the same ions are used\n",
    "    for atom in ab_dic:\n",
    "        mean = np.mean(np.asarray(ab_dic[atom]))\n",
    "        ab_dic[atom] = mean\n",
    "    \n",
    "    if printIonAb:\n",
    "        for ion in np.sort(list(ab_dic.keys())):\n",
    "            print('12 + log({0:3s}) = {1:5.2f}'.format(ion, np.log10(ab_dic[ion])+12))\n",
    "\n",
    "    return ab_dic"
   ]
  },
  {
   "cell_type": "code",
   "execution_count": null,
   "metadata": {
    "collapsed": false
   },
   "outputs": [],
   "source": [
    "ion_ab_dic = getIonAb('../Data/IC2165', Ne_O2, Ne_Ar4, T_N2, T_O3, \n",
    "                      printIonAb = True, opt_only=True)"
   ]
  },
  {
   "cell_type": "markdown",
   "metadata": {},
   "source": [
    "###  ??? Comment on the abundances of the same ion as determined by different lines."
   ]
  },
  {
   "cell_type": "markdown",
   "metadata": {},
   "source": [
    "### ??? Determine the abundances of N, O, Ne from the optical data only using the ionization correction factors from Delgado-Inglada et al (2014)."
   ]
  },
  {
   "cell_type": "markdown",
   "metadata": {},
   "source": [
    "##### We define a function to determine the elemental abundances."
   ]
  },
  {
   "cell_type": "code",
   "execution_count": null,
   "metadata": {
    "collapsed": false
   },
   "outputs": [],
   "source": [
    "def getElemAb(ab_dic, icf_family=None, printRule = True):\n",
    "    \"\"\"\n",
    "    Return the elemental abundances, using the PyNeb ICF object.\n",
    "    Parameters:\n",
    "        - ab_dic: a dictionary containing the ionic abundances\n",
    "        - icf_family [None]: an ICF family (e. g. \"KB94\")\n",
    "        - printRule [True]: if set, the rules used to determine the \n",
    "            abundances are printed out\n",
    "    \"\"\"\n",
    "    # Instantiation of the ICF object\n",
    "    icf = pn.ICF()\n",
    "    # Computing the elemental abundances from all ICF rules.\n",
    "    \n",
    "    # The following computes the elemental abundances from the rules.\n",
    "    elem_abun = icf.getElemAbundance(ab_dic, icf_family=icf_family)\n",
    "    \n",
    "    for icf_ref in np.sort(list(elem_abun.keys())):\n",
    "        if np.isfinite(elem_abun[icf_ref]) and np.log10(elem_abun[icf_ref]).all() > -10:\n",
    "            if printRule:\n",
    "                print('{0} {1}={3:.3} using {2}'.format(icf_ref, \n",
    "                                                  icf.all_icfs[icf_ref]['elem'],\n",
    "                                                  icf.getExpression(icf_ref), \n",
    "                                                  np.log10(elem_abun[icf_ref])+12))\n",
    "            else:\n",
    "                print('{0:12s} {1}={2:.3}'.format(icf_ref, \n",
    "                                                  icf.all_icfs[icf_ref]['elem'],\n",
    "                                                  np.log10(elem_abun[icf_ref])+12))\n",
    "                \n",
    "\n",
    "    return elem_abun"
   ]
  },
  {
   "cell_type": "code",
   "execution_count": null,
   "metadata": {
    "collapsed": false
   },
   "outputs": [],
   "source": [
    "elem_abun = getElemAb(ion_ab_dic, 'DIMS14', printRule = False)"
   ]
  },
  {
   "cell_type": "code",
   "execution_count": null,
   "metadata": {
    "collapsed": false
   },
   "outputs": [],
   "source": [
    "# By hand, using the tables of emissivities:\n",
    "I_obs_O2_3726A = 18.39 \n",
    "I_obs_O2_3729A = 9.36\n",
    "I_obs_O3_5007A = 1158.31\n",
    "I_obs_He1r_5876A = 7.24\n",
    "I_obs_He2r_4686A = 63.48\n",
    "I_obs_Hb = 100\n",
    "emiss_O2_3726A = 1.87e-21\n",
    "emiss_O2_3729A = 4.77e-21\n",
    "emiss_Hb = 9.23e-26 \n",
    "emiss_O3_5007A = 7.05e-21\n",
    "emiss_He1r_5876A = 1.27e-25\n",
    "emiss_He2r_4686A = 1.07e-24\n",
    "\n",
    "O2_1 = (I_obs_O2_3726A / emiss_O2_3726A) / (I_obs_Hb / emiss_Hb)\n",
    "O2_2 = (I_obs_O2_3729A / emiss_O2_3729A) / (I_obs_Hb / emiss_Hb)\n",
    "O2 = (O2_1 + O2_2) / 2\n",
    "O2_bis =  ((I_obs_O2_3726A+I_obs_O2_3729A) / (emiss_O2_3726A+emiss_O2_3729A))/ (I_obs_Hb / emiss_Hb)\n",
    "O3 = (I_obs_O3_5007A / emiss_O3_5007A) / (I_obs_Hb / emiss_Hb)\n",
    "He2 = (I_obs_He1r_5876A / emiss_He1r_5876A) / (I_obs_Hb / emiss_Hb)\n",
    "He3 = (I_obs_He2r_4686A / emiss_He2r_4686A) / (I_obs_Hb / emiss_Hb)\n",
    "\n",
    "OoH = (O2 + O3)*10**((0.08 * He3 / (He2 + He3) + 0.006 * (He3 / (He2 + He3))**2) / (0.34 - 0.27 * He3 / (He2 + He3)))\n",
    "print('O+/H+={:.1f} ppm, O+/H+={:.1f} ppm, O++/H+={:.1f} ppm, 12 + log O/H={:.2f}'.format(O2*1e6, O2_bis*1e6, O3*1e6, 12+np.log10(OoH)))"
   ]
  },
  {
   "cell_type": "markdown",
   "metadata": {},
   "source": [
    "### Compute the error bars on the element abundances assigning reasonable uncertainties to the measured line intensities and to the effects of cross-calibrations"
   ]
  },
  {
   "cell_type": "markdown",
   "metadata": {},
   "source": [
    "##### We add errors depending on the intensities and the origin of the observation."
   ]
  },
  {
   "cell_type": "code",
   "execution_count": null,
   "metadata": {
    "collapsed": false
   },
   "outputs": [],
   "source": [
    "obs = get_data('../Data/IC2165', opt_only=False)\n",
    "for line in obs.lines:\n",
    "    error = 0.1 + np.zeros_like(line.corrError)\n",
    "    if line.corrIntens < 10:\n",
    "        error += 0.1\n",
    "    if line.corrIntens < 1:\n",
    "        error += 0.1\n",
    "    if line.wave < 2000. or line.wave > 9700.:\n",
    "        error += 0.1\n",
    "    line.corrError = error"
   ]
  },
  {
   "cell_type": "markdown",
   "metadata": {},
   "source": [
    "##### We generate 2500 \"fake\" observations around the observed values, using the errors."
   ]
  },
  {
   "cell_type": "code",
   "execution_count": null,
   "metadata": {
    "collapsed": false
   },
   "outputs": [],
   "source": [
    "N_MC = 250\n",
    "pn.config.use_multiprocs()\n",
    "obs.addMonteCarloObs(N_MC)\n",
    "obs.correctData()\n",
    "print(obs.n_obs)\n",
    "diags = pn.Diagnostics()\n",
    "diags.addDiagsFromObs(obs)\n",
    "T_H, dens_H = diags.getCrossTemDen('[OIII] 4363/5007', '[ArIV] 4740/4711', \n",
    "                                         obs=obs)\n",
    "T_L, dens_L = diags.getCrossTemDen('[NII] 5755/6584', '[SII] 6731/6716', \n",
    "                                         obs=obs)"
   ]
  },
  {
   "cell_type": "markdown",
   "metadata": {},
   "source": [
    "##### We change a little the computation of the ionic abundances to take into account the fake Monte Carlo observations"
   ]
  },
  {
   "cell_type": "code",
   "execution_count": null,
   "metadata": {
    "collapsed": false
   },
   "outputs": [],
   "source": [
    "def getIonAb2(obs, Ne_O2, Ne_Ar4, T_N2, T_O3):\n",
    "\n",
    "    all_atoms = pn.getAtomDict(atom_list=obs.getUniqueAtoms(), NLevels=10)\n",
    "    \n",
    "    # define a dictionary for the ionic abundances\n",
    "    ab_dic = {}\n",
    "    # we  use the following lines to determine the ionic abundances\n",
    "    ab_labels = ['N2_6584A', 'N3_57.4m', 'N4_1487A', \n",
    "                 'O2_3726A', 'O2_3729A', 'O3_5007A', 'O4_25.9m',\n",
    "                 'Ne2_12.8m', 'Ne3_3869A', 'Ne5_3426A', 'Ne6_7.6m']\n",
    "    # loop on the observed lines to determine the corresponding ionic abundances\n",
    "    for line in obs.getSortedLines():\n",
    "        # this is one way to define temp and dens in each zone\n",
    "        # must be adapted to each case\n",
    "        if (line.atom in all_atoms) and (line.label in ab_labels):\n",
    "            IP_cut = 30. #\n",
    "            if IP[line.atom] > IP_cut:\n",
    "                temp = T_O3\n",
    "                dens = Ne_Ar4\n",
    "                IP_used = 'H'\n",
    "            else:\n",
    "                temp = T_N2\n",
    "                dens = Ne_O2\n",
    "                IP_used = 'L'                 \n",
    "            ab = all_atoms[line.atom].getIonAbundance(line.corrIntens, temp, dens, \n",
    "                                                      to_eval=line.to_eval, \n",
    "                                                      Hbeta=100)\n",
    "            #print(line, ab)\n",
    "            if line.atom not in ab_dic:\n",
    "                ab_dic[line.atom] = []\n",
    "            ab_dic[line.atom].extend(ab)\n",
    "    \n",
    "    He1r = pn.RecAtom('He', 1)\n",
    "    He2r = pn.RecAtom('He', 2)\n",
    "    ab_dic['He2']= He1r.getIonAbundance(obs.getLine(label='He1r_5876A').corrIntens, \n",
    "                                 T_N2, Ne_O2, wave=5876.0)\n",
    "    ab_dic['He3'] = He2r.getIonAbundance(obs.getLine(label='He2r_4686A').corrIntens, \n",
    "                                 T_O3, Ne_Ar4, lev_i= 4, lev_j= 3)\n",
    "    # Compute the mean of abundances when multiple lines \n",
    "    # from the same ions are used\n",
    "    for atom in ab_dic:\n",
    "        n_lines = int(len(ab_dic[atom]) / obs.n_obs)\n",
    "        ab_lines = np.asarray(ab_dic[atom]).reshape(n_lines, obs.n_obs)\n",
    "        mean = np.mean(ab_lines, axis=0)\n",
    "        ab_dic[atom] = mean\n",
    "    \n",
    "    return ab_dic"
   ]
  },
  {
   "cell_type": "code",
   "execution_count": null,
   "metadata": {
    "collapsed": false
   },
   "outputs": [],
   "source": [
    "ion_ab_dic = getIonAb2(obs, dens_L, dens_H, T_L, T_H)"
   ]
  },
  {
   "cell_type": "code",
   "execution_count": null,
   "metadata": {
    "collapsed": false
   },
   "outputs": [],
   "source": [
    "from scipy.stats.mstats import mquantiles\n",
    "\n",
    "f, axes = plt.subplots(3,4, figsize=(15, 15))\n",
    "for i, ion in enumerate(sorted(ion_ab_dic.keys())):\n",
    "    ax = axes.ravel()[i]\n",
    "    this_ion_ab = np.log10(ion_ab_dic[ion])\n",
    "    this_ion_ab = this_ion_ab[np.isfinite(this_ion_ab)]\n",
    "    med = np.median(this_ion_ab)\n",
    "    try:\n",
    "        ax.hist(this_ion_ab, range = (med-1., med+1.), bins=20)\n",
    "        ax.set_title(ion)\n",
    "        quants = mquantiles(this_ion_ab, [0.16, 0.84])\n",
    "        error_up = quants[1] - med\n",
    "        error_down = med - quants[0]\n",
    "        print('{:3}: {:.2f}+{:.2f}-{:.2f}'.format(ion, med, error_up, error_down))\n",
    "    except:\n",
    "        print('ion {} not working'.format(ion))"
   ]
  },
  {
   "cell_type": "code",
   "execution_count": null,
   "metadata": {
    "collapsed": false
   },
   "outputs": [],
   "source": [
    "from pyneb.utils.misc import get_reduced_dic\n",
    "\n",
    "def getElemAb2(ab_dic, icf_family, printRule = True, use_MC=True):\n",
    "    # Instantiation of the ICF object\n",
    "    icf = pn.ICF()\n",
    "    # Computing the elemental abundances from all ICF rules.\n",
    "    \n",
    "    # The following computes the elemental abundances from the rules.\n",
    "    elem_abun = icf.getElemAbundance(ab_dic, icf_family=icf_family, use_MC=use_MC)\n",
    "    elem_abun_filtered = {}\n",
    "    for k in elem_abun:\n",
    "        if isinstance(elem_abun[k], np.ndarray):\n",
    "            elem_abun_filtered[k] = elem_abun[k]\n",
    "    elem_abun2 = get_reduced_dic(N_MC, obs.n_obs_origin, elem_abun_filtered, \n",
    "                        error_method='quants', abund12=True)    \n",
    "    for icf_ref in np.sort(list(elem_abun2.keys())):\n",
    "        if icf_ref[-1] != 'e':\n",
    "            if np.log10(elem_abun2[icf_ref]) > -10:\n",
    "                value = elem_abun2[icf_ref][0]\n",
    "                err = elem_abun2[icf_ref+'_e'][0]\n",
    "                if printRule:\n",
    "                    print('{0} {1}={3:.3} using {2}'.format(icf_ref, \n",
    "                                                  icf.all_icfs[icf_ref]['elem'],\n",
    "                                                  icf.getExpression(icf_ref), \n",
    "                                                  np.log10(elem_abun2[icf_ref])+12))\n",
    "                else:\n",
    "                    print('{0:12s} {1}={2:.3} +/- {3:.2f}'.format(icf_ref, \n",
    "                                                  icf.all_icfs[icf_ref]['elem'],\n",
    "                                                  value, err))\n",
    "                \n",
    "\n",
    "    return elem_abun2"
   ]
  },
  {
   "cell_type": "code",
   "execution_count": null,
   "metadata": {
    "collapsed": false
   },
   "outputs": [],
   "source": [
    "elem_abun = getElemAb2(ion_ab_dic, 'direct', printRule = False)"
   ]
  },
  {
   "cell_type": "code",
   "execution_count": null,
   "metadata": {
    "collapsed": false
   },
   "outputs": [],
   "source": [
    "elem_abun = getElemAb2(ion_ab_dic, 'DIMS14', printRule = False, use_MC=False)\n",
    "print('---------------')\n",
    "elem_abun = getElemAb2(ion_ab_dic, 'DIMS14', printRule = False, use_MC=True)"
   ]
  },
  {
   "cell_type": "code",
   "execution_count": null,
   "metadata": {
    "collapsed": false
   },
   "outputs": [],
   "source": [
    "elem_abun = getElemAb2(ion_ab_dic, 'KB94', printRule = False)"
   ]
  },
  {
   "cell_type": "code",
   "execution_count": 1,
   "metadata": {
    "collapsed": false
   },
   "outputs": [
    {
     "data": {
      "text/html": [
       "<style>\n",
       "    @font-face {\n",
       "        font-family: \"Computer Modern\";\n",
       "        src: url('http://9dbb143991406a7c655e-aa5fcb0a5a4ec34cff238a2d56ca4144.r56.cf5.rackcdn.com/cmunss.otf');\n",
       "    }\n",
       "    @font-face {\n",
       "        font-family: \"Computer Modern\";\n",
       "        font-weight: bold;\n",
       "        src: url('http://9dbb143991406a7c655e-aa5fcb0a5a4ec34cff238a2d56ca4144.r56.cf5.rackcdn.com/cmunsx.otf');\n",
       "    }\n",
       "    @font-face {\n",
       "        font-family: \"Computer Modern\";\n",
       "        font-style: oblique;\n",
       "        src: url('http://9dbb143991406a7c655e-aa5fcb0a5a4ec34cff238a2d56ca4144.r56.cf5.rackcdn.com/cmunsi.otf');\n",
       "    }\n",
       "    @font-face {\n",
       "        font-family: \"Computer Modern\";\n",
       "        font-weight: bold;\n",
       "        font-style: oblique;\n",
       "        src: url('http://9dbb143991406a7c655e-aa5fcb0a5a4ec34cff238a2d56ca4144.r56.cf5.rackcdn.com/cmunso.otf');\n",
       "    }\n",
       "    div.cell{\n",
       "        width:800px;\n",
       "        margin-left:16% !important;\n",
       "        margin-right:auto;\n",
       "    }\n",
       "    div.text_cell_render{\n",
       "        font-family: Computer Modern, \"Helvetica Neue\", Arial, Helvetica, Geneva, sans-serif;\n",
       "        line-height: 145%;\n",
       "        font-size: 130%;\n",
       "        width:800px;\n",
       "        margin-left:auto;\n",
       "        margin-right:auto;\n",
       "    }\n",
       "    h1 {\n",
       "        font-family: Helvetica, serif;\n",
       "    }\n",
       "    \n",
       "    h3{\n",
       "        margin-top:12px;\n",
       "        margin-bottom: 3px;\n",
       "        margin-left: -10px;\n",
       "        background-color: #fcf2f2;\n",
       "        border-color: #dFb5b4;\n",
       "        border-left: 5px solid #dfb5b4;\n",
       "        padding: 0.5em;\n",
       "        font-weight:normal;\n",
       "    }\n",
       "    div.text_cell_render h3 {\n",
       "     font-size: 14pt;\n",
       "     font-weight:normal;\n",
       "    }\n",
       "    div.text_cell_render h5 {\n",
       "        font-size: 12pt;\n",
       "        color: #4057A1;\n",
       "        font-style: italic;\n",
       "        font-weight:normal;\n",
       "        margin-bottom: .0em;\n",
       "        margin-top: 0.0em;\n",
       "        display: block;\n",
       "    }\n",
       "    .CodeMirror{\n",
       "            font-family: \"Source Code Pro\", source-code-pro,Consolas, monospace;\n",
       "    }\n",
       "#    .prompt{\n",
       "#        display: None;\n",
       "#    }\n",
       "    .warning{\n",
       "        color: rgb( 240, 20, 20 )\n",
       "        }  \n",
       "</style>\n",
       "<script>\n",
       "    MathJax.Hub.Config({\n",
       "                        TeX: {\n",
       "                           extensions: [\"AMSmath.js\"]\n",
       "                           },\n",
       "                tex2jax: {\n",
       "                    inlineMath: [ ['$','$'], [\"\\\\(\",\"\\\\)\"] ],\n",
       "                    displayMath: [ ['$$','$$'], [\"\\\\[\",\"\\\\]\"] ]\n",
       "                },\n",
       "                displayAlign: 'center', // Change this to 'center' to center equations.\n",
       "                \"HTML-CSS\": {\n",
       "                    styles: {'.MathJax_Display': {\"margin\": 4}}\n",
       "                }\n",
       "        });\n",
       "</script>\n"
      ],
      "text/plain": [
       "<IPython.core.display.HTML object>"
      ]
     },
     "execution_count": 1,
     "metadata": {},
     "output_type": "execute_result"
    }
   ],
   "source": [
    "# the following is to have the nice style in the Notebook.\n",
    "# Don't remove this.\n",
    "from IPython.core.display import HTML\n",
    "def css_styling():\n",
    "    styles = open(\"./styles/custom.css\", \"r\").read()\n",
    "    return HTML(styles)\n",
    "css_styling()"
   ]
  },
  {
   "cell_type": "code",
   "execution_count": null,
   "metadata": {
    "collapsed": true
   },
   "outputs": [],
   "source": []
  }
 ],
 "metadata": {
  "kernelspec": {
   "display_name": "Python 3",
   "language": "python",
   "name": "python3"
  },
  "language_info": {
   "codemirror_mode": {
    "name": "ipython",
    "version": 3
   },
   "file_extension": ".py",
   "mimetype": "text/x-python",
   "name": "python",
   "nbconvert_exporter": "python",
   "pygments_lexer": "ipython3",
   "version": "3.6.1"
  }
 },
 "nbformat": 4,
 "nbformat_minor": 0
}

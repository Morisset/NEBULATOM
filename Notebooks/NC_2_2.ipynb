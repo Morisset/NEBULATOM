{
 "cells": [
  {
   "cell_type": "markdown",
   "metadata": {},
   "source": [
    "# LINE EMISSIVITIES"
   ]
  },
  {
   "cell_type": "markdown",
   "metadata": {},
   "source": [
    "## Emissivities of lines from OIII (see previous Notebook)"
   ]
  },
  {
   "cell_type": "markdown",
   "metadata": {},
   "source": [
    "## Energy balance in an hydrogen-oxygen nebula"
   ]
  },
  {
   "cell_type": "markdown",
   "metadata": {},
   "source": [
    "Consider a nebula with constant density nH = 100 cm$^{-3}$ composed only of hydrogen and oxygen, and ionized by a star of temperature T$_*$= 50000 K and radiating like a blackbody."
   ]
  },
  {
   "cell_type": "markdown",
   "metadata": {},
   "source": [
    "##### We first import the needed libraries"
   ]
  },
  {
   "cell_type": "code",
   "execution_count": null,
   "metadata": {
    "collapsed": true
   },
   "outputs": [],
   "source": [
    "% matplotlib inline\n",
    "import matplotlib.pyplot as plt\n",
    "import numpy as np\n",
    "import pyneb as pn"
   ]
  },
  {
   "cell_type": "markdown",
   "metadata": {},
   "source": [
    "### Compute the energy gain $\\Gamma$/ne/nH in erg s$^{-1}$ cm3 due to hydrogen ionization by the stellar radiation discarding the change of the spectral energy distribution of the ionizing photons within the nebula due to absorption. Plot it as a function of Te from 0 to 30000K."
   ]
  },
  {
   "cell_type": "markdown",
   "metadata": {},
   "source": [
    "##### We define some variables and functions to answer the question"
   ]
  },
  {
   "cell_type": "code",
   "execution_count": null,
   "metadata": {
    "collapsed": false
   },
   "outputs": [],
   "source": [
    "tem = np.logspace(np.log10(10), np.log10(30000), 1000)\n",
    "\n",
    "def alpha_B(Te): \n",
    "    # Recomb. coefficient, case B\n",
    "    T4 = Te/1e4\n",
    "    return 2.6e-13/T4\n",
    "\n",
    "def Gphot(Te, Tstar): \n",
    "    # H gains for a nebula at Te, photoionized by a star at Tstar\n",
    "    return 3./2. * pn.CST.BOLTZMANN * Tstar * alpha_B(Te)\n",
    "\n",
    "def plot_Gain(Tstar=50000, linestyle='-', ax=None):\n",
    "    # Plots the gains for a given T*. \n",
    "    # This function uses the tem array.\n",
    "    # An axis object can be used for the plot. If not given, one is created\n",
    "    if ax is None:\n",
    "        f, ax = plt.subplots()\n",
    "    ax.plot(tem, np.log10(Gphot(tem, Tstar)), label='Gain', linewidth=3, \n",
    "            linestyle=linestyle, color='blue')"
   ]
  },
  {
   "cell_type": "code",
   "execution_count": null,
   "metadata": {
    "collapsed": false
   },
   "outputs": [],
   "source": [
    "help(pn.CST)"
   ]
  },
  {
   "cell_type": "markdown",
   "metadata": {},
   "source": [
    "##### We instantiate the O++ Atom object."
   ]
  },
  {
   "cell_type": "code",
   "execution_count": null,
   "metadata": {
    "collapsed": false
   },
   "outputs": [],
   "source": [
    "atom = pn.Atom('O', 3)"
   ]
  },
  {
   "cell_type": "markdown",
   "metadata": {},
   "source": [
    "#####  We create the figure and axis object that will be used to make the plot"
   ]
  },
  {
   "cell_type": "code",
   "execution_count": null,
   "metadata": {
    "collapsed": false
   },
   "outputs": [],
   "source": [
    "f, ax = plt.subplots(figsize=(10, 7))\n",
    "plot_Gain(ax=ax)\n",
    "# We add some characteristics to the plot\n",
    "ax.set_xlabel('T [K]')\n",
    "ax.set_ylabel(r'log energy rate/(n$_e$ n$_p$) [erg cm$^3$ s$^{-1}$]') # \n",
    "ax.legend(loc=4);"
   ]
  },
  {
   "cell_type": "markdown",
   "metadata": {},
   "source": [
    "### Compute the energy losses due to H recombination and to H free-free radiation as a function of Te and plot them, together with their sum, in the same diagram."
   ]
  },
  {
   "cell_type": "markdown",
   "metadata": {},
   "source": [
    "##### We define some functions to answer the question."
   ]
  },
  {
   "cell_type": "code",
   "execution_count": null,
   "metadata": {
    "collapsed": false
   },
   "outputs": [],
   "source": [
    "def Lff(Te): \n",
    "    # H free-free losses\n",
    "    Z = 1\n",
    "    gff = 1.3\n",
    "    #formula for loss due to free-free radiation\n",
    "    #Lff =  (32. * np.pi * pn.CST.ECHARGE**6 * Z**2 / \n",
    "    #        (3.**(1.5) * pn.CST.HPLANCK * pn.CST.EMASS * pn.CST.CLIGHT**3) *\n",
    "    #        (2 * np.pi * pn.CST.BOLTZMANN * Te / pn.CST.EMASS)**0.5 * gff)\n",
    "    \n",
    "    Lff = 1.42e-27 * Z**2 * Te**0.5 * gff\n",
    "    return Lff\n",
    "\n",
    "def beta_B(Te):\n",
    "    # Energy averaged recomb. coeff.\n",
    "    # We assume beta = alpha, \n",
    "    return alpha_B(Te)\n",
    "\n",
    "def Lrec(Te):\n",
    "    # H losses due to recombinationfree-free losses\n",
    "    return  pn.CST.BOLTZMANN * Te * beta_B(Te)\n",
    "\n",
    "def LtotalH(Te):\n",
    "    # total H losses (collisional excitation of Lya not considered)\n",
    "    return Lrec(Te) + Lff(Te)\n",
    "\n",
    "def plot_LossH(ax=None):\n",
    "    # plot H energylosses\n",
    "    if ax is None:\n",
    "        f, ax = plt.subplots()\n",
    "    ax.plot(tem, np.log10(Lff(tem)), label='H Free-Free loss', color='black', linestyle='--')\n",
    "    ax.plot(tem, np.log10(Lrec(tem)), label='H recomb. loss', color='black')\n",
    "    ax.plot(tem, np.log10(LtotalH(tem)), label='TOTAL H-loss', linewidth=3, color='black')"
   ]
  },
  {
   "cell_type": "markdown",
   "metadata": {},
   "source": [
    "##### We make a plot using the previously defined functions."
   ]
  },
  {
   "cell_type": "code",
   "execution_count": null,
   "metadata": {
    "collapsed": false
   },
   "outputs": [],
   "source": [
    "f, ax = plt.subplots(figsize=(10, 7))\n",
    "plot_LossH(ax=ax)\n",
    "# Adding a legend in the lower-right corner\n",
    "ax.legend(loc=4)"
   ]
  },
  {
   "cell_type": "markdown",
   "metadata": {},
   "source": [
    "### Compute the energy losses in the O$^{++}$ region of each of the oxygen line and plot them in a diagram for an oxygen abundance O/H= 4 x 10$^{-4}$."
   ]
  },
  {
   "cell_type": "code",
   "execution_count": null,
   "metadata": {
    "collapsed": false
   },
   "outputs": [],
   "source": [
    "def plot_LossO(atom, OoH=4e-4, den=1e2, ax=None):\n",
    "    # energylosses due to O3 for an abundance O/H of 4e-4\n",
    "    # O3 has been defined at the beginning as \n",
    "    #      O3 = pn.Atom('O', 3, OmegaInterp='Linear')\n",
    "    print(atom)\n",
    "    atom.plotEmiss(den=den, ionic_abund=OoH, plot_total = True, legend=True, \n",
    "                   total_color='green', ax=ax)"
   ]
  },
  {
   "cell_type": "code",
   "execution_count": null,
   "metadata": {
    "collapsed": false
   },
   "outputs": [],
   "source": [
    "def plot_Loss(atom, OoH=4e-4, den=1e2, onlyTotal=False, linestyle='-', ax=ax):\n",
    "\n",
    "    if ax is None:\n",
    "        f, ax = plt.subplots()\n",
    "\n",
    "    total_Hloss = LtotalH(tem)\n",
    "    \n",
    "    total_loss = total_Hloss.copy() # !!!Don't use total_loss = total_Hloss!!!\n",
    "    for wave in atom.lineList:\n",
    "        # adds the losses for all the lines of O3 \n",
    "        total_loss += OoH * atom.getEmissivity(tem, den, wave=wave) \n",
    "        \n",
    "    ax.plot(tem, np.log10(total_loss), color='red', label = 'TOTAL loss', linewidth=3, \n",
    "             linestyle=linestyle)\n",
    "    if not onlyTotal:\n",
    "        plt.plot(tem, np.log10(total_Hloss), label='TOTAL H-loss', linewidth=1, color='black')\n",
    "        atom.plotEmiss(den=den, ionic_abund=OoH, plot_total=True, plot_only_total=True, \n",
    "                   legend=True, total_color='green', total_label='TOTAL O-loss', ax=ax)"
   ]
  },
  {
   "cell_type": "code",
   "execution_count": null,
   "metadata": {
    "collapsed": false
   },
   "outputs": [],
   "source": [
    "f, ax = plt.subplots(figsize=(12, 8))\n",
    "\n",
    "plot_Gain(ax=ax)\n",
    "plot_LossO(atom, ax=ax)\n",
    "\n",
    "ax.set_xlabel('T [K]')\n",
    "ax.set_ylabel(r'log energy rate/(n$_e$ n$_p$) [erg cm$^3$ s$^{-1}$]') \n",
    "ax.legend(loc=4)\n",
    "ax.set_ylim((-40, -20)) ;"
   ]
  },
  {
   "cell_type": "markdown",
   "metadata": {},
   "source": [
    "### Plot in a separate diagram the energy gains, the H losses, the O$^{++}$ losses, and the total losses. Find the resulting electron temperature."
   ]
  },
  {
   "cell_type": "code",
   "execution_count": null,
   "metadata": {
    "collapsed": false
   },
   "outputs": [],
   "source": [
    "f, ax = plt.subplots(figsize=(12, 8))\n",
    "plot_Gain(ax=ax)\n",
    "plot_Loss(atom, ax=ax)\n",
    "ax.set_ylim((-25, -22))\n",
    "\n",
    "# By trial and error, we can determin the equilibrium Te\n",
    "Teq = 9145\n",
    "# plots a vertical dotted line\n",
    "ax.plot([Teq, Teq], [-25, -22], linestyle=':') "
   ]
  },
  {
   "cell_type": "markdown",
   "metadata": {},
   "source": [
    "### ??? By trial and error find by how much does one need to change the oxygen abundance to increase the temperature by 2000K? To decrease it by 2000K?"
   ]
  },
  {
   "cell_type": "code",
   "execution_count": null,
   "metadata": {
    "collapsed": false
   },
   "outputs": [],
   "source": [
    "atom.plotEmiss??"
   ]
  },
  {
   "cell_type": "code",
   "execution_count": null,
   "metadata": {
    "collapsed": false
   },
   "outputs": [],
   "source": [
    "f, ax = plt.subplots(figsize=(12, 8))\n",
    "plot_Gain(ax=ax)\n",
    "plot_Loss(atom, ax=ax)\n",
    "ax.plot((Teq, Teq), (-25, -21), color='black')\n",
    "ax.plot((Teq - 2000, Teq - 2000), (-25, -21), color='black')\n",
    "ax.plot((Teq + 2000, Teq + 2000), (-25, -21), color='black')\n",
    "plot_Loss(atom, OoH=2.4e-4, onlyTotal=True, linestyle='--', ax=ax)\n",
    "plot_Loss(atom, OoH=8e-4, onlyTotal=True, linestyle=':', ax=ax)\n",
    "ax.legend(loc=4)\n",
    "ax.set_ylim((-25, -21))"
   ]
  },
  {
   "cell_type": "markdown",
   "metadata": {},
   "source": [
    "### ??? Alternatively, what change in T* is needed to produce the same effect?"
   ]
  },
  {
   "cell_type": "code",
   "execution_count": null,
   "metadata": {
    "collapsed": false
   },
   "outputs": [],
   "source": [
    "atom = pn.Atom('O', 3)\n",
    "Teq = 9145\n",
    "f, ax = plt.subplots(figsize=(12, 8))\n",
    "plot_Gain(ax=ax)\n",
    "plot_Loss(atom, ax=ax)\n",
    "ax.plot((Teq, Teq), (-25, -21), color='black')\n",
    "ax.plot((Teq - 2000, Teq - 2000), (-25, -21), color='black')\n",
    "ax.plot((Teq + 2000, Teq + 2000), (-25, -21), color='black')\n",
    "plot_Gain(27000, linestyle='--', ax=ax)\n",
    "plot_Gain(80000, linestyle=':', ax=ax)\n",
    "ax.legend(loc=4)\n",
    "ax.set_ylim((-25, -21))"
   ]
  },
  {
   "cell_type": "markdown",
   "metadata": {},
   "source": [
    "### Repeat the whole procedure for the O$^+$ zone."
   ]
  },
  {
   "cell_type": "code",
   "execution_count": null,
   "metadata": {
    "collapsed": false
   },
   "outputs": [],
   "source": [
    "atom_o2 = pn.Atom('O',2)"
   ]
  },
  {
   "cell_type": "code",
   "execution_count": null,
   "metadata": {
    "collapsed": false
   },
   "outputs": [],
   "source": [
    "f, ax = plt.subplots(figsize=(10,10))\n",
    "atom_o2.plotGrotrian(ax=ax)"
   ]
  },
  {
   "cell_type": "code",
   "execution_count": null,
   "metadata": {
    "collapsed": false
   },
   "outputs": [],
   "source": [
    "f, ax = plt.subplots(figsize=(12, 8))\n",
    "\n",
    "plot_Gain(ax=ax)\n",
    "plot_LossO(atom_o2, ax=ax)\n",
    "\n",
    "ax.set_xlabel('T [K]')\n",
    "ax.set_ylabel(r'log energy rate/(n$_e$ n$_p$) [erg cm$^3$ s$^{-1}$]') \n",
    "ax.legend(loc=4)\n",
    "ax.set_ylim((-40, -20))"
   ]
  },
  {
   "cell_type": "code",
   "execution_count": null,
   "metadata": {
    "collapsed": false
   },
   "outputs": [],
   "source": [
    "\n",
    "f, ax = plt.subplots(figsize=(10, 6))\n",
    "plot_Gain(ax=ax)\n",
    "plot_Loss(atom_o2, ax=ax)\n",
    "ax.set_ylim((-25, -22))\n",
    "\n",
    "# With trial and error, we can determin the equilibrium Te\n",
    "Teq = 10800\n",
    "# plots a vertical dotted line\n",
    "ax.plot([Teq, Teq], [-25, -22], linestyle=':') "
   ]
  },
  {
   "cell_type": "code",
   "execution_count": null,
   "metadata": {
    "collapsed": false
   },
   "outputs": [],
   "source": [
    "f, ax = plt.subplots(figsize=(12, 8))\n",
    "plot_Gain(ax=ax)\n",
    "plot_Loss(atom_o2, ax=ax)\n",
    "ax.plot((Teq, Teq), (-25, -21), color='black')\n",
    "ax.plot((Teq - 2000, Teq - 2000), (-25, -21), color='black')\n",
    "ax.plot((Teq + 2000, Teq + 2000), (-25, -21), color='black')\n",
    "plot_Loss(atom_o2, OoH=2.0e-4, onlyTotal=True, linestyle='--', ax=ax)\n",
    "plot_Loss(atom_o2, OoH=1.1e-3, onlyTotal=True, linestyle=':', ax=ax)\n",
    "ax.legend(loc=4)\n",
    "ax.set_ylim((-25, -21))"
   ]
  },
  {
   "cell_type": "markdown",
   "metadata": {},
   "source": [
    "### ??? Comment on the comparison between the O$^{++}$ and O$^+$ zone.   In a real nebula, what changes would you expect with respect to this simple toy model?"
   ]
  },
  {
   "cell_type": "code",
   "execution_count": 1,
   "metadata": {
    "collapsed": false
   },
   "outputs": [
    {
     "data": {
      "text/html": [
       "<style>\n",
       "    @font-face {\n",
       "        font-family: \"Computer Modern\";\n",
       "        src: url('http://9dbb143991406a7c655e-aa5fcb0a5a4ec34cff238a2d56ca4144.r56.cf5.rackcdn.com/cmunss.otf');\n",
       "    }\n",
       "    @font-face {\n",
       "        font-family: \"Computer Modern\";\n",
       "        font-weight: bold;\n",
       "        src: url('http://9dbb143991406a7c655e-aa5fcb0a5a4ec34cff238a2d56ca4144.r56.cf5.rackcdn.com/cmunsx.otf');\n",
       "    }\n",
       "    @font-face {\n",
       "        font-family: \"Computer Modern\";\n",
       "        font-style: oblique;\n",
       "        src: url('http://9dbb143991406a7c655e-aa5fcb0a5a4ec34cff238a2d56ca4144.r56.cf5.rackcdn.com/cmunsi.otf');\n",
       "    }\n",
       "    @font-face {\n",
       "        font-family: \"Computer Modern\";\n",
       "        font-weight: bold;\n",
       "        font-style: oblique;\n",
       "        src: url('http://9dbb143991406a7c655e-aa5fcb0a5a4ec34cff238a2d56ca4144.r56.cf5.rackcdn.com/cmunso.otf');\n",
       "    }\n",
       "    div.cell{\n",
       "        width:800px;\n",
       "        margin-left:16% !important;\n",
       "        margin-right:auto;\n",
       "    }\n",
       "    div.text_cell_render{\n",
       "        font-family: Computer Modern, \"Helvetica Neue\", Arial, Helvetica, Geneva, sans-serif;\n",
       "        line-height: 145%;\n",
       "        font-size: 130%;\n",
       "        width:800px;\n",
       "        margin-left:auto;\n",
       "        margin-right:auto;\n",
       "    }\n",
       "    h1 {\n",
       "        font-family: Helvetica, serif;\n",
       "    }\n",
       "    \n",
       "    h3{\n",
       "        margin-top:12px;\n",
       "        margin-bottom: 3px;\n",
       "        margin-left: -10px;\n",
       "        background-color: #fcf2f2;\n",
       "        border-color: #dFb5b4;\n",
       "        border-left: 5px solid #dfb5b4;\n",
       "        padding: 0.5em;\n",
       "        font-weight:normal;\n",
       "    }\n",
       "    div.text_cell_render h3 {\n",
       "     font-size: 14pt;\n",
       "     font-weight:normal;\n",
       "    }\n",
       "    div.text_cell_render h5 {\n",
       "        font-size: 12pt;\n",
       "        color: #4057A1;\n",
       "        font-style: italic;\n",
       "        font-weight:normal;\n",
       "        margin-bottom: .0em;\n",
       "        margin-top: 0.0em;\n",
       "        display: block;\n",
       "    }\n",
       "    .CodeMirror{\n",
       "            font-family: \"Source Code Pro\", source-code-pro,Consolas, monospace;\n",
       "    }\n",
       "#    .prompt{\n",
       "#        display: None;\n",
       "#    }\n",
       "    .warning{\n",
       "        color: rgb( 240, 20, 20 )\n",
       "        }  \n",
       "</style>\n",
       "<script>\n",
       "    MathJax.Hub.Config({\n",
       "                        TeX: {\n",
       "                           extensions: [\"AMSmath.js\"]\n",
       "                           },\n",
       "                tex2jax: {\n",
       "                    inlineMath: [ ['$','$'], [\"\\\\(\",\"\\\\)\"] ],\n",
       "                    displayMath: [ ['$$','$$'], [\"\\\\[\",\"\\\\]\"] ]\n",
       "                },\n",
       "                displayAlign: 'center', // Change this to 'center' to center equations.\n",
       "                \"HTML-CSS\": {\n",
       "                    styles: {'.MathJax_Display': {\"margin\": 4}}\n",
       "                }\n",
       "        });\n",
       "</script>\n"
      ],
      "text/plain": [
       "<IPython.core.display.HTML object>"
      ]
     },
     "execution_count": 1,
     "metadata": {},
     "output_type": "execute_result"
    }
   ],
   "source": [
    "# the following is to have the nice style.\n",
    "from IPython.core.display import HTML\n",
    "def css_styling():\n",
    "    styles = open(\"./styles/custom.css\", \"r\").read()\n",
    "    return HTML(styles)\n",
    "css_styling()"
   ]
  },
  {
   "cell_type": "code",
   "execution_count": null,
   "metadata": {
    "collapsed": true
   },
   "outputs": [],
   "source": []
  }
 ],
 "metadata": {
  "kernelspec": {
   "display_name": "Python 3",
   "language": "python",
   "name": "python3"
  },
  "language_info": {
   "codemirror_mode": {
    "name": "ipython",
    "version": 3
   },
   "file_extension": ".py",
   "mimetype": "text/x-python",
   "name": "python",
   "nbconvert_exporter": "python",
   "pygments_lexer": "ipython3",
   "version": "3.6.1"
  }
 },
 "nbformat": 4,
 "nbformat_minor": 0
}

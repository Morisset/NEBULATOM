{
 "cells": [
  {
   "cell_type": "markdown",
   "metadata": {},
   "source": [
    "# MODEL-FITTING OF EXTRAGALACTIC PLANETARY NEBULAE"
   ]
  },
  {
   "cell_type": "markdown",
   "metadata": {},
   "source": [
    "This is an example of model-fitting with few observational constraints. Consider the planetary nebulae observed in the galaxy NGC 5128 by Walsh et al. (2012), for example objects F34 1, F34 2, F34 4, F34 7, and F34 11."
   ]
  },
  {
   "cell_type": "markdown",
   "metadata": {},
   "source": [
    "### For each object, try to fit an ionization bounded photoionization model to the observed data assuming a spherical geometry, constant density, a blackbody radiation, and comparing the observed line intensities with those given by the model. Before starting, think of the policy you will follow to find your best model. To analyze the goodness of your fit, use first a khi-sqare method on the line intensities, with weights inversely proportional to the line intensities. This is a widely used method."
   ]
  },
  {
   "cell_type": "markdown",
   "metadata": {},
   "source": [
    "##### We import some libraries."
   ]
  },
  {
   "cell_type": "code",
   "execution_count": null,
   "metadata": {
    "collapsed": false
   },
   "outputs": [],
   "source": [
    "%matplotlib inline\n",
    "import numpy as np\n",
    "import matplotlib.pyplot as plt\n",
    "import pyneb as pn\n",
    "import pyCloudy as pc\n",
    "from pyCloudy.utils.misc import convert_label, sextract\n",
    "pc.config.cloudy_exe = 'cloudy.exe'\n",
    "models_dir = '../../Models/'"
   ]
  },
  {
   "cell_type": "code",
   "execution_count": null,
   "metadata": {
    "collapsed": false
   },
   "outputs": [],
   "source": [
    "emis_file = '../Data/NGC5128_56_12b_emis.dat'"
   ]
  },
  {
   "cell_type": "code",
   "execution_count": null,
   "metadata": {
    "collapsed": false
   },
   "outputs": [],
   "source": [
    "class In(object):\n",
    "\n",
    "    def __init__(self, model_dir, name, r_in, dens, Teff, Q0, abund_dict, distance, grains=None):\n",
    "        \"\"\"\n",
    "        Defining the parameters of the model.\n",
    "        \"\"\"\n",
    "        # combining dir and name\n",
    "        self.model_name = '{0}/{1}'.format(model_dir, name)\n",
    "        # set the input parameters to self. variables\n",
    "        self.r_in = r_in\n",
    "        self.dens = dens\n",
    "        self.distance = distance\n",
    "        self.abund_dict = abund_dict\n",
    "        self.Q0 = Q0\n",
    "        self.Teff = Teff\n",
    "        self.grains = grains\n",
    "        # define more options to Cloudy\n",
    "        self.options = ('no molecules',\n",
    "                        'no level2 lines',\n",
    "                        'no fine opacities',\n",
    "                        'atom h-like levels small',\n",
    "                        'atom he-like levels small',\n",
    "                        'COSMIC RAY BACKGROUND',\n",
    "                        'element limit off -8',\n",
    "                        )\n",
    "\n",
    "        \n",
    "    def print_model(self):\n",
    "        \"\"\"\n",
    "        Preparing and printing the Cloudy input file\n",
    "        \"\"\"\n",
    "        # define the name of the model\n",
    "        model = pc.CloudyInput(self.model_name)\n",
    "        # send the variables to the CloudyInput object to be printed \n",
    "        model.set_radius(self.r_in)\n",
    "        model.set_cste_density(self.dens)\n",
    "        model.set_distance(self.distance, unit='Mpc')\n",
    "        model.set_abund(ab_dict = self.abund_dict)\n",
    "        model.set_grains(self.grains)\n",
    "        model.set_BB(Teff=self.Teff, lumi_unit='q(H)', lumi_value=self.Q0)\n",
    "        # this is the file containing the list of emissivities we want\n",
    "        model.read_emis_file(emis_file)\n",
    "        model.set_iterate(0)\n",
    "        model.set_sphere()\n",
    "        model.set_other(self.options)\n",
    "        # print the input file\n",
    "        model.print_input(to_file = True, verbose = False)\n",
    "        # store the model in a self variable to further interactions if needed\n",
    "        self.model = model\n",
    "        \n",
    "    def run_model(self):\n",
    "        # call the Cloudy runner\n",
    "        self.model.run_cloudy()\n"
   ]
  },
  {
   "cell_type": "code",
   "execution_count": null,
   "metadata": {
    "collapsed": false
   },
   "outputs": [],
   "source": [
    "class Outs(object):\n",
    "    \n",
    "    def __init__(self, model_dir, models, emis_file):\n",
    "        \"\"\"\n",
    "        Object dealing with the Cloudy outputs.\n",
    "        Usage: Mouts = Outs(models_dir, 'M_10_D')\n",
    "        \"\"\"\n",
    "        self.Ms = pc.load_models('{0}/{1}'.format(model_dir, models))\n",
    "        self.read_obs(emis_file)\n",
    "        \n",
    "    def read_obs(self, emis_file):\n",
    "        \"\"\"\n",
    "        Read the observation file pointed by the emis_file variable.\n",
    "        This function is called by __init__\n",
    "        The line intensities are corrected from extinction using Ha/Hb = 2.85\n",
    "        \"\"\"\n",
    "        self.obs_txt = np.genfromtxt(emis_file, dtype=[\"a13\",\"float\", \"float\"], \n",
    "                            delimiter=[13,8, 6], names = ['label', 'i_obs', 'e_obs'], usecols = (0, 1, 2))\n",
    "\n",
    "        # redenning correction\n",
    "        Hb = self.obs_txt['i_obs'][self.obs_txt['label'] == 'H  1 4861.36A']\n",
    "        Ha = self.obs_txt['i_obs'][self.obs_txt['label'] == 'H  1 6562.85A']\n",
    "        self.RC = pn.RedCorr(law = 'F99')\n",
    "        self.RC.setCorr(Ha / Hb / 2.85, 6563, 4861)\n",
    "        for line in self.obs_txt:\n",
    "            lambda_ = np.float(line['label'][-8:-1])\n",
    "            line['i_obs'] *= self.RC.getCorrHb(lambda_)\n",
    "        \n",
    "    def get_i_obs(self, label):\n",
    "        \"\"\"\n",
    "        return the line intensity given the line label\n",
    "        \"\"\"\n",
    "        i_label = (self.obs_txt['label'] == label)\n",
    "        if i_label.sum() != 1:\n",
    "            return None\n",
    "        else:\n",
    "            return self.obs_txt[i_label]['i_obs'][0]\n",
    "        \n",
    "    def pretty_print(self, str1, list1):\n",
    "        \"\"\"\n",
    "        pretty print the values of a list.\n",
    "        \"\"\"\n",
    "        if type(list1[0]) == type(''):\n",
    "            print('{0:32s}'.format(str1) + ' '.join(['{0:>9}'.format(i) for i in list1]))\n",
    "        else:\n",
    "            print('{0:32s}'.format(str1) + ' '.join(['{0:>9.3f}'.format(i) for i in list1]))\n",
    "\n",
    "    def print_ratio(self, label1, label2, title):\n",
    "        \"\"\"\n",
    "        pretty print the ratio of emission lines\n",
    "        \"\"\"\n",
    "        ref_pycloudy1 = convert_label(label1)\n",
    "        ref_pycloudy2 = convert_label(label2)\n",
    "        obs_ratio = self.get_i_obs(label1) / self.get_i_obs(label2)\n",
    "        mod_ratio = [M.get_emis_vol(ref_pycloudy1) / M.get_emis_vol(ref_pycloudy2) for M in self.Ms]\n",
    "        str1 = '{0:12s}   {1:>8.3f}'.format(title, obs_ratio)\n",
    "        self.pretty_print(str1, mod_ratio)\n",
    "\n",
    "    def print_res(self):\n",
    "        \"\"\"\n",
    "        Print the results of all the models.\n",
    "        \"\"\"\n",
    "        Hbeta_red = -16.170\n",
    "        names = [M.model_name_s for M in self.Ms]\n",
    "        self.pretty_print('MODEL', names)\n",
    "        r_in = [np.log10(M.r_in) for M in self.Ms]\n",
    "        self.pretty_print('Inner radius', r_in)\n",
    "        r_out = [np.log10(M.r_out) for M in self.Ms]\n",
    "        self.pretty_print('Outer radius', r_out)\n",
    "        Teff = [np.float(sextract(M.out['Blackbody'], 'Blackbody ', ' '))/1e3 for M in self.Ms]\n",
    "        self.pretty_print('Effective Temp kK', Teff)\n",
    "        dens = [np.log10(M.nH[0]) for M in self.Ms]\n",
    "        self.pretty_print('Hydrogen density', dens)\n",
    "        Q0 = [np.log10(M.Q0) for M in self.Ms]\n",
    "        self.pretty_print('Q0', Q0)\n",
    "        logUmean = [M.log_U_mean for M in self.Ms]\n",
    "        self.pretty_print('<logU>', logUmean)\n",
    "        abHe = [M.abund['He'] for M in self.Ms]\n",
    "        self.pretty_print('He/H', abHe)\n",
    "        abC = [M.abund['C'] for M in self.Ms]\n",
    "        self.pretty_print('C/H', abC)\n",
    "        abN = [M.abund['N'] for M in self.Ms]\n",
    "        self.pretty_print('N/H', abN)\n",
    "        abO = [M.abund['O'] for M in self.Ms]\n",
    "        self.pretty_print('O/H', abO)\n",
    "        abNe = [M.abund['Ne'] for M in self.Ms]\n",
    "        self.pretty_print('Ne/H', abNe)\n",
    "        abS = [M.abund['S'] for M in self.Ms]\n",
    "        self.pretty_print('S/H', abS)\n",
    "        abAr = [M.abund['Ar'] for M in self.Ms]\n",
    "        self.pretty_print('Ar/H', abAr)\n",
    "        Hb = [np.log10(M.get_emis_vol('H__1_486136A')/self.RC.getCorr(4861)/\n",
    "                       (4.*np.pi*(M.distance*pc.CST.KPC)**2)) for M in self.Ms]\n",
    "        self.pretty_print('Hbeta           {:.2f}'.format(Hbeta_red+np.log10(self.RC.getCorr(4861.))), Hb)\n",
    "        \n",
    "        for line in self.obs_txt:\n",
    "            ref_pycloudy = convert_label(line['label'])\n",
    "            try:\n",
    "                mod_intens = [M.get_emis_vol(ref_pycloudy) / M.get_emis_vol('H__1_486136A') * 100 for M in self.Ms]\n",
    "                str1 = '{0} {1:>7.1f} +/-{2:>3.0f} '.format(line['label'], line['i_obs'], line['e_obs'])\n",
    "                self.pretty_print(str1, mod_intens)\n",
    "            except:\n",
    "                print('Something wrong with {0}'.format(line['label']))\n",
    "        try:\n",
    "            self.print_ratio('S  2  6730.82A', 'S  2  6716.44A', 'Dens(SII)')\n",
    "        except:\n",
    "            pass\n",
    "        try:\n",
    "            self.print_ratio('BLND 3727.00A', 'O  3 5006.84A', 'OII/III')\n",
    "        except:\n",
    "            pass\n"
   ]
  },
  {
   "cell_type": "code",
   "execution_count": null,
   "metadata": {
    "collapsed": false
   },
   "outputs": [],
   "source": [
    "pc.log_.level = 3\n",
    "# define the model name and properties\n",
    "model_name = 'M10_A'\n",
    "# define the ind\n",
    "i = 1\n",
    "\n",
    "r_in = 15. \n",
    "dens = 4.\n",
    "Teff = 40000 \n",
    "Q0 = 46\n",
    "distance = 3.0\n",
    "ab_dict = {'He':-1.00, 'C':-3.60, 'N':-3.45, 'O':-3.95 , 'Ne':-4.8, 'Mg':-4.95,\n",
    "           'Si':-4.90, 'S':-5.35, 'Cl':-7.00, 'Ar':-5.7, 'Fe':-7.40}\n",
    "\n",
    "pc.log_.level = 3\n",
    "# create the object that generates the input files\n",
    "Min = In(models_dir, '{0}_{1}'.format(model_name, i), r_in, dens, Teff, Q0,\n",
    "         ab_dict, distance)\n",
    "Min.print_model()\n",
    "\n",
    "# run the models\n",
    "Min.run_model()\n",
    "\n",
    "# read the models\n",
    "pc.log_.level = 2\n",
    "Mouts = Outs(models_dir, model_name, emis_file)\n",
    "# output the parameters and line intensities, with the observations in 1rst column\n",
    "Mouts.print_res()\n"
   ]
  },
  {
   "cell_type": "code",
   "execution_count": null,
   "metadata": {
    "collapsed": false
   },
   "outputs": [],
   "source": [
    "# the following is to have the nice style in the Notebook.\n",
    "# Don't remove this.\n",
    "from IPython.core.display import HTML\n",
    "def css_styling():\n",
    "    styles = open(\"./styles/custom.css\", \"r\").read()\n",
    "    return HTML(styles)\n",
    "css_styling()"
   ]
  }
 ],
 "metadata": {
  "kernelspec": {
   "display_name": "Python 2",
   "language": "python",
   "name": "python2"
  },
  "language_info": {
   "codemirror_mode": {
    "name": "ipython",
    "version": 2
   },
   "file_extension": ".py",
   "mimetype": "text/x-python",
   "name": "python",
   "nbconvert_exporter": "python",
   "pygments_lexer": "ipython2",
   "version": "2.7.11"
  }
 },
 "nbformat": 4,
 "nbformat_minor": 0
}

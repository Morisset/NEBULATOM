{
 "cells": [
  {
   "cell_type": "markdown",
   "metadata": {},
   "source": [
    "# MODEL-FITTING OF EXTRAGALACTIC PLANETARY NEBULAE"
   ]
  },
  {
   "cell_type": "markdown",
   "metadata": {},
   "source": [
    "This is an example of model-fitting with few observational constraints. Consider the planetary nebulae observed in the galaxy NGC 5128 by Walsh et al. (2012), for example objects F34 1, F34 2, F34 4, F34 7, and F34 11."
   ]
  },
  {
   "cell_type": "markdown",
   "metadata": {},
   "source": [
    "### For each object, try to fit an ionization bounded photoionization model to the observed data assuming a spherical geometry, constant density, a blackbody radiation, and comparing the observed line intensities with those given by the model. Before starting, think of the policy you will follow to find your best model. To analyze the goodness of your fit, use first a khi-sqare method on the line intensities, with weights inversely proportional to the line intensities. This is a widely used method."
   ]
  },
  {
   "cell_type": "markdown",
   "metadata": {},
   "source": [
    "##### We import some libraries."
   ]
  },
  {
   "cell_type": "code",
   "execution_count": 1,
   "metadata": {
    "collapsed": false
   },
   "outputs": [],
   "source": [
    "%matplotlib inline\n",
    "import numpy as np\n",
    "import matplotlib.pyplot as plt\n",
    "import pyneb as pn\n",
    "import pyCloudy as pc\n",
    "from pyCloudy.utils.misc import convert_label, sextract\n",
    "pc.config.cloudy_exe = 'cloudy.exe'\n",
    "models_dir = '../../Models/'"
   ]
  },
  {
   "cell_type": "code",
   "execution_count": 2,
   "metadata": {
    "collapsed": false
   },
   "outputs": [],
   "source": [
    "emis_file = '../Data/NGC5128_56_12b_emis.dat'"
   ]
  },
  {
   "cell_type": "code",
   "execution_count": 3,
   "metadata": {
    "collapsed": false
   },
   "outputs": [
    {
     "name": "stdout",
     "output_type": "stream",
     "text": [
      "BLND 3727.00A   15.     11.\r\n",
      "Ne 3 3868.76A   32.     11.\r\n",
      "H  1 4340.94A   36.      9.\r\n",
      "BLND 4363.00A    0.      7.\r\n",
      "He 2 4686.01A    0.      7.\r\n",
      "H  1 4861.36A  100.      0.\r\n",
      "O  3 5006.84A  516.     51.\r\n",
      "He 1 5875.64A   16.      8.\r\n",
      "H  1 6562.85A  365.     36.\r\n",
      "N  2 6583.45A  266.     26.\r\n",
      "Ar 3 7135.79A   32.      7.\r\n",
      "BLND 7325.00A   20.     12."
     ]
    }
   ],
   "source": [
    "! cat ../Data/NGC5128_56_12b_emis.dat"
   ]
  },
  {
   "cell_type": "code",
   "execution_count": 4,
   "metadata": {
    "collapsed": false
   },
   "outputs": [],
   "source": [
    "class In(object):\n",
    "\n",
    "    def __init__(self, model_dir, name, r_in, dens, Teff, Q0, abund_dict, \n",
    "                 distance, grains=None):\n",
    "        \"\"\"\n",
    "        Defining the parameters of the model.\n",
    "        \"\"\"\n",
    "        # combining dir and name\n",
    "        self.model_name = '{0}/{1}'.format(model_dir, name)\n",
    "        # set the input parameters to self. variables\n",
    "        self.r_in = r_in\n",
    "        self.dens = dens\n",
    "        self.distance = distance\n",
    "        self.abund_dict = abund_dict\n",
    "        self.Q0 = Q0\n",
    "        self.Teff = Teff\n",
    "        self.grains = grains\n",
    "        # define more options to Cloudy\n",
    "        self.options = ('no molecules',\n",
    "                        'no level2 lines',\n",
    "                        'no fine opacities',\n",
    "                        'atom h-like levels small',\n",
    "                        'atom he-like levels small',\n",
    "                        'COSMIC RAY BACKGROUND',\n",
    "                        'element limit off -8',\n",
    "                        )\n",
    "\n",
    "        \n",
    "    def print_model(self):\n",
    "        \"\"\"\n",
    "        Preparing and printing the Cloudy input file\n",
    "        \"\"\"\n",
    "        # define the name of the model\n",
    "        model = pc.CloudyInput(self.model_name)\n",
    "        # send the variables to the CloudyInput object to be printed \n",
    "        model.set_radius(self.r_in)\n",
    "        model.set_cste_density(self.dens)\n",
    "        model.set_distance(self.distance, unit='Mpc')\n",
    "        model.set_abund(ab_dict = self.abund_dict)\n",
    "        model.set_grains(self.grains)\n",
    "        model.set_BB(Teff=self.Teff, lumi_unit='q(H)', lumi_value=self.Q0)\n",
    "        # this is the file containing the list of emissivities we want\n",
    "        model.read_emis_file(emis_file)\n",
    "        model.set_iterate(0)\n",
    "        model.set_sphere()\n",
    "        model.set_other(self.options)\n",
    "        # print the input file\n",
    "        model.print_input(to_file = True, verbose = False)\n",
    "        # store the model in a self variable to further interactions if needed\n",
    "        self.model = model\n",
    "        \n",
    "    def run_model(self):\n",
    "        # call the Cloudy runner\n",
    "        self.model.run_cloudy()\n"
   ]
  },
  {
   "cell_type": "code",
   "execution_count": 22,
   "metadata": {
    "collapsed": false
   },
   "outputs": [],
   "source": [
    "class Outs(object):\n",
    "    \n",
    "    def __init__(self, model_dir, models, emis_file):\n",
    "        \"\"\"\n",
    "        Object dealing with the Cloudy outputs.\n",
    "        Usage: Mouts = Outs(models_dir, 'M_10_D')\n",
    "        \"\"\"\n",
    "        self.Ms = pc.load_models('{0}/{1}'.format(model_dir, models))\n",
    "        self.read_obs(emis_file)\n",
    "        \n",
    "    def read_obs(self, emis_file):\n",
    "        \"\"\"\n",
    "        Read the observation file pointed by the emis_file variable.\n",
    "        This function is called by __init__\n",
    "        The line intensities are corrected from extinction using Ha/Hb = 2.85\n",
    "        \"\"\"\n",
    "        self.obs_txt = np.genfromtxt(emis_file, dtype=[\"U13\",\"float\", \"float\"], \n",
    "                            delimiter=[13,8, 6], names = ['label', 'i_obs', 'e_obs'], \n",
    "                                     usecols = (0, 1, 2))\n",
    "\n",
    "        # redenning correction\n",
    "        Hb = self.obs_txt['i_obs'][self.obs_txt['label'] == 'H  1 4861.36A']\n",
    "        Ha = self.obs_txt['i_obs'][self.obs_txt['label'] == 'H  1 6562.85A']\n",
    "        self.RC = pn.RedCorr(law = 'F99')\n",
    "        self.RC.setCorr(Ha / Hb / 2.73, 6563, 4861)\n",
    "        for line in self.obs_txt:\n",
    "            lambda_ = np.float(line['label'][-8:-1])\n",
    "            line['i_obs'] *= self.RC.getCorrHb(lambda_)\n",
    "        \n",
    "    def get_i_obs(self, label):\n",
    "        \"\"\"\n",
    "        return the line intensity given the line label\n",
    "        \"\"\"\n",
    "        i_label = (self.obs_txt['label'] == label)\n",
    "        if i_label.sum() != 1:\n",
    "            return None\n",
    "        else:\n",
    "            return self.obs_txt[i_label]['i_obs'][0]\n",
    "        \n",
    "    def pretty_print(self, str1, list1):\n",
    "        \"\"\"\n",
    "        pretty print the values of a list.\n",
    "        \"\"\"\n",
    "        if type(list1[0]) == type(''):\n",
    "            print('{0:32s}'.format(str1) + ' '.join(['{0:>9}'.format(i) for i in list1]))\n",
    "        else:\n",
    "            print('{0:32s}'.format(str1) + ' '.join(['{0:>9.3f}'.format(i) for i in list1]))\n",
    "\n",
    "    def print_ratio(self, label1, label2, title):\n",
    "        \"\"\"\n",
    "        pretty print the ratio of emission lines\n",
    "        \"\"\"\n",
    "        ref_pycloudy1 = convert_label(label1)\n",
    "        ref_pycloudy2 = convert_label(label2)\n",
    "        obs_ratio = self.get_i_obs(label1) / self.get_i_obs(label2)\n",
    "        mod_ratio = [M.get_emis_vol(ref_pycloudy1) / M.get_emis_vol(ref_pycloudy2) for M in self.Ms]\n",
    "        str1 = '{0:12s}   {1:>8.3f}'.format(title, obs_ratio)\n",
    "        self.pretty_print(str1, mod_ratio)\n",
    "\n",
    "    def print_res(self):\n",
    "        \"\"\"\n",
    "        Print the results of all the models.\n",
    "        \"\"\"\n",
    "        Hbeta_red = -16.170\n",
    "        names = [M.model_name_s for M in self.Ms]\n",
    "        self.pretty_print('MODEL', names)\n",
    "        r_in = [np.log10(M.r_in) for M in self.Ms]\n",
    "        self.pretty_print('Inner radius', r_in)\n",
    "        r_out = [np.log10(M.r_out) for M in self.Ms]\n",
    "        self.pretty_print('Outer radius', r_out)\n",
    "        Teff = [np.float(sextract(M.out['Blackbody'], 'Blackbody ', ' '))/1e3 for M in self.Ms]\n",
    "        self.pretty_print('Effective Temp kK', Teff)\n",
    "        dens = [np.log10(M.nH[0]) for M in self.Ms]\n",
    "        self.pretty_print('Hydrogen density', dens)\n",
    "        Q0 = [np.log10(M.Q0) for M in self.Ms]\n",
    "        self.pretty_print('Q0', Q0)\n",
    "        logUmean = [M.log_U_mean for M in self.Ms]\n",
    "        self.pretty_print('<logU>', logUmean)\n",
    "        abHe = [M.abund['He'] for M in self.Ms]\n",
    "        self.pretty_print('He/H', abHe)\n",
    "        abC = [M.abund['C'] for M in self.Ms]\n",
    "        self.pretty_print('C/H', abC)\n",
    "        abN = [M.abund['N'] for M in self.Ms]\n",
    "        self.pretty_print('N/H', abN)\n",
    "        abO = [M.abund['O'] for M in self.Ms]\n",
    "        self.pretty_print('O/H', abO)\n",
    "        abNe = [M.abund['Ne'] for M in self.Ms]\n",
    "        self.pretty_print('Ne/H', abNe)\n",
    "        abS = [M.abund['S'] for M in self.Ms]\n",
    "        self.pretty_print('S/H', abS)\n",
    "        abAr = [M.abund['Ar'] for M in self.Ms]\n",
    "        self.pretty_print('Ar/H', abAr)\n",
    "        Hb = [np.log10(M.get_emis_vol('H__1_486136A')/self.RC.getCorr(4861)/\n",
    "                       (4.*np.pi*(M.distance*pc.CST.KPC)**2)) for M in self.Ms]\n",
    "        self.pretty_print('Hbeta           {:.2f}'.format(Hbeta_red+np.log10(self.RC.getCorr(4861.))), Hb)\n",
    "        \n",
    "        for line in self.obs_txt:\n",
    "            ref_pycloudy = convert_label(line['label'])\n",
    "            try:\n",
    "                mod_intens = [M.get_emis_vol(ref_pycloudy) / M.get_emis_vol('H__1_486136A') * 100 for M in self.Ms]\n",
    "                str1 = '{0} {1:>7.1f} +/-{2:>3.0f} '.format(line['label'], line['i_obs'], line['e_obs'])\n",
    "                self.pretty_print(str1, mod_intens)\n",
    "            except:\n",
    "                print('Something wrong with {0}'.format(line['label']))\n",
    "        try:\n",
    "            self.print_ratio('S  2  6730.82A', 'S  2  6716.44A', 'Dens(SII)')\n",
    "        except:\n",
    "            pass\n",
    "        try:    \n",
    "            self.print_ratio('BLND 7325.00A', 'BLND 3727.00A', 'T(OIII)')\n",
    "        except:\n",
    "            pass\n",
    "        try:\n",
    "            self.print_ratio('BLND 3727.00A', 'O  3 5006.84A', 'OII/III')\n",
    "        except:\n",
    "            pass\n"
   ]
  },
  {
   "cell_type": "code",
   "execution_count": 13,
   "metadata": {
    "collapsed": false
   },
   "outputs": [
    {
     "name": "stdout",
     "output_type": "stream",
     "text": [
      "{'Al': -5.55, 'Ar': -5.6, 'B': -9.3, 'Be': -10.620000000000001, 'C': -3.5700000000000003, 'Ca': -5.66, 'Cl': -6.5, 'Co': -7.01, 'Cr': -6.36, 'Cu': -7.81, 'F': -7.44, 'Fe': -4.5, 'He': -1.0700000000000003, 'K': -6.97, 'Li': -10.95, 'Mg': -4.4, 'Mn': -6.57, 'N': -4.17, 'Na': -5.76, 'Ne': -4.07, 'Ni': -5.78, 'O': -3.3100000000000005, 'P': -6.59, 'S': -4.88, 'Sc': -8.85, 'Si': -4.49, 'Ti': -7.05, 'V': -8.07, 'Zn': -7.44}\n"
     ]
    }
   ],
   "source": [
    "from pyCloudy.utils.physics import abund_Asplund_2009\n",
    "print(abund_Asplund_2009)"
   ]
  },
  {
   "cell_type": "code",
   "execution_count": 30,
   "metadata": {
    "collapsed": false
   },
   "outputs": [
    {
     "name": "stdout",
     "output_type": "stream",
     "text": [
      "     CloudyInput: Input writen in ../../Models//M10_Bests_2.in\n",
      "     run_cloudy: running: cd ../../Models/ ;  cloudy.exe\n",
      "     run_cloudy: ending: cd ../../Models/ ;  cloudy.exe\n",
      "MODEL                           M10_Bests_1 M10_Bests_2\n",
      "Inner radius                       17.180    16.900\n",
      "Outer radius                       17.185    17.136\n",
      "Effective Temp kK                  95.000    49.000\n",
      "Hydrogen density                    5.000     4.300\n",
      "Q0                                 48.000    48.018\n",
      "<logU>                             -2.941    -1.935\n",
      "He/H                               -1.070    -1.040\n",
      "C/H                                -3.570    -3.600\n",
      "N/H                                -3.770    -3.200\n",
      "O/H                                -3.800    -3.500\n",
      "Ne/H                               -4.540    -3.950\n",
      "S/H                                -4.900    -5.700\n",
      "Ar/H                               -5.770    -5.500\n",
      "Hbeta           -15.81            -15.925   -15.911\n",
      "BLND 3727.00A    19.1 +/- 11       17.140    21.483\n",
      "Ne 3 3868.76A    39.5 +/- 11       37.543    44.717\n",
      "H  1 4340.94A    40.4 +/-  9       47.456    47.530\n",
      "BLND 4363.00A     0.0 +/-  7        6.997     2.828\n",
      "He 2 4686.01A     0.0 +/-  7        5.822     0.084\n",
      "H  1 4861.36A   100.0 +/-  0      100.000   100.000\n",
      "O  3 5006.84A   499.0 +/- 51      445.386   540.973\n",
      "He 1 5875.64A    13.2 +/-  8       16.369    19.737\n",
      "H  1 6562.85A   273.0 +/- 36      274.482   273.314\n",
      "N  2 6583.45A   198.5 +/- 26      207.654   215.396\n",
      "Ar 3 7135.79A    22.4 +/-  7       25.127    24.350\n",
      "BLND 7325.00A    13.7 +/- 12       26.753     5.651\n",
      "T(OIII)           0.718             1.561     0.263\n",
      "OII/III           0.038             0.038     0.040\n"
     ]
    }
   ],
   "source": [
    "pc.log_.level = 3\n",
    "# define the model name and properties\n",
    "model_name = 'M10_Bests'\n",
    "# define the index\n",
    "i = 2\n",
    "\n",
    "r_in = 16.9 # dex cm\n",
    "dens = 4.3 # dex cm-3\n",
    "Teff = 49000 # K\n",
    "Q0 = 48.018 # dex ph/s\n",
    "distance = 3.8 # Mpc\n",
    "ab_dict = {'He':-1.04, 'C':-3.6, 'N':-3.2, 'O':-3.5 , 'Ne':-3.95, 'Mg':-5,\n",
    "           'Si':-4.5, 'S':-5.7, 'Cl':-6.65, 'Ar':-5.5, 'Fe':-6.3}\n",
    "\n",
    "pc.log_.level = 3\n",
    "# create the object that generates the input files\n",
    "Min = In(models_dir, '{0}_{1}'.format(model_name, i), r_in, dens, Teff, Q0,\n",
    "         ab_dict, distance)\n",
    "Min.print_model()\n",
    "\n",
    "# run the models\n",
    "Min.run_model()\n",
    "\n",
    "# read the models\n",
    "pc.log_.level = 2\n",
    "Mouts = Outs(models_dir, model_name, emis_file)\n",
    "# output the parameters and line intensities, with the observations in 1rst column\n",
    "Mouts.print_res()\n"
   ]
  },
  {
   "cell_type": "code",
   "execution_count": 25,
   "metadata": {
    "collapsed": false
   },
   "outputs": [
    {
     "name": "stdout",
     "output_type": "stream",
     "text": [
      "0.7172774869109947 3.172839506172839 0.05647840531561459\n"
     ]
    }
   ],
   "source": [
    "print(13.7/19.1, (13.7+12)/(19.1-11), (13.7-12)/(19.1+11))"
   ]
  },
  {
   "cell_type": "code",
   "execution_count": null,
   "metadata": {
    "collapsed": false
   },
   "outputs": [],
   "source": [
    "# the following is to have the nice style in the Notebook.\n",
    "# Don't remove this.\n",
    "from IPython.core.display import HTML\n",
    "def css_styling():\n",
    "    styles = open(\"./styles/custom.css\", \"r\").read()\n",
    "    return HTML(styles)\n",
    "css_styling()"
   ]
  },
  {
   "cell_type": "code",
   "execution_count": null,
   "metadata": {
    "collapsed": true
   },
   "outputs": [],
   "source": []
  }
 ],
 "metadata": {
  "kernelspec": {
   "display_name": "Python 3",
   "language": "python",
   "name": "python3"
  },
  "language_info": {
   "codemirror_mode": {
    "name": "ipython",
    "version": 3
   },
   "file_extension": ".py",
   "mimetype": "text/x-python",
   "name": "python",
   "nbconvert_exporter": "python",
   "pygments_lexer": "ipython3",
   "version": "3.6.1"
  }
 },
 "nbformat": 4,
 "nbformat_minor": 0
}

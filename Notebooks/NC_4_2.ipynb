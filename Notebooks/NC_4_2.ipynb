{
 "cells": [
  {
   "cell_type": "markdown",
   "metadata": {},
   "source": [
    "# ABUNDANCE DERIVATIONS WITH THE DIRECT METHOD"
   ]
  },
  {
   "cell_type": "markdown",
   "metadata": {},
   "source": [
    "## The chemical composition of IC 2165 (See previous Notebook)"
   ]
  },
  {
   "cell_type": "markdown",
   "metadata": {},
   "source": [
    "## The chemical composition of giant HII regions NGC 300."
   ]
  },
  {
   "cell_type": "markdown",
   "metadata": {},
   "source": [
    "Bresolin et al. 2009, have observed 20 giant H II regions in the spiral galaxy NGC 300."
   ]
  },
  {
   "cell_type": "markdown",
   "metadata": {},
   "source": [
    "##### We first import needed libraries"
   ]
  },
  {
   "cell_type": "code",
   "execution_count": null,
   "metadata": {
    "collapsed": true
   },
   "outputs": [],
   "source": [
    "%matplotlib inline\n",
    "import pyneb as pn\n",
    "import numpy as np\n",
    "import matplotlib.pyplot as plt\n",
    "from astropy.table import Table, Column"
   ]
  },
  {
   "cell_type": "markdown",
   "metadata": {},
   "source": [
    "### Compute the electron densities and temperatures from all the available ratios"
   ]
  },
  {
   "cell_type": "markdown",
   "metadata": {},
   "source": [
    "##### We read the observations into a PyNeb Observation object. Notice that in this file the errors are absolutes."
   ]
  },
  {
   "cell_type": "code",
   "execution_count": null,
   "metadata": {
    "collapsed": false
   },
   "outputs": [],
   "source": [
    "obs = pn.Observation('../Data/NGC300.dat', corrected=True, errIsRelative=False)\n",
    "# the galactocentric distance has been also read and the values are in \"obsIntens\"\n",
    "# with a label that does not correspond to a line (warning is issued, \n",
    "# it's a normal behaviour).\n",
    "Rgal = obs.getLine(label='DIST').obsIntens"
   ]
  },
  {
   "cell_type": "markdown",
   "metadata": {},
   "source": [
    "##### We instanciate the Diagnostic object."
   ]
  },
  {
   "cell_type": "code",
   "execution_count": null,
   "metadata": {
    "collapsed": false
   },
   "outputs": [],
   "source": [
    "diags = pn.Diagnostics()"
   ]
  },
  {
   "cell_type": "markdown",
   "metadata": {},
   "source": [
    "##### We set up the diagnostics according to the available emission lines."
   ]
  },
  {
   "cell_type": "code",
   "execution_count": null,
   "metadata": {
    "collapsed": false
   },
   "outputs": [],
   "source": [
    "diags.addDiagsFromObs(obs)"
   ]
  },
  {
   "cell_type": "markdown",
   "metadata": {},
   "source": [
    "##### We check which diagnostics have been selected."
   ]
  },
  {
   "cell_type": "code",
   "execution_count": null,
   "metadata": {
    "collapsed": false
   },
   "outputs": [],
   "source": [
    "diags.diags"
   ]
  },
  {
   "cell_type": "markdown",
   "metadata": {},
   "source": [
    "##### We check which Atoms have been instantiated in the Diagnostic object. "
   ]
  },
  {
   "cell_type": "code",
   "execution_count": null,
   "metadata": {
    "collapsed": false
   },
   "outputs": [],
   "source": [
    "diags.atomDict"
   ]
  },
  {
   "cell_type": "code",
   "execution_count": null,
   "metadata": {
    "collapsed": false
   },
   "outputs": [],
   "source": [
    "# Clean the pypics files, because we will change the boundaries.\n",
    "pn.utils.misc.cleanPypicFiles(all_=True)\n",
    "# we can choose to do the diagnostic plots of the whole set of observations\n",
    "emisgrids = pn.getEmisGridDict(atomDict=diags.atomDict, n_tem=100, n_den=100, \n",
    "                               tem_min=5000., tem_max=15000., \n",
    "                               den_min=10., den_max=1e5)"
   ]
  },
  {
   "cell_type": "markdown",
   "metadata": {},
   "source": [
    "##### We plot all the diagnostics diagrams."
   ]
  },
  {
   "cell_type": "code",
   "execution_count": null,
   "metadata": {
    "collapsed": false
   },
   "outputs": [],
   "source": [
    "# We can see which diagnostic to use for Te and for Ne determinations\n",
    "f, axes = plt.subplots(6, 5, figsize=(20, 20))\n",
    "for i, obs_name in enumerate(obs.names):\n",
    "    ax = axes.ravel()[i]\n",
    "    diags.plot(emisgrids, obs, i_obs=i, ax=ax)\n",
    "    ax.set_title(obs_name)\n",
    "f.tight_layout()\n",
    "f.savefig('diags.pdf')"
   ]
  },
  {
   "cell_type": "markdown",
   "metadata": {},
   "source": [
    "##### We determine Te and Ne by intersection of 2 diagnostics."
   ]
  },
  {
   "cell_type": "code",
   "execution_count": null,
   "metadata": {
    "collapsed": false
   },
   "outputs": [],
   "source": [
    "pn.log_.level = 3\n",
    "temp_O3, dens_S2a = diags.getCrossTemDen('[OIII] 4363/5007', '[SII] 6731/6716', \n",
    "                                         obs=obs)\n",
    "temp_S3, dens_S2b = diags.getCrossTemDen('[SIII] 6312/9069', '[SII] 6731/6716', \n",
    "                                         obs=obs)\n",
    "temp_N2, dens_S2c = diags.getCrossTemDen('[NII] 5755/6584', '[SII] 6731/6716', \n",
    "                                         obs=obs)"
   ]
  },
  {
   "cell_type": "code",
   "execution_count": null,
   "metadata": {
    "collapsed": false
   },
   "outputs": [],
   "source": [
    "print(temp_O3)"
   ]
  },
  {
   "cell_type": "markdown",
   "metadata": {},
   "source": [
    "##### In the cases where the density is not defined, we choose to set it to 10 and compute new Te."
   ]
  },
  {
   "cell_type": "code",
   "execution_count": null,
   "metadata": {
    "collapsed": false
   },
   "outputs": [],
   "source": [
    "pn.log_.level = 1\n",
    "mask_nan = np.isnan(dens_S2a)\n",
    "dens_S2a[mask_nan] = 10.\n",
    "O3 = pn.Atom('O', 3)\n",
    "temp_O3[mask_nan] = O3.getTemDen((obs.getLine(label='O3_4363A').corrIntens/\n",
    "                                  obs.getLine(label='O3_5007A').corrIntens)[mask_nan], \n",
    "                                  den=10, wave1=4363, wave2=5007)\n",
    "mask_nan = np.isnan(dens_S2b)\n",
    "dens_S2b[mask_nan] = 10.\n",
    "S3 = pn.Atom('S', 3)\n",
    "temp_S3[mask_nan] = S3.getTemDen((obs.getLine(label='S3_6312A').corrIntens/\n",
    "                                  obs.getLine(label='S3_9069A').corrIntens)[mask_nan], \n",
    "                                  den=10, wave1=6312, wave2=9069)\n",
    "mask_nan = np.isnan(dens_S2c)\n",
    "dens_S2c[mask_nan] = 10.\n",
    "N2 = pn.Atom('N', 2)\n",
    "temp_N2[mask_nan] = N2.getTemDen((obs.getLine(label='N2_5755A').corrIntens/\n",
    "                                  obs.getLine(label='N2_6584A').corrIntens)[mask_nan], \n",
    "                                  den=10, wave1=5755, wave2=6583)\n",
    "    \n",
    "# Here we adopt an average value of the 3 densities\n",
    "mean_dens = (dens_S2a + dens_S2b + dens_S2c) / 3"
   ]
  },
  {
   "cell_type": "markdown",
   "metadata": {},
   "source": [
    "##### We determine electron temperatures from O2 and S2 from the previously determined S2 densities."
   ]
  },
  {
   "cell_type": "code",
   "execution_count": null,
   "metadata": {
    "collapsed": false
   },
   "outputs": [],
   "source": [
    "O2 = pn.Atom('O', 2)\n",
    "temp_O2 = O2.getTemDen((obs.getLine(label='O2_3727A+').corrIntens/\n",
    "                        obs.getLine(label='O2_7325A+').corrIntens),\n",
    "                        den = mean_dens, \n",
    "                        to_eval = '(L(3726)+L(3729))/(I(4,2)+I(5,2)+I(4,3)+I(5,3))')\n",
    "S2 = pn.Atom('S', 2)\n",
    "temp_S2 = S2.getTemDen((obs.getLine(label='S2_4072A+').corrIntens/\n",
    "                        obs.getLine(label='S2_6716A').corrIntens),\n",
    "                        den = mean_dens, \n",
    "                        to_eval = '(L(4076)+L(4069))/L(6716)')"
   ]
  },
  {
   "cell_type": "markdown",
   "metadata": {},
   "source": [
    "##### We instantiate a Table object (Table as been previously imported from astropy)."
   ]
  },
  {
   "cell_type": "code",
   "execution_count": null,
   "metadata": {
    "collapsed": false
   },
   "outputs": [],
   "source": [
    "T = Table()"
   ]
  },
  {
   "cell_type": "markdown",
   "metadata": {},
   "source": [
    "##### We add the columns with their names into T"
   ]
  },
  {
   "cell_type": "code",
   "execution_count": null,
   "metadata": {
    "collapsed": false
   },
   "outputs": [],
   "source": [
    "T.add_columns([Column(obs.names, name='NAME'), \n",
    "               Column(temp_O2, name='T_O2'),\n",
    "               Column(temp_S2, name='T_S2'),\n",
    "               Column(temp_N2, name='T_N2'),\n",
    "               Column(temp_O3, name='T_O3')])"
   ]
  },
  {
   "cell_type": "markdown",
   "metadata": {},
   "source": [
    "##### We pretty print the table T."
   ]
  },
  {
   "cell_type": "code",
   "execution_count": null,
   "metadata": {
    "collapsed": false
   },
   "outputs": [],
   "source": [
    "print(T)"
   ]
  },
  {
   "cell_type": "markdown",
   "metadata": {},
   "source": [
    "##### We print the table T in an ascii file"
   ]
  },
  {
   "cell_type": "code",
   "execution_count": null,
   "metadata": {
    "collapsed": false
   },
   "outputs": [],
   "source": [
    "T.write('temperatures1.ascii', format='ascii.fixed_width')\n",
    "# writing to a second file with another format\n",
    "T.write('temperatures2.ascii', format='ascii.fixed_width',\n",
    "        formats={'NAME':'%5s', 'T_O2': '%7.1f', 'T_N2': '%7.1f', 'T_S2':'%7.1f', 'T_O3':'%7.1f'})"
   ]
  },
  {
   "cell_type": "code",
   "execution_count": null,
   "metadata": {
    "collapsed": false
   },
   "outputs": [],
   "source": [
    "!cat temperatures2.ascii"
   ]
  },
  {
   "cell_type": "markdown",
   "metadata": {},
   "source": [
    "##### We print the table T in a latex file"
   ]
  },
  {
   "cell_type": "code",
   "execution_count": null,
   "metadata": {
    "collapsed": true
   },
   "outputs": [],
   "source": [
    "T.write('temperatures.tex', format='ascii.latex',\n",
    "        formats={'NAME':'%5s', 'T_O2': '%7.1f', 'T_N2': '%7.1f', 'T_S2':'%7.1f', 'T_O3':'%7.1f'})\n",
    "# test anither format\n",
    "T.write('temperatures2.tex', format='ascii.aastex',\n",
    "        formats={'NAME':'%5s', 'T_O2': '%7.1f', 'T_N2': '%7.1f', 'T_S2':'%7.1f', 'T_O3':'%7.1f'})"
   ]
  },
  {
   "cell_type": "code",
   "execution_count": null,
   "metadata": {
    "collapsed": false
   },
   "outputs": [],
   "source": [
    "!cat temperatures.tex"
   ]
  },
  {
   "cell_type": "markdown",
   "metadata": {},
   "source": [
    "### Use Bresolin’s et al policy to derive the electron temperature in the low- and high-excitation zones of each object."
   ]
  },
  {
   "cell_type": "markdown",
   "metadata": {},
   "source": [
    "##### We use a copy of the arrays, as we will have to modify them and don't want to touch the original data."
   ]
  },
  {
   "cell_type": "code",
   "execution_count": null,
   "metadata": {
    "collapsed": false
   },
   "outputs": [],
   "source": [
    "tS3 = temp_S3.copy()\n",
    "tO3 = temp_O3.copy()\n",
    "# we define 3 Te for low, mid and high ionization regions\n",
    "Tmid = tS3\n",
    "mask_nan = np.isnan(tS3)\n",
    "Tmid[mask_nan] = tO3[mask_nan] * 0.83 + 1700\n",
    "    \n",
    "Thigh = tO3\n",
    "mask_nan = np.isnan(tO3)\n",
    "Thigh[mask_nan] = (tS3[mask_nan] - 1700) / 0.83\n",
    "    \n",
    "#Tlow = (temp_S2+temp_O2) / 2.    \n",
    "Tlow = Thigh*0.7 + 3000\n",
    "\n",
    "print(Tlow, Tmid, Thigh)"
   ]
  },
  {
   "cell_type": "markdown",
   "metadata": {},
   "source": [
    "### Compute the ionic abundances for N, O, Ne for all the objects."
   ]
  },
  {
   "cell_type": "code",
   "execution_count": null,
   "metadata": {
    "collapsed": false
   },
   "outputs": [],
   "source": [
    "#we associate the Te with each ion\n",
    "Te_dic = {'N2' : Tlow,\n",
    "              'O2' : Tlow,\n",
    "              'S2' : Tlow,\n",
    "              'S3' : Tmid,\n",
    "              'Ar3' : Tmid,\n",
    "              'O3'  : Thigh,\n",
    "              'Ne3' : Thigh}\n",
    "    \n",
    "all_atoms = pn.getAtomDict(atom_list=obs.getUniqueAtoms())\n",
    "    \n",
    "# This is the dictionnary which will contain the ionic abundances\n",
    "ab_dic = {}\n",
    "    \n",
    "# we  use the following lines to determine the ionic abundances\n",
    "ab_labels = ['N2_6584A', 'O2_3727A+', 'O3_5007A', 'S2_6716A', 'S3_9069A', 'Ar3_7136A', 'Ne3_3869A']\n",
    "for line in obs.getSortedLines():\n",
    "    if line.label in ab_labels:\n",
    "        ab = all_atoms[line.atom].getIonAbundance(line.corrIntens, Te_dic[line.atom], mean_dens, \n",
    "                                                   to_eval=line.to_eval, Hbeta=100)\n",
    "        print('{0:9s}'.format(line.label) + ' '.join(['{0:>4.2f}'.format(t) for t in 12 + np.log10(ab)]))\n",
    "        ab_dic[line.atom] = ab"
   ]
  },
  {
   "cell_type": "markdown",
   "metadata": {},
   "source": [
    "### Compute the total abundances of N, O, Ne for all the objects using the ’classical’ formulae for the ionization correction factors: O/H= O$^+$/H$^+$ + O$^{++}$/H$^+$, N/O = N$^+$/O$^+$, and Ne/O=Ne$^{++}$ /O$^{++}$ ."
   ]
  },
  {
   "cell_type": "markdown",
   "metadata": {},
   "source": [
    "##### We compute the total abundances by summing the ionic ones for O/H and by using classical ICFs."
   ]
  },
  {
   "cell_type": "code",
   "execution_count": null,
   "metadata": {
    "collapsed": true
   },
   "outputs": [],
   "source": [
    "OoH = ab_dic['O2'] + ab_dic['O3']\n",
    "NoH = ab_dic['N2'] * OoH / ab_dic['O2']\n",
    "NeoH = ab_dic['Ne3'] * OoH / ab_dic['O3']"
   ]
  },
  {
   "cell_type": "code",
   "execution_count": null,
   "metadata": {
    "collapsed": false
   },
   "outputs": [],
   "source": [
    "print(OoH)"
   ]
  },
  {
   "cell_type": "code",
   "execution_count": null,
   "metadata": {
    "collapsed": false
   },
   "outputs": [],
   "source": [
    "print(12+np.log10(OoH))"
   ]
  },
  {
   "cell_type": "markdown",
   "metadata": {},
   "source": [
    "### Plot O/H, Ne/H, N/H as a function of the galactocentric distance (given in Bresolin et al 2009)."
   ]
  },
  {
   "cell_type": "code",
   "execution_count": null,
   "metadata": {
    "collapsed": false
   },
   "outputs": [],
   "source": [
    "f, ax = plt.subplots(figsize=(8,8))\n",
    "ax.scatter(Rgal, np.log10(OoH) + 12, label = 'O/H', color='red')\n",
    "ax.scatter(Rgal, np.log10(NoH) + 12, label = 'N/H', color='blue')\n",
    "ax.scatter(Rgal, np.log10(NeoH) + 12, label = 'Ne/H', color='green')\n",
    "\n",
    "ax.legend()\n",
    "ax.set_xlabel('RGal')\n",
    "ax.set_ylabel('12+log(X/H)')"
   ]
  },
  {
   "cell_type": "markdown",
   "metadata": {},
   "source": [
    "### Print out all the atomic data files used in this programm."
   ]
  },
  {
   "cell_type": "code",
   "execution_count": null,
   "metadata": {
    "collapsed": false
   },
   "outputs": [],
   "source": [
    "for ion in np.sort(list(pn.config.DataFiles.keys())):\n",
    "    print('{0} -> {1}'.format(ion, pn.config.DataFiles[ion]))"
   ]
  },
  {
   "cell_type": "markdown",
   "metadata": {},
   "source": [
    "### ??? How should one proceed (in principle) to compute properly the error bars?"
   ]
  },
  {
   "cell_type": "code",
   "execution_count": 1,
   "metadata": {
    "collapsed": false
   },
   "outputs": [
    {
     "data": {
      "text/html": [
       "<style>\n",
       "    @font-face {\n",
       "        font-family: \"Computer Modern\";\n",
       "        src: url('http://9dbb143991406a7c655e-aa5fcb0a5a4ec34cff238a2d56ca4144.r56.cf5.rackcdn.com/cmunss.otf');\n",
       "    }\n",
       "    @font-face {\n",
       "        font-family: \"Computer Modern\";\n",
       "        font-weight: bold;\n",
       "        src: url('http://9dbb143991406a7c655e-aa5fcb0a5a4ec34cff238a2d56ca4144.r56.cf5.rackcdn.com/cmunsx.otf');\n",
       "    }\n",
       "    @font-face {\n",
       "        font-family: \"Computer Modern\";\n",
       "        font-style: oblique;\n",
       "        src: url('http://9dbb143991406a7c655e-aa5fcb0a5a4ec34cff238a2d56ca4144.r56.cf5.rackcdn.com/cmunsi.otf');\n",
       "    }\n",
       "    @font-face {\n",
       "        font-family: \"Computer Modern\";\n",
       "        font-weight: bold;\n",
       "        font-style: oblique;\n",
       "        src: url('http://9dbb143991406a7c655e-aa5fcb0a5a4ec34cff238a2d56ca4144.r56.cf5.rackcdn.com/cmunso.otf');\n",
       "    }\n",
       "    div.cell{\n",
       "        width:800px;\n",
       "        margin-left:16% !important;\n",
       "        margin-right:auto;\n",
       "    }\n",
       "    div.text_cell_render{\n",
       "        font-family: Computer Modern, \"Helvetica Neue\", Arial, Helvetica, Geneva, sans-serif;\n",
       "        line-height: 145%;\n",
       "        font-size: 130%;\n",
       "        width:800px;\n",
       "        margin-left:auto;\n",
       "        margin-right:auto;\n",
       "    }\n",
       "    h1 {\n",
       "        font-family: Helvetica, serif;\n",
       "    }\n",
       "    \n",
       "    h3{\n",
       "        margin-top:12px;\n",
       "        margin-bottom: 3px;\n",
       "        margin-left: -10px;\n",
       "        background-color: #fcf2f2;\n",
       "        border-color: #dFb5b4;\n",
       "        border-left: 5px solid #dfb5b4;\n",
       "        padding: 0.5em;\n",
       "        font-weight:normal;\n",
       "    }\n",
       "    div.text_cell_render h3 {\n",
       "     font-size: 14pt;\n",
       "     font-weight:normal;\n",
       "    }\n",
       "    div.text_cell_render h5 {\n",
       "        font-size: 12pt;\n",
       "        color: #4057A1;\n",
       "        font-style: italic;\n",
       "        font-weight:normal;\n",
       "        margin-bottom: .0em;\n",
       "        margin-top: 0.0em;\n",
       "        display: block;\n",
       "    }\n",
       "    .CodeMirror{\n",
       "            font-family: \"Source Code Pro\", source-code-pro,Consolas, monospace;\n",
       "    }\n",
       "#    .prompt{\n",
       "#        display: None;\n",
       "#    }\n",
       "    .warning{\n",
       "        color: rgb( 240, 20, 20 )\n",
       "        }  \n",
       "</style>\n",
       "<script>\n",
       "    MathJax.Hub.Config({\n",
       "                        TeX: {\n",
       "                           extensions: [\"AMSmath.js\"]\n",
       "                           },\n",
       "                tex2jax: {\n",
       "                    inlineMath: [ ['$','$'], [\"\\\\(\",\"\\\\)\"] ],\n",
       "                    displayMath: [ ['$$','$$'], [\"\\\\[\",\"\\\\]\"] ]\n",
       "                },\n",
       "                displayAlign: 'center', // Change this to 'center' to center equations.\n",
       "                \"HTML-CSS\": {\n",
       "                    styles: {'.MathJax_Display': {\"margin\": 4}}\n",
       "                }\n",
       "        });\n",
       "</script>\n"
      ],
      "text/plain": [
       "<IPython.core.display.HTML object>"
      ]
     },
     "execution_count": 1,
     "metadata": {},
     "output_type": "execute_result"
    }
   ],
   "source": [
    "# the following is to have the nice style in the Notebook.\n",
    "# Don't remove this.\n",
    "from IPython.core.display import HTML\n",
    "def css_styling():\n",
    "    styles = open(\"./styles/custom.css\", \"r\").read()\n",
    "    return HTML(styles)\n",
    "css_styling()"
   ]
  },
  {
   "cell_type": "code",
   "execution_count": null,
   "metadata": {
    "collapsed": true
   },
   "outputs": [],
   "source": []
  }
 ],
 "metadata": {
  "kernelspec": {
   "display_name": "Python 3",
   "language": "python",
   "name": "python3"
  },
  "language_info": {
   "codemirror_mode": {
    "name": "ipython",
    "version": 3
   },
   "file_extension": ".py",
   "mimetype": "text/x-python",
   "name": "python",
   "nbconvert_exporter": "python",
   "pygments_lexer": "ipython3",
   "version": "3.6.1"
  }
 },
 "nbformat": 4,
 "nbformat_minor": 0
}

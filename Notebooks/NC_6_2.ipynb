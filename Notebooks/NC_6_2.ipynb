{
 "cells": [
  {
   "cell_type": "markdown",
   "metadata": {},
   "source": [
    "# RUNNING CLOUDY WITHIN THE PYCLOUDY ENVIRONMENT"
   ]
  },
  {
   "cell_type": "markdown",
   "metadata": {},
   "source": [
    "## Ionization and temperature structure (see previous notebook)"
   ]
  },
  {
   "cell_type": "markdown",
   "metadata": {},
   "source": [
    "## Comparing different stellar energy distributions"
   ]
  },
  {
   "cell_type": "markdown",
   "metadata": {},
   "source": [
    "### Compute a dust-free solar abundance spherical model of density n = 250 cm$^{-3}$ and ionization parameter log U = -2 ionized by a blackbody at 50,000K and a luminosity of 10$^5$ L$\\odot$."
   ]
  },
  {
   "cell_type": "markdown",
   "metadata": {},
   "source": [
    "##### We import some libraries and define where Cloudy is."
   ]
  },
  {
   "cell_type": "code",
   "execution_count": null,
   "metadata": {
    "collapsed": false
   },
   "outputs": [],
   "source": [
    "%matplotlib inline\n",
    "import numpy as np\n",
    "import matplotlib.pyplot as plt\n",
    "import pyCloudy as pc\n",
    "pc.config.cloudy_exe = 'cloudy.exe' #adapt this to your installation\n",
    "models_dir = '../../Models/'"
   ]
  },
  {
   "cell_type": "markdown",
   "metadata": {},
   "source": [
    "##### We define a function to have the inner raius and Q0 (see previous section)."
   ]
  },
  {
   "cell_type": "code",
   "execution_count": null,
   "metadata": {
    "collapsed": false
   },
   "outputs": [],
   "source": [
    "def get_R_in_Q0(logU, fr, NH=100, ff=1.0):\n",
    "    c = pc.CST.CLIGHT\n",
    "    U_mean = 10**logU\n",
    "    w = (1 + fr**3.)**(1./3) - fr\n",
    "    alpha_B = 2.6e-13\n",
    "    Q0 = 4. * np.pi * c**3 * U_mean**3 / (3. * NH * ff**2 * alpha_B**2 * w**3)\n",
    "    R_str = (3. * Q0 / (4 * np.pi * NH**2 * alpha_B * ff))**(1./3)\n",
    "    R_in = fr * R_str\n",
    "    return R_in, Q0"
   ]
  },
  {
   "cell_type": "markdown",
   "metadata": {},
   "source": [
    "##### We define a function to prepare and run the model."
   ]
  },
  {
   "cell_type": "code",
   "execution_count": null,
   "metadata": {
    "collapsed": false
   },
   "outputs": [],
   "source": [
    "options = ('no molecules',\n",
    "           'no level2 lines',\n",
    "           'no fine opacities',\n",
    "           'atom h-like levels small',\n",
    "           'atom he-like levels small',\n",
    "           'element limit off -7',\n",
    "            )\n",
    "def make_mod(name):\n",
    "    NH = 250.\n",
    "    R_in, Q0 = get_R_in_Q0(logU=-2, fr=.03, NH=NH)\n",
    "    c_input = pc.CloudyInput('{0}/{1}'.format(models_dir, name))\n",
    "    c_input.set_BB(Teff = 50000., lumi_unit = 'q(H)', lumi_value = np.log10(Q0))\n",
    "    c_input.set_cste_density(np.log10(NH))\n",
    "    c_input.set_radius(r_in = np.log10(R_in))\n",
    "    c_input.set_abund(predef='ism')\n",
    "    c_input.set_distance(dist=1., unit='kpc', linear=True)\n",
    "    c_input.set_other(options)\n",
    "    c_input.set_stop(('temperature off', 'pfrac 0.02'))\n",
    "    c_input.print_input()\n",
    "    c_input.run_cloudy()"
   ]
  },
  {
   "cell_type": "code",
   "execution_count": null,
   "metadata": {
    "collapsed": false
   },
   "outputs": [],
   "source": [
    "name = 'M6_20'"
   ]
  },
  {
   "cell_type": "code",
   "execution_count": null,
   "metadata": {
    "collapsed": false
   },
   "outputs": [],
   "source": [
    "make_mod(name)"
   ]
  },
  {
   "cell_type": "markdown",
   "metadata": {},
   "source": [
    "##### We read the results of the model."
   ]
  },
  {
   "cell_type": "code",
   "execution_count": null,
   "metadata": {
    "collapsed": false
   },
   "outputs": [],
   "source": [
    "M = pc.CloudyModel('{0}/{1}'.format(models_dir, name), read_emis=False)"
   ]
  },
  {
   "cell_type": "markdown",
   "metadata": {},
   "source": [
    "##### We use pyCloudy to plot the spectra."
   ]
  },
  {
   "cell_type": "code",
   "execution_count": null,
   "metadata": {
    "collapsed": false
   },
   "outputs": [],
   "source": [
    "f, ax = plt.subplots(figsize=(12,8))\n",
    "M.plot_spectrum(cont='incid', ax=ax, xunit='Ang', yunit='esA')\n",
    "M.plot_spectrum(cont='ntrans', ax=ax, xunit='Ang', yunit='esA')\n",
    "ax.set_xlim((100, 1000000))\n",
    "ax.set_ylim((1e28, 1e37))"
   ]
  },
  {
   "cell_type": "code",
   "execution_count": null,
   "metadata": {
    "collapsed": false
   },
   "outputs": [],
   "source": [
    "f, ax = plt.subplots(figsize=(12,8))\n",
    "# The ylog option requires pyCloudy version >=0.8.50\n",
    "#M.plot_spectrum(cont='ntrans', ax=ax, xunit='Ang', xlog=False, ylog=False)\n",
    "ax.plot(M.get_cont_x(unit='Ang'), M.get_cont_y(cont='ntrans', unit='Jy'))\n",
    "ax.set_xlim((3300, 10000))\n",
    "ax.set_ylim((0, 3000))"
   ]
  },
  {
   "cell_type": "markdown",
   "metadata": {},
   "source": [
    "### Compute an identical model but ionized by a WMbasic model atmopshere with log g = 4."
   ]
  },
  {
   "cell_type": "markdown",
   "metadata": {},
   "source": [
    "##### We download the wmbasic file into the Cloudy data directory from http://data.nublado.org/stars/wmbasic.ascii.gz We then compile the file to Cloudy's format by doing: echo 'compile stars \"wmbasic.ascii\" ' | cloudy.exe "
   ]
  },
  {
   "cell_type": "markdown",
   "metadata": {},
   "source": [
    "##### These files must be in the directory where the models will be run"
   ]
  },
  {
   "cell_type": "markdown",
   "metadata": {},
   "source": [
    "##### We ask cloudy wich SEDs are available (do this from the directory where the models are run)."
   ]
  },
  {
   "cell_type": "markdown",
   "metadata": {},
   "source": [
    "##### We ask cloudy what combination of parameters for a given SED grid are available."
   ]
  },
  {
   "cell_type": "code",
   "execution_count": null,
   "metadata": {
    "collapsed": false
   },
   "outputs": [],
   "source": [
    "! cd /DATA/NEBULATOM ; echo \"table star wmbasic list\" | cloudy.exe"
   ]
  },
  {
   "cell_type": "code",
   "execution_count": null,
   "metadata": {
    "collapsed": false
   },
   "outputs": [],
   "source": [
    "# We de fine the models to be run with the appropriate values of the WMbasic parameters.\n",
    "def make_mod_WM(name):\n",
    "    NH = 250\n",
    "    fr = 0.03\n",
    "    R_in, Q0 = get_R_in_Q0(logU=-2, fr=fr, NH=NH)\n",
    "    c_input = pc.CloudyInput('{0}/{1}'.format(models_dir, name))\n",
    "    c_input.set_star(SED='table star wmbasic', SED_params=(50000, 4, 0),\n",
    "                     lumi_unit = 'q(H)', lumi_value = np.log10(Q0))\n",
    "    c_input.set_cste_density(np.log10(NH))\n",
    "    c_input.set_radius(r_in = np.log10(R_in))\n",
    "    c_input.set_abund(predef='ism')\n",
    "    c_input.set_distance(dist=1., unit='kpc', linear=True)\n",
    "    c_input.set_other(options)\n",
    "    c_input.set_stop(('temperature off', 'pfrac 0.02'))\n",
    "    c_input.print_input()\n",
    "    c_input.run_cloudy()"
   ]
  },
  {
   "cell_type": "code",
   "execution_count": null,
   "metadata": {
    "collapsed": false
   },
   "outputs": [],
   "source": [
    "name = 'M6_21'"
   ]
  },
  {
   "cell_type": "code",
   "execution_count": null,
   "metadata": {
    "collapsed": false
   },
   "outputs": [],
   "source": [
    "make_mod_WM(name)"
   ]
  },
  {
   "cell_type": "code",
   "execution_count": null,
   "metadata": {
    "collapsed": false
   },
   "outputs": [],
   "source": [
    "M_WM = pc.CloudyModel('{0}/{1}'.format(models_dir, name), read_emis=False)"
   ]
  },
  {
   "cell_type": "code",
   "execution_count": null,
   "metadata": {
    "collapsed": false
   },
   "outputs": [],
   "source": [
    "f, ax = plt.subplots(figsize=(12,8))\n",
    "M_WM.plot_spectrum(cont='incid', ax=ax, xunit='Ang', label='WM_in')\n",
    "M.plot_spectrum(cont='incid', ax=ax, xunit='Ang', label='BB_in')\n",
    "M_WM.plot_spectrum(cont='ntrans', ax=ax, xunit='Ang', label='WM_out')\n",
    "M.plot_spectrum(cont='ntrans', ax=ax, xunit='Ang', label='BB_out')\n",
    "ax.set_xlim((1e2, 1e6))\n",
    "ax.set_ylim((1e30, 1e39))\n",
    "ax.legend(loc='best')"
   ]
  },
  {
   "cell_type": "markdown",
   "metadata": {},
   "source": [
    "##### We overplot the spectra obtained with a Planck function and with the WMBasic code."
   ]
  },
  {
   "cell_type": "code",
   "execution_count": null,
   "metadata": {
    "collapsed": false
   },
   "outputs": [],
   "source": [
    "f, ax = plt.subplots(figsize=(12,8))\n",
    "M.plot_spectrum(cont='incid', ax=ax, xunit='Ang', label='BB_in')\n",
    "M_WM.plot_spectrum(cont='incid', ax=ax, xunit='Ang', label='WM_in')\n",
    "M.plot_spectrum(cont='ntrans', ax=ax, xunit='Ang', label='BB_out')\n",
    "M_WM.plot_spectrum(cont='ntrans', ax=ax, xunit='Ang', label='WM_out')\n",
    "ax.set_xlim((100, 10000))\n",
    "ax.set_ylim((1e36, 1e39))\n",
    "ax.legend(loc='best')"
   ]
  },
  {
   "cell_type": "markdown",
   "metadata": {},
   "source": [
    "### Plot the values of $Q(E)$, the number of stellar photons above energy $E$, for the two spectral energy distributions considered"
   ]
  },
  {
   "cell_type": "code",
   "execution_count": null,
   "metadata": {
    "collapsed": false
   },
   "outputs": [],
   "source": [
    "f, ax = plt.subplots(figsize=(12,8))\n",
    "M.plot_spectrum(cont='incid', ax=ax, xunit='eV', yunit='Q', xlog=False)\n",
    "M_WM.plot_spectrum(cont='incid', ax=ax, xunit='eV', yunit='Q', xlog=False)\n",
    "ax.set_xlim((10, 100))\n"
   ]
  },
  {
   "cell_type": "markdown",
   "metadata": {},
   "source": [
    "###  Compare the ionization structures of He,N,O,Ne,S,Ar for these two models, by plotting the ionic abundances as a function of fractional radius. "
   ]
  },
  {
   "cell_type": "code",
   "execution_count": null,
   "metadata": {
    "collapsed": false
   },
   "outputs": [],
   "source": [
    "f, axes = plt.subplots(6, 1, figsize=(10,20))\n",
    "axes[0].plot(M.depth_full/M.thickness_full, M.get_ionic('He', 0), 'b-.')\n",
    "axes[0].plot(M.depth_full/M.thickness_full, M.get_ionic('He', 1), 'b-')\n",
    "axes[0].plot(M.depth_full/M.thickness_full, M.get_ionic('He', 2), 'b--')\n",
    "axes[0].plot(M_WM.depth_full/M_WM.thickness_full, M_WM.get_ionic('He', 0), 'g-.')\n",
    "axes[0].plot(M_WM.depth_full/M_WM.thickness_full, M_WM.get_ionic('He', 1), 'g-')\n",
    "axes[0].plot(M_WM.depth_full/M_WM.thickness_full, M_WM.get_ionic('He', 2), 'g--')\n",
    "axes[0].set_ylabel('He')\n",
    "\n",
    "axes[1].plot(M.depth_full/M.thickness_full, M.get_ionic('N', 1), 'b-')\n",
    "axes[1].plot(M.depth_full/M.thickness_full, M.get_ionic('N', 2), 'b--')\n",
    "axes[1].plot(M.depth_full/M.thickness_full, M.get_ionic('N', 3), 'b:')\n",
    "axes[1].plot(M_WM.depth_full/M_WM.thickness_full, M_WM.get_ionic('N', 1), 'g-')\n",
    "axes[1].plot(M_WM.depth_full/M_WM.thickness_full, M_WM.get_ionic('N', 2), 'g--')\n",
    "axes[1].plot(M_WM.depth_full/M_WM.thickness_full, M_WM.get_ionic('N', 3), 'g:')\n",
    "axes[1].set_ylabel('N')\n",
    "\n",
    "axes[2].plot(M.depth_full/M.thickness_full, M.get_ionic('O', 1), 'b-')\n",
    "axes[2].plot(M.depth_full/M.thickness_full, M.get_ionic('O', 2), 'b--')\n",
    "axes[2].plot(M.depth_full/M.thickness_full, M.get_ionic('O', 3), 'b:')\n",
    "axes[2].plot(M_WM.depth_full/M_WM.thickness_full, M_WM.get_ionic('O', 1), 'g-')\n",
    "axes[2].plot(M_WM.depth_full/M_WM.thickness_full, M_WM.get_ionic('O', 2), 'g--')\n",
    "axes[2].plot(M_WM.depth_full/M_WM.thickness_full, M_WM.get_ionic('O', 3), 'g:')\n",
    "axes[2].set_ylabel('O')\n",
    "\n",
    "axes[3].plot(M.depth_full/M.thickness_full, M.get_ionic('Ne', 1), 'b-')\n",
    "axes[3].plot(M.depth_full/M.thickness_full, M.get_ionic('Ne', 2), 'b--')\n",
    "axes[3].plot(M.depth_full/M.thickness_full, M.get_ionic('Ne', 3), 'b:')\n",
    "axes[3].plot(M_WM.depth_full/M_WM.thickness_full, M_WM.get_ionic('Ne', 1), 'g-')\n",
    "axes[3].plot(M_WM.depth_full/M_WM.thickness_full, M_WM.get_ionic('Ne', 2), 'g--')\n",
    "axes[3].plot(M_WM.depth_full/M_WM.thickness_full, M_WM.get_ionic('Ne', 3), 'g:')\n",
    "axes[3].set_ylabel('Ne')\n",
    "\n",
    "axes[4].plot(M.depth_full/M.thickness_full, M.get_ionic('S', 1), 'b-')\n",
    "axes[4].plot(M.depth_full/M.thickness_full, M.get_ionic('S', 2), 'b--')\n",
    "axes[4].plot(M.depth_full/M.thickness_full, M.get_ionic('S', 3), 'b:')\n",
    "axes[4].plot(M_WM.depth_full/M_WM.thickness_full, M_WM.get_ionic('S', 1), 'g-')\n",
    "axes[4].plot(M_WM.depth_full/M_WM.thickness_full, M_WM.get_ionic('S', 2), 'g--')\n",
    "axes[4].plot(M_WM.depth_full/M_WM.thickness_full, M_WM.get_ionic('S', 3), 'g:')\n",
    "axes[4].set_ylabel('S')\n",
    "\n",
    "axes[5].plot(M.depth_full/M.thickness_full, M.get_ionic('Ar', 1), 'b-')\n",
    "axes[5].plot(M.depth_full/M.thickness_full, M.get_ionic('Ar', 2), 'b--')\n",
    "axes[5].plot(M.depth_full/M.thickness_full, M.get_ionic('Ar', 3), 'b:')\n",
    "axes[5].plot(M_WM.depth_full/M_WM.thickness_full, M_WM.get_ionic('Ar', 1), 'g-')\n",
    "axes[5].plot(M_WM.depth_full/M_WM.thickness_full, M_WM.get_ionic('Ar', 2), 'g--')\n",
    "axes[5].plot(M_WM.depth_full/M_WM.thickness_full, M_WM.get_ionic('Ar', 3), 'g:')\n",
    "axes[5].set_ylabel('Ar')"
   ]
  },
  {
   "cell_type": "markdown",
   "metadata": {},
   "source": [
    "### ??? Comments"
   ]
  },
  {
   "cell_type": "code",
   "execution_count": 1,
   "metadata": {
    "collapsed": false
   },
   "outputs": [
    {
     "data": {
      "text/html": [
       "<style>\n",
       "    @font-face {\n",
       "        font-family: \"Computer Modern\";\n",
       "        src: url('http://9dbb143991406a7c655e-aa5fcb0a5a4ec34cff238a2d56ca4144.r56.cf5.rackcdn.com/cmunss.otf');\n",
       "    }\n",
       "    @font-face {\n",
       "        font-family: \"Computer Modern\";\n",
       "        font-weight: bold;\n",
       "        src: url('http://9dbb143991406a7c655e-aa5fcb0a5a4ec34cff238a2d56ca4144.r56.cf5.rackcdn.com/cmunsx.otf');\n",
       "    }\n",
       "    @font-face {\n",
       "        font-family: \"Computer Modern\";\n",
       "        font-style: oblique;\n",
       "        src: url('http://9dbb143991406a7c655e-aa5fcb0a5a4ec34cff238a2d56ca4144.r56.cf5.rackcdn.com/cmunsi.otf');\n",
       "    }\n",
       "    @font-face {\n",
       "        font-family: \"Computer Modern\";\n",
       "        font-weight: bold;\n",
       "        font-style: oblique;\n",
       "        src: url('http://9dbb143991406a7c655e-aa5fcb0a5a4ec34cff238a2d56ca4144.r56.cf5.rackcdn.com/cmunso.otf');\n",
       "    }\n",
       "    div.cell{\n",
       "        width:800px;\n",
       "        margin-left:16% !important;\n",
       "        margin-right:auto;\n",
       "    }\n",
       "    div.text_cell_render{\n",
       "        font-family: Computer Modern, \"Helvetica Neue\", Arial, Helvetica, Geneva, sans-serif;\n",
       "        line-height: 145%;\n",
       "        font-size: 130%;\n",
       "        width:800px;\n",
       "        margin-left:auto;\n",
       "        margin-right:auto;\n",
       "    }\n",
       "    h1 {\n",
       "        font-family: Helvetica, serif;\n",
       "    }\n",
       "    \n",
       "    h3{\n",
       "        margin-top:12px;\n",
       "        margin-bottom: 3px;\n",
       "        margin-left: -10px;\n",
       "        background-color: #fcf2f2;\n",
       "        border-color: #dFb5b4;\n",
       "        border-left: 5px solid #dfb5b4;\n",
       "        padding: 0.5em;\n",
       "        font-weight:normal;\n",
       "    }\n",
       "    div.text_cell_render h3 {\n",
       "     font-size: 14pt;\n",
       "     font-weight:normal;\n",
       "    }\n",
       "    div.text_cell_render h5 {\n",
       "        font-size: 12pt;\n",
       "        color: #4057A1;\n",
       "        font-style: italic;\n",
       "        font-weight:normal;\n",
       "        margin-bottom: .0em;\n",
       "        margin-top: 0.0em;\n",
       "        display: block;\n",
       "    }\n",
       "    .CodeMirror{\n",
       "            font-family: \"Source Code Pro\", source-code-pro,Consolas, monospace;\n",
       "    }\n",
       "#    .prompt{\n",
       "#        display: None;\n",
       "#    }\n",
       "    .warning{\n",
       "        color: rgb( 240, 20, 20 )\n",
       "        }  \n",
       "</style>\n",
       "<script>\n",
       "    MathJax.Hub.Config({\n",
       "                        TeX: {\n",
       "                           extensions: [\"AMSmath.js\"]\n",
       "                           },\n",
       "                tex2jax: {\n",
       "                    inlineMath: [ ['$','$'], [\"\\\\(\",\"\\\\)\"] ],\n",
       "                    displayMath: [ ['$$','$$'], [\"\\\\[\",\"\\\\]\"] ]\n",
       "                },\n",
       "                displayAlign: 'center', // Change this to 'center' to center equations.\n",
       "                \"HTML-CSS\": {\n",
       "                    styles: {'.MathJax_Display': {\"margin\": 4}}\n",
       "                }\n",
       "        });\n",
       "</script>\n"
      ],
      "text/plain": [
       "<IPython.core.display.HTML object>"
      ]
     },
     "execution_count": 1,
     "metadata": {},
     "output_type": "execute_result"
    }
   ],
   "source": [
    "# the following is to have the nice style in the Notebook.\n",
    "# Don't remove this.\n",
    "from IPython.core.display import HTML\n",
    "def css_styling():\n",
    "    styles = open(\"./styles/custom.css\", \"r\").read()\n",
    "    return HTML(styles)\n",
    "css_styling()"
   ]
  },
  {
   "cell_type": "code",
   "execution_count": null,
   "metadata": {
    "collapsed": true
   },
   "outputs": [],
   "source": []
  }
 ],
 "metadata": {
  "kernelspec": {
   "display_name": "Python 2",
   "language": "python",
   "name": "python2"
  },
  "language_info": {
   "codemirror_mode": {
    "name": "ipython",
    "version": 2
   },
   "file_extension": ".py",
   "mimetype": "text/x-python",
   "name": "python",
   "nbconvert_exporter": "python",
   "pygments_lexer": "ipython2",
   "version": "2.7.11"
  }
 },
 "nbformat": 4,
 "nbformat_minor": 0
}

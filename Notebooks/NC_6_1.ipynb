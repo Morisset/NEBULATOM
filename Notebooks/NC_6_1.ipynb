{
 "cells": [
  {
   "cell_type": "markdown",
   "metadata": {},
   "source": [
    "# RUNNING CLOUDY WITHIN THE PYCLOUDY ENVIRONMENT"
   ]
  },
  {
   "cell_type": "markdown",
   "metadata": {},
   "source": [
    "The proposed exercises use the Cloudy code within the pyCloudy environment, developed by C. Morisset, in which many tools are available to easily make models and analyze them. See the pyCloudy pages at: https://sites.google.com/site/pycloudy/"
   ]
  },
  {
   "cell_type": "markdown",
   "metadata": {},
   "source": [
    "## Ionization and temperature structure"
   ]
  },
  {
   "cell_type": "markdown",
   "metadata": {},
   "source": [
    "### Compare a spherical model with n = 100 cm$^{−3}$ and filling factor ff =1 with a model with n = 10$^4$ cm$^{−3}$ and filling factor ff =0.1.  Plot Te, O$^{++}$/O, O$^+$/O as a function of fractional radius in those two models. Repeat the exercise for various values of the effective temperature."
   ]
  },
  {
   "cell_type": "markdown",
   "metadata": {},
   "source": [
    "##### We import some usefull libraies."
   ]
  },
  {
   "cell_type": "code",
   "execution_count": null,
   "metadata": {
    "collapsed": false
   },
   "outputs": [],
   "source": [
    "%matplotlib inline\n",
    "import numpy as np\n",
    "import matplotlib.pyplot as plt\n",
    "import pyCloudy as pc\n",
    "import matplotlib\n",
    "matplotlib.rc('axes', linewidth=1.5)\n",
    "matplotlib.rc('lines', linewidth=2)\n",
    "matplotlib.rc('font', size=12)"
   ]
  },
  {
   "cell_type": "code",
   "execution_count": null,
   "metadata": {
    "collapsed": false
   },
   "outputs": [],
   "source": [
    "print(pc.__version__)"
   ]
  },
  {
   "cell_type": "markdown",
   "metadata": {},
   "source": [
    "##### We first tell pyCloudy where Cloudy is. Adapt the following to your installation."
   ]
  },
  {
   "cell_type": "code",
   "execution_count": null,
   "metadata": {
    "collapsed": false
   },
   "outputs": [],
   "source": [
    "pc.config.cloudy_exe = 'cloudy.exe'"
   ]
  },
  {
   "cell_type": "markdown",
   "metadata": {},
   "source": [
    "##### We define a directory where we want the models to be. You may have to create it and give proper permissions."
   ]
  },
  {
   "cell_type": "code",
   "execution_count": null,
   "metadata": {
    "collapsed": false
   },
   "outputs": [],
   "source": [
    "models_dir = '../../Models/'"
   ]
  },
  {
   "cell_type": "markdown",
   "metadata": {},
   "source": [
    "##### We create a Makefile in this directory that will be used to run the models. This needs to be done only once."
   ]
  },
  {
   "cell_type": "code",
   "execution_count": null,
   "metadata": {
    "collapsed": false
   },
   "outputs": [],
   "source": [
    "pc.print_make_file(models_dir)"
   ]
  },
  {
   "cell_type": "markdown",
   "metadata": {},
   "source": [
    "##### We define a CloudyInput object filled with the parameters of the model we want to run"
   ]
  },
  {
   "cell_type": "code",
   "execution_count": null,
   "metadata": {
    "collapsed": false
   },
   "outputs": [],
   "source": [
    "name = 'M6_1'"
   ]
  },
  {
   "cell_type": "code",
   "execution_count": null,
   "metadata": {
    "collapsed": false
   },
   "outputs": [],
   "source": [
    "c_input = pc.CloudyInput('{0}/{1}'.format(models_dir, name))"
   ]
  },
  {
   "cell_type": "markdown",
   "metadata": {},
   "source": [
    "##### Look at the available methods in the CloudyInput object."
   ]
  },
  {
   "cell_type": "code",
   "execution_count": null,
   "metadata": {
    "collapsed": false
   },
   "outputs": [],
   "source": [
    "help(c_input)"
   ]
  },
  {
   "cell_type": "markdown",
   "metadata": {},
   "source": [
    "##### Set some parameters."
   ]
  },
  {
   "cell_type": "code",
   "execution_count": null,
   "metadata": {
    "collapsed": false
   },
   "outputs": [],
   "source": [
    "c_input.set_BB(Teff = 50000., lumi_unit = 'q(H)', lumi_value = 48)\n",
    "c_input.set_cste_density(2., ff = 1.)\n",
    "c_input.set_radius(r_in = 15.)\n",
    "c_input.set_abund(predef = 'ism')\n",
    "c_input.set_distance(dist=1., unit='kpc', linear=True)\n",
    "options = ('no molecules',\n",
    "           'no level2 lines',\n",
    "           'no fine opacities',\n",
    "           'atom h-like levels small',\n",
    "           'atom he-like levels small',\n",
    "           'element limit off -7',\n",
    "            )\n",
    "c_input.set_other(options)\n",
    "c_input.print_input()"
   ]
  },
  {
   "cell_type": "code",
   "execution_count": null,
   "metadata": {
    "collapsed": false
   },
   "outputs": [],
   "source": [
    "!cat ../../Models/M6_1.in"
   ]
  },
  {
   "cell_type": "markdown",
   "metadata": {},
   "source": [
    "##### Run the model."
   ]
  },
  {
   "cell_type": "code",
   "execution_count": null,
   "metadata": {
    "collapsed": false
   },
   "outputs": [],
   "source": [
    "c_input.run_cloudy()"
   ]
  },
  {
   "cell_type": "markdown",
   "metadata": {},
   "source": [
    "##### Read the model results into a CloudyModel object."
   ]
  },
  {
   "cell_type": "code",
   "execution_count": null,
   "metadata": {
    "collapsed": false
   },
   "outputs": [],
   "source": [
    "pc.log_.level=3\n",
    "M1 = pc.CloudyModel('{0}/{1}'.format(models_dir, name))\n",
    "# A warning is issued because no emission line file is found. \n",
    "# This is a normal behaviour, we didn't set it."
   ]
  },
  {
   "cell_type": "markdown",
   "metadata": {},
   "source": [
    "##### We plot some values depending on the radius of the nebula."
   ]
  },
  {
   "cell_type": "code",
   "execution_count": null,
   "metadata": {
    "collapsed": false
   },
   "outputs": [],
   "source": [
    "f, axes = plt.subplots(1, 3, figsize=(12,6))\n",
    "x = M1.depth/np.max(M1.depth)\n",
    "axes[0].plot(x, M1.te)\n",
    "axes[0].set_ylabel('Te [K]')\n",
    "axes[1].plot(x, M1.get_ionic('O', 1))\n",
    "axes[1].set_ylabel('O+/O')\n",
    "axes[1].set_ylim(0,1)\n",
    "axes[2].plot(x, M1.get_ionic('O', 2))\n",
    "axes[2].set_ylabel('O++/O')\n",
    "axes[2].set_ylim(0,1)\n",
    "f.tight_layout()"
   ]
  },
  {
   "cell_type": "markdown",
   "metadata": {},
   "source": [
    "##### We prepare the inputs for a new model with different density."
   ]
  },
  {
   "cell_type": "code",
   "execution_count": null,
   "metadata": {
    "collapsed": false
   },
   "outputs": [],
   "source": [
    "name = 'M6_2'"
   ]
  },
  {
   "cell_type": "code",
   "execution_count": null,
   "metadata": {
    "collapsed": false
   },
   "outputs": [],
   "source": [
    "c_input.model_name = '{0}/{1}'.format(models_dir, name)\n",
    "c_input.set_cste_density(4., ff = .1)\n",
    "c_input.print_input()\n",
    "c_input.run_cloudy()"
   ]
  },
  {
   "cell_type": "code",
   "execution_count": null,
   "metadata": {
    "collapsed": false
   },
   "outputs": [],
   "source": [
    "M2 = pc.CloudyModel('{0}/{1}'.format(models_dir, name))"
   ]
  },
  {
   "cell_type": "code",
   "execution_count": null,
   "metadata": {
    "collapsed": false
   },
   "outputs": [],
   "source": [
    "M1.print_stats()"
   ]
  },
  {
   "cell_type": "code",
   "execution_count": null,
   "metadata": {
    "collapsed": false
   },
   "outputs": [],
   "source": [
    "M2.print_stats()"
   ]
  },
  {
   "cell_type": "markdown",
   "metadata": {},
   "source": [
    "##### We plot the parameters for the 2 models."
   ]
  },
  {
   "cell_type": "code",
   "execution_count": null,
   "metadata": {
    "collapsed": false
   },
   "outputs": [],
   "source": [
    "f, axes = plt.subplots(1, 3, figsize=(12,6))\n",
    "axes[0].plot(M1.depth/np.max(M1.depth), M1.te, label='M6_1')\n",
    "axes[0].plot(M2.depth/np.max(M2.depth), M2.te, '--', label='M6_2')\n",
    "axes[1].plot(M1.depth/np.max(M1.depth), M1.get_ionic('O', 1), label='M6_1')\n",
    "axes[2].plot(M1.depth/np.max(M1.depth), M1.get_ionic('O', 2), label='M6_1')\n",
    "axes[1].plot(M2.depth/np.max(M2.depth), M2.get_ionic('O', 1), '--', label='M6_2')\n",
    "axes[2].plot(M2.depth/np.max(M2.depth), M2.get_ionic('O', 2), '--', label='M6_2')\n",
    "axes[0].set_ylabel('Te')     \n",
    "axes[1].set_ylabel('O+/O')     \n",
    "axes[2].set_ylabel('O++/O') \n",
    "axes[0].set_xlabel('relat. depth')\n",
    "axes[1].set_xlabel('relat. depth')\n",
    "axes[2].set_xlabel('relat. depth')\n",
    "for ax in axes:\n",
    "    ax.legend(loc='best')\n",
    "f.tight_layout()"
   ]
  },
  {
   "cell_type": "markdown",
   "metadata": {},
   "source": [
    "##### We define a function that writes and runs the input file. It depends on some parameters (namely the effective temeprature, the density and the filling factor)."
   ]
  },
  {
   "cell_type": "code",
   "execution_count": null,
   "metadata": {
    "collapsed": false
   },
   "outputs": [],
   "source": [
    "def make_mod(name, Teff, dens, ff):\n",
    "    options = ('no molecules',\n",
    "           'no level2 lines',\n",
    "           'no fine opacities',\n",
    "           'atom h-like levels small',\n",
    "           'atom he-like levels small',\n",
    "           'element limit off -7',\n",
    "            )\n",
    "    c_input = pc.CloudyInput('{0}/{1}'.format(models_dir, name))\n",
    "    c_input.set_BB(Teff = Teff, lumi_unit = 'q(H)', lumi_value = 48)\n",
    "    c_input.set_cste_density(dens, ff = ff)\n",
    "    c_input.set_radius(r_in = 15.)\n",
    "    c_input.set_abund(predef = 'ism')\n",
    "    c_input.set_distance(dist=1., unit='kpc', linear=True)\n",
    "    c_input.set_other(options)\n",
    "    c_input.print_input()"
   ]
  },
  {
   "cell_type": "markdown",
   "metadata": {},
   "source": [
    "##### We can now easily prepare 6 input files for 6 different models."
   ]
  },
  {
   "cell_type": "code",
   "execution_count": null,
   "metadata": {
    "collapsed": false
   },
   "outputs": [],
   "source": [
    "make_mod('M6_3', Teff=100000, dens=2, ff=1.)\n",
    "make_mod('M6_4', Teff=100000, dens=4, ff=0.1)\n",
    "make_mod('M6_5', Teff=150000, dens=2, ff=1.)\n",
    "make_mod('M6_6', Teff=150000, dens=4, ff=0.1)"
   ]
  },
  {
   "cell_type": "markdown",
   "metadata": {},
   "source": [
    "##### We check the number of processes of the computer."
   ]
  },
  {
   "cell_type": "code",
   "execution_count": null,
   "metadata": {
    "collapsed": false
   },
   "outputs": [],
   "source": [
    "pc.config.Nprocs"
   ]
  },
  {
   "cell_type": "markdown",
   "metadata": {},
   "source": [
    "##### We will run the models using 8 processors of the computer."
   ]
  },
  {
   "cell_type": "code",
   "execution_count": null,
   "metadata": {
    "collapsed": false
   },
   "outputs": [],
   "source": [
    "pc.run_cloudy(models_dir, n_proc=8)"
   ]
  },
  {
   "cell_type": "markdown",
   "metadata": {},
   "source": [
    "##### We read the results of the models in different CloudyModel objects."
   ]
  },
  {
   "cell_type": "code",
   "execution_count": null,
   "metadata": {
    "collapsed": false
   },
   "outputs": [],
   "source": [
    "pc.log_.level=2\n",
    "M3 = pc.CloudyModel('{0}/{1}'.format(models_dir, 'M6_3'), read_emis=False)\n",
    "M4 = pc.CloudyModel('{0}/{1}'.format(models_dir, 'M6_4'), read_emis=False)\n",
    "M5 = pc.CloudyModel('{0}/{1}'.format(models_dir, 'M6_5'), read_emis=False)\n",
    "M6 = pc.CloudyModel('{0}/{1}'.format(models_dir, 'M6_6'), read_emis=False)"
   ]
  },
  {
   "cell_type": "markdown",
   "metadata": {},
   "source": [
    "##### We define a function used to plot the results of a model given as a parameter. The axis object is a parameter, to allow easy overplot."
   ]
  },
  {
   "cell_type": "code",
   "execution_count": null,
   "metadata": {
    "collapsed": false
   },
   "outputs": [],
   "source": [
    "def plot_mod(M, axes):\n",
    "    axes[0].plot(M.depth/np.max(M.depth), M.te, \n",
    "            label='{}'.format(M.model_name.split('/')[-1]))\n",
    "    axes[1].plot(M.depth/np.max(M.depth), M.get_ionic('O', 1), \n",
    "            label='{}'.format(M.model_name.split('/')[-1]))\n",
    "    axes[2].plot(M.depth/np.max(M.depth), M.get_ionic('O', 2), '--', \n",
    "            label='{}'.format(M.model_name.split('/')[-1]))\n",
    "    axes[0].set_ylabel('Te')     \n",
    "    axes[1].set_ylabel('O+/O')     \n",
    "    axes[2].set_ylabel('O++/O') \n",
    "    axes[0].set_xlabel('relat. depth')\n",
    "    axes[1].set_xlabel('relat. depth')\n",
    "    axes[2].set_xlabel('relat. depth')"
   ]
  },
  {
   "cell_type": "code",
   "execution_count": null,
   "metadata": {
    "collapsed": false
   },
   "outputs": [],
   "source": [
    "f, axes = plt.subplots(2, 3, figsize=(15,15))\n",
    "plot_mod(M1, axes[0,:])\n",
    "plot_mod(M2, axes[0,:])\n",
    "plot_mod(M4, axes[0,:])\n",
    "\n",
    "plot_mod(M5, axes[1,:])\n",
    "plot_mod(M6, axes[1,:])\n",
    "\n",
    "for ax in axes.ravel():\n",
    "    ax.legend(loc='best', fancybox=True, framealpha=0.75)\n",
    "f.tight_layout()"
   ]
  },
  {
   "cell_type": "markdown",
   "metadata": {},
   "source": [
    "### ??? Comment on the results."
   ]
  },
  {
   "cell_type": "markdown",
   "metadata": {},
   "source": [
    "### Construct a series of constant density, spherical dust-free models of density n = 100 cm$^{−3}$ with average ionization parameter log U = −2 ionized by a star radiating as a blackbody at a temperature of 50000K, where the metallicity varies from 0.01 Z$_\\odot$ to 3 Z$_\\odot$. Plot the following parameters, as a function of metallicity: outer radius, average temperatures and ionic fractions of O$^+$ and O$^{++}$, [O II] $\\lambda$ 3727/H$\\beta$, [O III] $\\lambda$ 5007/H$\\beta$, [O III] $\\lambda$ 88$\\mu$m/H$\\beta$."
   ]
  },
  {
   "cell_type": "markdown",
   "metadata": {},
   "source": [
    "##### We define some commands to speed-up Cloudy."
   ]
  },
  {
   "cell_type": "code",
   "execution_count": null,
   "metadata": {
    "collapsed": false
   },
   "outputs": [],
   "source": [
    "options = ('no molecules',\n",
    "           'no level2 lines',\n",
    "           'no fine opacities',\n",
    "           'atom h-like levels small',\n",
    "           'atom he-like levels small',\n",
    "           'element limit off -7'\n",
    "            )"
   ]
  },
  {
   "cell_type": "markdown",
   "metadata": {},
   "source": [
    "##### We define a function that computes and returns the inner radius and the number of ionizing photons emitted by the source (Q0) needed to obtain a given mean logU, for a given geometry factor fr, hydrogen density NH and filling factor ff."
   ]
  },
  {
   "cell_type": "code",
   "execution_count": null,
   "metadata": {
    "collapsed": false
   },
   "outputs": [],
   "source": [
    "def get_R_in_Q0(logU, fr, NH=100, ff=1.0):\n",
    "    \"\"\"\n",
    "    Return the inner radius and the Q0 for a given mean logU, fr, nH and ff\n",
    "    Parameters:\n",
    "        - logU : mean ionization parameter\n",
    "        - fr = R_in / R_Str\n",
    "        - \n",
    "    \"\"\"\n",
    "    c = pc.CST.CLIGHT\n",
    "    U_mean = 10**logU\n",
    "    w = (1 + fr**3.)**(1./3) - fr\n",
    "    alpha_B = 2.6e-13\n",
    "    Q0 = 4. * np.pi * c**3 * U_mean**3 / (3. * NH * ff**2 * alpha_B**2 * w**3)\n",
    "    R_str = (3. * Q0 / (4 * np.pi * NH**2 * alpha_B * ff))**(1./3)\n",
    "    R_in = fr * R_str\n",
    "    return R_in, Q0"
   ]
  },
  {
   "cell_type": "markdown",
   "metadata": {},
   "source": [
    "##### We import the Asplund (2009) abundances and the depletion factors used in Cloudy."
   ]
  },
  {
   "cell_type": "code",
   "execution_count": null,
   "metadata": {
    "collapsed": false
   },
   "outputs": [],
   "source": [
    "from pyCloudy.utils.physics import abund_Asplund_2009, depletion_cloudy_13\n",
    "ab_O = abund_Asplund_2009['O']"
   ]
  },
  {
   "cell_type": "markdown",
   "metadata": {},
   "source": [
    "##### We define a function that generate the Cloudy input file."
   ]
  },
  {
   "cell_type": "code",
   "execution_count": null,
   "metadata": {
    "collapsed": false
   },
   "outputs": [],
   "source": [
    "def make_mod2(name, delta_O, grains=False, depletion=False):\n",
    "    NH = 100\n",
    "    ff = 1.0\n",
    "    R_in, Q0 = get_R_in_Q0(logU=-2, fr=0.03, NH=NH, ff=ff)\n",
    "    abund = abund_Asplund_2009.copy()\n",
    "    deplet = depletion_cloudy_13.copy()\n",
    "    for elem in abund:\n",
    "        if elem != 'He':\n",
    "            abund[elem] += delta_O\n",
    "        if depletion:\n",
    "            abund[elem] += np.log10(deplet[elem])\n",
    "    c_input = pc.CloudyInput('{0}/{1}'.format(models_dir, name))\n",
    "    c_input.set_BB(Teff = 50000., lumi_unit = 'q(H)', lumi_value = np.log10(Q0))\n",
    "    c_input.set_cste_density(np.log10(NH), ff = ff)\n",
    "    c_input.set_radius(r_in = np.log10(R_in))\n",
    "    c_input.set_abund(ab_dict = abund)\n",
    "    if grains:\n",
    "        c_input.set_grains('Orion {}'.format(10**delta_O))\n",
    "    c_input.set_distance(dist=1., unit='kpc', linear=True)\n",
    "    c_input.set_other(options)\n",
    "    c_input.set_stop(('temperature off', 'pfrac 0.02'))\n",
    "    c_input.set_emis_tab(['BLND  3727.00', 'O  3  5006.84', 'H  1  4861.36', 'O  3  88.33m'])\n",
    "    c_input.print_input()"
   ]
  },
  {
   "cell_type": "code",
   "execution_count": null,
   "metadata": {
    "collapsed": false
   },
   "outputs": [],
   "source": [
    "generic_name = 'M6_10'"
   ]
  },
  {
   "cell_type": "markdown",
   "metadata": {},
   "source": [
    "##### We loop on the $\\Delta$ O/H."
   ]
  },
  {
   "cell_type": "code",
   "execution_count": null,
   "metadata": {
    "collapsed": false
   },
   "outputs": [],
   "source": [
    "for delta_O in np.linspace(-2, 0.5, 10):\n",
    "    name = '{}_{:.2f}'.format(generic_name, delta_O)\n",
    "    make_mod2(name, delta_O)"
   ]
  },
  {
   "cell_type": "markdown",
   "metadata": {},
   "source": [
    "##### We run the Cloudy models using 4 processors (adapt to your machine)."
   ]
  },
  {
   "cell_type": "code",
   "execution_count": null,
   "metadata": {
    "collapsed": false
   },
   "outputs": [],
   "source": [
    "pc.run_cloudy(dir_=models_dir, n_proc=8, use_make=True, model_name=generic_name)"
   ]
  },
  {
   "cell_type": "markdown",
   "metadata": {},
   "source": [
    "##### We read the models in a list."
   ]
  },
  {
   "cell_type": "code",
   "execution_count": null,
   "metadata": {
    "collapsed": false
   },
   "outputs": [],
   "source": [
    "pc.log_.level=2\n",
    "Ms = pc.load_models(model_name='{}/{}'.format(models_dir, generic_name))"
   ]
  },
  {
   "cell_type": "markdown",
   "metadata": {},
   "source": [
    "##### We check that the Ms list contains the 10 models."
   ]
  },
  {
   "cell_type": "code",
   "execution_count": null,
   "metadata": {
    "collapsed": false
   },
   "outputs": [],
   "source": [
    "print(Ms)"
   ]
  },
  {
   "cell_type": "markdown",
   "metadata": {},
   "source": [
    "##### We print the emission line labels."
   ]
  },
  {
   "cell_type": "code",
   "execution_count": null,
   "metadata": {
    "collapsed": false
   },
   "outputs": [],
   "source": [
    "Ms[0].emis_labels"
   ]
  },
  {
   "cell_type": "markdown",
   "metadata": {},
   "source": [
    "##### We define a list containing the $\\Delta$ O/H for each model."
   ]
  },
  {
   "cell_type": "code",
   "execution_count": null,
   "metadata": {
    "collapsed": false
   },
   "outputs": [],
   "source": [
    "ab_O_sol = abund_Asplund_2009['O']\n",
    "ab_O = [M.abund['O'] - ab_O_sol for M in Ms]\n",
    "print(ab_O)"
   ]
  },
  {
   "cell_type": "markdown",
   "metadata": {},
   "source": [
    "##### We plot the different parameters as a function of $\\Delta$ O/H."
   ]
  },
  {
   "cell_type": "code",
   "execution_count": null,
   "metadata": {
    "collapsed": false
   },
   "outputs": [],
   "source": [
    "f, axes = plt.subplots(4, 2, figsize=(12,12))\n",
    "msize = 40\n",
    "axes[0, 0].scatter(ab_O, [M.T0 for M in Ms], edgecolor='none', s=msize)\n",
    "axes[0, 0].set_ylabel('Te')\n",
    "axes[0, 1].scatter(ab_O, [M.r_out for M in Ms], edgecolor='none', s=msize)\n",
    "axes[0, 1].set_ylabel('Rout')\n",
    "axes[1, 0].scatter(ab_O, [M.get_ab_ion_vol_ne('O', 1) for M in Ms], \n",
    "                   edgecolor='none', s=msize)\n",
    "axes[1, 0].set_ylabel('O+/O')\n",
    "axes[1, 1].scatter(ab_O, [M.get_ab_ion_vol_ne('O', 2) for M in Ms], \n",
    "                   edgecolor='none', s=msize)\n",
    "axes[1, 1].set_ylabel('O++/O')\n",
    "axes[2, 0].scatter(ab_O, [M.get_emis_vol('BLND_372700A')/M.get_emis_vol('H__1_486136A') \n",
    "                          for M in Ms], edgecolor='none', s=msize)\n",
    "axes[2, 0].set_ylabel(r'[OII]/H$\\beta$')\n",
    "axes[2, 1].scatter(ab_O, [M.get_emis_vol('O__3_500684A')/M.get_emis_vol('H__1_486136A') \n",
    "                          for M in Ms], edgecolor='none', s=msize)\n",
    "axes[2, 1].set_ylabel(r'[OIII]/H$\\beta$')\n",
    "axes[3, 0].scatter(ab_O, [M.get_emis_vol('O__3_883300M')/M.get_emis_vol('H__1_486136A') \n",
    "                          for M in Ms], edgecolor='none', s=msize)\n",
    "axes[3, 0].set_ylabel(r'[OIII] 88$\\mu$m/H$\\beta$')\n",
    "axes[3, 1].scatter(ab_O, [M.log_U_mean\n",
    "                          for M in Ms], edgecolor='none', s=msize)\n",
    "axes[3, 1].set_ylabel('<logU>')\n",
    "axes[3, 0].set_xlabel('log(O/H) - log(O/H sun)')\n",
    "f.tight_layout()"
   ]
  },
  {
   "cell_type": "markdown",
   "metadata": {},
   "source": [
    "### Do the same, adding dust with Orion-type grains, with dust-to-gas ratio proportional to metallicity"
   ]
  },
  {
   "cell_type": "code",
   "execution_count": null,
   "metadata": {
    "collapsed": false
   },
   "outputs": [],
   "source": [
    "generic_name = 'M6_11'"
   ]
  },
  {
   "cell_type": "code",
   "execution_count": null,
   "metadata": {
    "collapsed": false
   },
   "outputs": [],
   "source": [
    "for delta_O in np.linspace(-2, 0.5, 10):\n",
    "    name = '{}_{:.2f}'.format(generic_name, delta_O)\n",
    "    make_mod2(name, delta_O, grains=True)"
   ]
  },
  {
   "cell_type": "code",
   "execution_count": null,
   "metadata": {
    "collapsed": false
   },
   "outputs": [],
   "source": [
    "pc.run_cloudy(dir_=models_dir, n_proc=8, use_make=True, model_name=generic_name)"
   ]
  },
  {
   "cell_type": "code",
   "execution_count": null,
   "metadata": {
    "collapsed": false
   },
   "outputs": [],
   "source": [
    "Ms2 = pc.load_models(model_name='{}/{}'.format(models_dir, generic_name))"
   ]
  },
  {
   "cell_type": "code",
   "execution_count": null,
   "metadata": {
    "collapsed": false
   },
   "outputs": [],
   "source": [
    "ab_O_sol = abund_Asplund_2009['O']\n",
    "msize=40\n",
    "def plot_res(Ms, axes, color=None):\n",
    "    if color is None:\n",
    "        color = 'blue'\n",
    "    ab_O = [M.abund['O'] - ab_O_sol for M in Ms]\n",
    "    axes[0, 0].scatter(ab_O, [M.T0 for M in Ms], edgecolor='none', \n",
    "                       color=color, s=msize)\n",
    "    axes[0, 1].scatter(ab_O, [M.r_out for M in Ms], edgecolor='none', \n",
    "                       color=color, s=msize)\n",
    "    axes[1, 0].scatter(ab_O, [M.get_ab_ion_vol_ne('O', 1) for M in Ms],\n",
    "                       color=color, edgecolor='none', s=msize)\n",
    "    axes[1, 1].scatter(ab_O, [M.get_ab_ion_vol_ne('O', 2) for M in Ms], \n",
    "                       edgecolor='none', color=color, s=msize)\n",
    "    axes[2, 0].scatter(ab_O, [M.get_emis_vol('BLND_372700A')/M.get_emis_vol('H__1_486136A') \n",
    "                              for M in Ms], edgecolor='none', color=color, s=msize)\n",
    "    axes[2, 1].scatter(ab_O, [M.get_emis_vol('O__3_500684A')/M.get_emis_vol('H__1_486136A') \n",
    "                              for M in Ms], edgecolor='none', color=color, s=msize)\n",
    "    axes[3, 0].scatter(ab_O, [M.get_emis_vol('O__3_883300M')/M.get_emis_vol('H__1_486136A') \n",
    "                              for M in Ms], edgecolor='none', color=color, s=msize)\n",
    "    axes[3, 1].scatter(ab_O, [M.log_U_mean\n",
    "                              for M in Ms], edgecolor='none', color=color, s=msize)\n",
    "    axes[4, 0].scatter(ab_O, [M.get_emis_vol('H__1_486136A')\n",
    "                              for M in Ms], edgecolor='none', color=color, s=msize)\n",
    "    axes[0,0].set_ylabel('Te')\n",
    "    axes[0,1].set_ylabel('Rout')\n",
    "    axes[1,0].set_ylabel('O+/O')\n",
    "    axes[1,1].set_ylabel('O++/O')\n",
    "    axes[2,0].set_ylabel(r'[OII]3727A/H$\\beta$')\n",
    "    axes[2,1].set_ylabel(r'[OIII]5007A/H$\\beta$')\n",
    "    axes[3,0].set_ylabel(r'[OIII]88$\\mu$m/H$\\beta$')\n",
    "    axes[3,1].set_ylabel('<logU>')\n",
    "    axes[4,0].set_ylabel(r'H$\\beta$')\n",
    "    axes[4,0].set_xlabel('log(O/H) - log(O/H sun)')\n",
    "    f=plt.gcf()\n",
    "    f.tight_layout()"
   ]
  },
  {
   "cell_type": "code",
   "execution_count": null,
   "metadata": {
    "collapsed": false
   },
   "outputs": [],
   "source": [
    "f, axes = plt.subplots(5, 2, figsize=(12,16))\n",
    "plot_res(Ms, axes)\n",
    "plot_res(Ms2, axes, color='red')"
   ]
  },
  {
   "cell_type": "markdown",
   "metadata": {},
   "source": [
    "### ??? Comment on the results"
   ]
  },
  {
   "cell_type": "markdown",
   "metadata": {},
   "source": [
    "### Do the same, now depleting the gas abundances according to the dust content."
   ]
  },
  {
   "cell_type": "code",
   "execution_count": null,
   "metadata": {
    "collapsed": false
   },
   "outputs": [],
   "source": [
    "generic_name = 'M6_12'"
   ]
  },
  {
   "cell_type": "code",
   "execution_count": null,
   "metadata": {
    "collapsed": false
   },
   "outputs": [],
   "source": [
    "for delta_O in np.linspace(-2, 0.5, 10):\n",
    "    name = '{}_{:.2f}'.format(generic_name, delta_O)\n",
    "    make_mod2(name, delta_O, grains=True, depletion=True)"
   ]
  },
  {
   "cell_type": "code",
   "execution_count": null,
   "metadata": {
    "collapsed": false
   },
   "outputs": [],
   "source": [
    "pc.run_cloudy(dir_=models_dir, n_proc=8, use_make=True, model_name=generic_name)"
   ]
  },
  {
   "cell_type": "code",
   "execution_count": null,
   "metadata": {
    "collapsed": false
   },
   "outputs": [],
   "source": [
    "Ms3 = pc.load_models(model_name='{}/{}'.format(models_dir, generic_name))"
   ]
  },
  {
   "cell_type": "code",
   "execution_count": null,
   "metadata": {
    "collapsed": false
   },
   "outputs": [],
   "source": [
    "f, axes = plt.subplots(5, 2, figsize=(12,12))\n",
    "plot_res(Ms, axes)\n",
    "plot_res(Ms2, axes, color='red')\n",
    "plot_res(Ms3, axes, color='green')\n",
    "f.tight_layout()"
   ]
  },
  {
   "cell_type": "markdown",
   "metadata": {},
   "source": [
    "### ??? Comment on the results"
   ]
  },
  {
   "cell_type": "code",
   "execution_count": 1,
   "metadata": {
    "collapsed": false
   },
   "outputs": [
    {
     "data": {
      "text/html": [
       "<style>\n",
       "    @font-face {\n",
       "        font-family: \"Computer Modern\";\n",
       "        src: url('http://9dbb143991406a7c655e-aa5fcb0a5a4ec34cff238a2d56ca4144.r56.cf5.rackcdn.com/cmunss.otf');\n",
       "    }\n",
       "    @font-face {\n",
       "        font-family: \"Computer Modern\";\n",
       "        font-weight: bold;\n",
       "        src: url('http://9dbb143991406a7c655e-aa5fcb0a5a4ec34cff238a2d56ca4144.r56.cf5.rackcdn.com/cmunsx.otf');\n",
       "    }\n",
       "    @font-face {\n",
       "        font-family: \"Computer Modern\";\n",
       "        font-style: oblique;\n",
       "        src: url('http://9dbb143991406a7c655e-aa5fcb0a5a4ec34cff238a2d56ca4144.r56.cf5.rackcdn.com/cmunsi.otf');\n",
       "    }\n",
       "    @font-face {\n",
       "        font-family: \"Computer Modern\";\n",
       "        font-weight: bold;\n",
       "        font-style: oblique;\n",
       "        src: url('http://9dbb143991406a7c655e-aa5fcb0a5a4ec34cff238a2d56ca4144.r56.cf5.rackcdn.com/cmunso.otf');\n",
       "    }\n",
       "    div.cell{\n",
       "        width:800px;\n",
       "        margin-left:16% !important;\n",
       "        margin-right:auto;\n",
       "    }\n",
       "    div.text_cell_render{\n",
       "        font-family: Computer Modern, \"Helvetica Neue\", Arial, Helvetica, Geneva, sans-serif;\n",
       "        line-height: 145%;\n",
       "        font-size: 130%;\n",
       "        width:800px;\n",
       "        margin-left:auto;\n",
       "        margin-right:auto;\n",
       "    }\n",
       "    h1 {\n",
       "        font-family: Helvetica, serif;\n",
       "    }\n",
       "    \n",
       "    h3{\n",
       "        margin-top:12px;\n",
       "        margin-bottom: 3px;\n",
       "        margin-left: -10px;\n",
       "        background-color: #fcf2f2;\n",
       "        border-color: #dFb5b4;\n",
       "        border-left: 5px solid #dfb5b4;\n",
       "        padding: 0.5em;\n",
       "        font-weight:normal;\n",
       "    }\n",
       "    div.text_cell_render h3 {\n",
       "     font-size: 14pt;\n",
       "     font-weight:normal;\n",
       "    }\n",
       "    div.text_cell_render h5 {\n",
       "        font-size: 12pt;\n",
       "        color: #4057A1;\n",
       "        font-style: italic;\n",
       "        font-weight:normal;\n",
       "        margin-bottom: .0em;\n",
       "        margin-top: 0.0em;\n",
       "        display: block;\n",
       "    }\n",
       "    .CodeMirror{\n",
       "            font-family: \"Source Code Pro\", source-code-pro,Consolas, monospace;\n",
       "    }\n",
       "#    .prompt{\n",
       "#        display: None;\n",
       "#    }\n",
       "    .warning{\n",
       "        color: rgb( 240, 20, 20 )\n",
       "        }  \n",
       "</style>\n",
       "<script>\n",
       "    MathJax.Hub.Config({\n",
       "                        TeX: {\n",
       "                           extensions: [\"AMSmath.js\"]\n",
       "                           },\n",
       "                tex2jax: {\n",
       "                    inlineMath: [ ['$','$'], [\"\\\\(\",\"\\\\)\"] ],\n",
       "                    displayMath: [ ['$$','$$'], [\"\\\\[\",\"\\\\]\"] ]\n",
       "                },\n",
       "                displayAlign: 'center', // Change this to 'center' to center equations.\n",
       "                \"HTML-CSS\": {\n",
       "                    styles: {'.MathJax_Display': {\"margin\": 4}}\n",
       "                }\n",
       "        });\n",
       "</script>\n"
      ],
      "text/plain": [
       "<IPython.core.display.HTML object>"
      ]
     },
     "execution_count": 1,
     "metadata": {},
     "output_type": "execute_result"
    }
   ],
   "source": [
    "# the following is to have the nice style in the Notebook.\n",
    "# Don't remove this.\n",
    "from IPython.core.display import HTML\n",
    "def css_styling():\n",
    "    styles = open(\"./styles/custom.css\", \"r\").read()\n",
    "    return HTML(styles)\n",
    "css_styling()"
   ]
  },
  {
   "cell_type": "code",
   "execution_count": null,
   "metadata": {
    "collapsed": true
   },
   "outputs": [],
   "source": []
  }
 ],
 "metadata": {
  "kernelspec": {
   "display_name": "Python 3",
   "language": "python",
   "name": "python3"
  },
  "language_info": {
   "codemirror_mode": {
    "name": "ipython",
    "version": 3
   },
   "file_extension": ".py",
   "mimetype": "text/x-python",
   "name": "python",
   "nbconvert_exporter": "python",
   "pygments_lexer": "ipython3",
   "version": "3.6.1"
  }
 },
 "nbformat": 4,
 "nbformat_minor": 0
}
